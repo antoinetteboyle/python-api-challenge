{
 "cells": [
  {
   "cell_type": "markdown",
   "metadata": {},
   "source": [
    "# WeatherPy\n",
    "----\n",
    "\n",
    "#### Note\n",
    "* Instructions have been included for each segment. You do not have to follow them exactly, but they are included to help you think through the steps."
   ]
  },
  {
   "cell_type": "code",
   "execution_count": 2,
   "metadata": {
    "scrolled": true
   },
   "outputs": [],
   "source": [
    "# Dependencies and Setup\n",
    "import matplotlib.pyplot as plt\n",
    "import pandas as pd\n",
    "import numpy as np\n",
    "import requests\n",
    "import time\n",
    "from scipy.stats import linregress\n",
    "import scipy.stats as st\n",
    "\n",
    "# Import API key\n",
    "from api_keys import weather_api_key\n",
    "\n",
    "# Incorporated citipy to determine city based on latitude and longitude\n",
    "from citipy import citipy\n",
    "\n",
    "# Output File (CSV)\n",
    "output_data_file = \"output_data/cities.csv\"\n",
    "\n",
    "# Range of latitudes and longitudes\n",
    "lat_range = (-90, 90)\n",
    "lng_range = (-180, 180)"
   ]
  },
  {
   "cell_type": "markdown",
   "metadata": {},
   "source": [
    "## Generate Cities List"
   ]
  },
  {
   "cell_type": "code",
   "execution_count": 3,
   "metadata": {},
   "outputs": [
    {
     "data": {
      "text/plain": [
       "618"
      ]
     },
     "execution_count": 3,
     "metadata": {},
     "output_type": "execute_result"
    }
   ],
   "source": [
    "# List for holding lat_lngs and cities\n",
    "lat_lngs = []\n",
    "cities = []\n",
    "\n",
    "# Create a set of random lat and lng combinations\n",
    "lats = np.random.uniform(lat_range[0], lat_range[1], size=1500)\n",
    "lngs = np.random.uniform(lng_range[0], lng_range[1], size=1500)\n",
    "lat_lngs = zip(lats, lngs)\n",
    "\n",
    "# Identify nearest city for each lat, lng combination\n",
    "for lat_lng in lat_lngs:\n",
    "    city = citipy.nearest_city(lat_lng[0], lat_lng[1]).city_name\n",
    "    \n",
    "    # If the city is unique, then add it to a our cities list\n",
    "    if city not in cities:\n",
    "        cities.append(city)\n",
    "\n",
    "# Print the city count to confirm sufficient count\n",
    "len(cities)"
   ]
  },
  {
   "cell_type": "markdown",
   "metadata": {},
   "source": [
    "### Perform API Calls\n",
    "* Perform a weather check on each city using a series of successive API calls.\n",
    "* Include a print log of each city as it'sbeing processed (with the city number and city name).\n",
    "\n",
    "> **HINT:** The OpenWeatherMap API only allows 60 calls per minute under their free plan. Try using `time.sleep(60)` after each set of 50 cities to avoid API errors due to large calls."
   ]
  },
  {
   "cell_type": "code",
   "execution_count": 4,
   "metadata": {},
   "outputs": [
    {
     "name": "stdout",
     "output_type": "stream",
     "text": [
      "Beginning Data Retrieval\n",
      "Processing Weather Record: 0 of Set 1 | butaritari\n",
      "City butaritari found! Appending response\n",
      "Processing Weather Record: 1 of Set 1 | andreyevka\n",
      "City andreyevka found! Appending response\n",
      "Processing Weather Record: 2 of Set 1 | lompoc\n",
      "City lompoc found! Appending response\n",
      "Processing Weather Record: 3 of Set 1 | dikson\n",
      "City dikson found! Appending response\n",
      "Processing Weather Record: 4 of Set 1 | cherskiy\n",
      "City cherskiy found! Appending response\n",
      "Processing Weather Record: 5 of Set 1 | karamken\n",
      "City karamken was not found! Skipping...\n",
      "Processing Weather Record: 6 of Set 1 | rikitea\n",
      "City rikitea found! Appending response\n",
      "Processing Weather Record: 7 of Set 1 | batagay\n",
      "City batagay found! Appending response\n",
      "Processing Weather Record: 8 of Set 1 | punta arenas\n",
      "City punta arenas found! Appending response\n",
      "Processing Weather Record: 9 of Set 1 | coquimbo\n",
      "City coquimbo found! Appending response\n"
     ]
    }
   ],
   "source": [
    "url = \"http://api.openweathermap.org/data/2.5/weather?\"\n",
    "city_city = []\n",
    "city_lat = []\n",
    "city_lng = []\n",
    "city_max = []\n",
    "city_temp = []\n",
    "city_humidity = []\n",
    "city_cloudiness = []\n",
    "city_windspeed = []\n",
    "city_country = []\n",
    "city_date = []\n",
    "\n",
    "count = 0\n",
    "set = 1\n",
    "print(\"Beginning Data Retrieval\")\n",
    "\n",
    "#Make a request for each of the cities\n",
    "for x in range(10):\n",
    "#for x in range(len(cities)):\n",
    "        count = count + 1\n",
    "   \n",
    "        if count <= 50:\n",
    "            print(f\"Processing Weather Record: {x} of Set {set} | {cities[x]}\")\n",
    "            query_url = f\"{url}appid={weather_api_key}&q={cities[x]}\"\n",
    "            response = requests.get(query_url).json()\n",
    "                \n",
    "            try:     \n",
    "                #lat = weather_json[\"coord\"][\"lat\"]\n",
    "                city_city.append(response[\"name\"])\n",
    "                city_lat.append(response[\"coord\"][\"lat\"])\n",
    "                city_lng.append(response[\"coord\"][\"lon\"])\n",
    "                city_max.append(response[\"main\"][\"temp_max\"])\n",
    "                city_temp.append(response[\"main\"][\"temp\"])\n",
    "                city_humidity.append(response[\"main\"][\"humidity\"])\n",
    "                city_cloudiness.append(response[\"clouds\"][\"all\"])\n",
    "                city_windspeed.append(response[\"wind\"][\"speed\"])\n",
    "                city_country.append(response[\"sys\"][\"country\"])\n",
    "                city_date.append(response[\"dt\"])     \n",
    "                print(f\"City {cities[x]} found! Appending response\")\n",
    "            except:\n",
    "                print(f\"City {cities[x]} was not found! Skipping...\")\n",
    "                pass\n",
    "        \n",
    "        else:\n",
    "            count = 0\n",
    "            set = set + 1\n",
    "            time.sleep(50)"
   ]
  },
  {
   "cell_type": "code",
   "execution_count": 13,
   "metadata": {
    "scrolled": true
   },
   "outputs": [
    {
     "name": "stdout",
     "output_type": "stream",
     "text": [
      "Beginning Data Retrieval     \n",
      "-----------------------------\n",
      "Processing Record 1 of Set 1 | butaritari\n",
      "Processing Record 2 of Set 1 | yerbogachen\n",
      "Processing Record 3 of Set 1 | cape town\n",
      "Processing Record 4 of Set 1 | touba\n",
      "Processing Record 5 of Set 1 | jamestown\n",
      "Processing Record 6 of Set 1 | rio grande\n",
      "Processing Record 7 of Set 1 | ibra\n",
      "Processing Record 8 of Set 1 | port elizabeth\n",
      "Processing Record 9 of Set 1 | tuktoyaktuk\n",
      "Processing Record 10 of Set 1 | avarua\n",
      "Processing Record 11 of Set 1 | nemuro\n",
      "Processing Record 12 of Set 1 | morgan city\n",
      "Processing Record 13 of Set 1 | hobart\n",
      "Processing Record 14 of Set 1 | kawalu\n",
      "Processing Record 15 of Set 1 | hami\n",
      "Processing Record 16 of Set 1 | ushuaia\n",
      "Processing Record 17 of Set 1 | katsuura\n",
      "Processing Record 18 of Set 1 | hjallerup\n",
      "Processing Record 19 of Set 1 | punta arenas\n",
      "Processing Record 20 of Set 1 | bengkulu\n",
      "Processing Record 21 of Set 1 | victoria\n",
      "Processing Record 22 of Set 1 | rangapara\n",
      "Processing Record 23 of Set 1 | hithadhoo\n",
      "Processing Record 24 of Set 1 | khatanga\n",
      "Processing Record 25 of Set 1 | saint-philippe\n",
      "Processing Record 26 of Set 1 | rikitea\n",
      "Processing Record 27 of Set 1 | ust-kamchatsk\n",
      "City not found. Skipping...\n",
      "Processing Record 28 of Set 1 | kota bahru\n",
      "Processing Record 29 of Set 1 | rocha\n",
      "Processing Record 30 of Set 1 | lebu\n",
      "Processing Record 31 of Set 1 | umm lajj\n",
      "Processing Record 32 of Set 1 | zvenyhorodka\n",
      "Processing Record 33 of Set 1 | mataura\n",
      "Processing Record 34 of Set 1 | albany\n",
      "Processing Record 35 of Set 1 | illoqqortoormiut\n",
      "City not found. Skipping...\n",
      "Processing Record 36 of Set 1 | east london\n",
      "Processing Record 37 of Set 1 | hermanus\n",
      "Processing Record 38 of Set 1 | bluff\n",
      "Processing Record 39 of Set 1 | ayan\n",
      "Processing Record 40 of Set 1 | cherskiy\n",
      "Processing Record 41 of Set 1 | mount isa\n",
      "Processing Record 42 of Set 1 | beringovskiy\n",
      "Processing Record 43 of Set 1 | shu\n",
      "Processing Record 44 of Set 1 | severo-kurilsk\n",
      "Processing Record 45 of Set 1 | busselton\n",
      "Processing Record 46 of Set 1 | tasiilaq\n",
      "Processing Record 47 of Set 1 | tarudant\n",
      "City not found. Skipping...\n",
      "Processing Record 48 of Set 1 | qaanaaq\n",
      "Processing Record 49 of Set 1 | bandarbeyla\n",
      "Processing Record 50 of Set 1 | isla vista\n",
      "Processing Record 0 of Set 2 | arroyo\n",
      "Processing Record 1 of Set 2 | grand river south east\n",
      "City not found. Skipping...\n",
      "Processing Record 2 of Set 2 | tura\n",
      "Processing Record 3 of Set 2 | nizhneyansk\n",
      "City not found. Skipping...\n",
      "Processing Record 4 of Set 2 | caimito\n",
      "Processing Record 5 of Set 2 | amalapuram\n",
      "Processing Record 6 of Set 2 | moree\n",
      "Processing Record 7 of Set 2 | chuy\n",
      "Processing Record 8 of Set 2 | san patricio\n",
      "Processing Record 9 of Set 2 | kiunga\n",
      "Processing Record 10 of Set 2 | antalaha\n",
      "Processing Record 11 of Set 2 | vaitupu\n",
      "City not found. Skipping...\n",
      "Processing Record 12 of Set 2 | barentsburg\n",
      "City not found. Skipping...\n",
      "Processing Record 13 of Set 2 | tsihombe\n",
      "City not found. Skipping...\n",
      "Processing Record 14 of Set 2 | eureka\n",
      "Processing Record 15 of Set 2 | ust-maya\n",
      "Processing Record 16 of Set 2 | barraute\n",
      "Processing Record 17 of Set 2 | castro\n",
      "Processing Record 18 of Set 2 | saint george\n",
      "Processing Record 19 of Set 2 | marcona\n",
      "City not found. Skipping...\n",
      "Processing Record 20 of Set 2 | farafangana\n",
      "Processing Record 21 of Set 2 | mporokoso\n",
      "Processing Record 22 of Set 2 | leningradskiy\n",
      "Processing Record 23 of Set 2 | hamilton\n",
      "Processing Record 24 of Set 2 | yumen\n",
      "Processing Record 25 of Set 2 | vao\n",
      "Processing Record 26 of Set 2 | saldanha\n",
      "Processing Record 27 of Set 2 | bolungarvik\n",
      "City not found. Skipping...\n",
      "Processing Record 28 of Set 2 | shenzhen\n",
      "Processing Record 29 of Set 2 | dingle\n",
      "Processing Record 30 of Set 2 | labuhan\n",
      "Processing Record 31 of Set 2 | isangel\n",
      "Processing Record 32 of Set 2 | salalah\n",
      "Processing Record 33 of Set 2 | zhangjiakou\n",
      "Processing Record 34 of Set 2 | olga\n",
      "Processing Record 35 of Set 2 | luganville\n",
      "Processing Record 36 of Set 2 | jinchang\n",
      "Processing Record 37 of Set 2 | lagoa\n",
      "Processing Record 38 of Set 2 | strezhevoy\n",
      "Processing Record 39 of Set 2 | bauchi\n",
      "Processing Record 40 of Set 2 | shimoda\n",
      "Processing Record 41 of Set 2 | kieta\n",
      "Processing Record 42 of Set 2 | tidore\n",
      "City not found. Skipping...\n",
      "Processing Record 43 of Set 2 | poum\n",
      "Processing Record 44 of Set 2 | san cristobal\n",
      "Processing Record 45 of Set 2 | vaini\n",
      "Processing Record 46 of Set 2 | pisco\n",
      "Processing Record 47 of Set 2 | kruisfontein\n",
      "Processing Record 48 of Set 2 | conde\n",
      "Processing Record 49 of Set 2 | sal rei\n",
      "Processing Record 0 of Set 3 | dikson\n",
      "Processing Record 1 of Set 3 | sentyabrskiy\n",
      "City not found. Skipping...\n",
      "Processing Record 2 of Set 3 | kapaa\n",
      "Processing Record 3 of Set 3 | samarinda\n",
      "Processing Record 4 of Set 3 | mwinilunga\n",
      "Processing Record 5 of Set 3 | chernyshkovskiy\n",
      "Processing Record 6 of Set 3 | takapau\n",
      "Processing Record 7 of Set 3 | hilo\n",
      "Processing Record 8 of Set 3 | kysyl-syr\n",
      "Processing Record 9 of Set 3 | butembo\n",
      "Processing Record 10 of Set 3 | narsaq\n",
      "Processing Record 11 of Set 3 | sao filipe\n",
      "Processing Record 12 of Set 3 | mahebourg\n",
      "Processing Record 13 of Set 3 | oktyabrskiy\n",
      "Processing Record 14 of Set 3 | malanje\n",
      "Processing Record 15 of Set 3 | topolog\n",
      "Processing Record 16 of Set 3 | bogorodskoye\n",
      "Processing Record 17 of Set 3 | thompson\n",
      "Processing Record 18 of Set 3 | georgetown\n",
      "Processing Record 19 of Set 3 | barrow\n",
      "Processing Record 20 of Set 3 | saint-paul\n",
      "Processing Record 21 of Set 3 | vanavara\n",
      "Processing Record 22 of Set 3 | mitsamiouli\n",
      "Processing Record 23 of Set 3 | mar del plata\n",
      "Processing Record 24 of Set 3 | port alfred\n",
      "Processing Record 25 of Set 3 | port lincoln\n",
      "Processing Record 26 of Set 3 | yuzhno-kurilsk\n",
      "Processing Record 27 of Set 3 | bethel\n",
      "Processing Record 28 of Set 3 | bredasdorp\n",
      "Processing Record 29 of Set 3 | pevek\n",
      "Processing Record 30 of Set 3 | yellowknife\n",
      "Processing Record 31 of Set 3 | flin flon\n",
      "Processing Record 32 of Set 3 | nikolskoye\n",
      "Processing Record 33 of Set 3 | buraydah\n",
      "Processing Record 34 of Set 3 | dauphin\n",
      "Processing Record 35 of Set 3 | estelle\n",
      "Processing Record 36 of Set 3 | shonguy\n",
      "Processing Record 37 of Set 3 | berlevag\n",
      "Processing Record 38 of Set 3 | boyuibe\n",
      "Processing Record 39 of Set 3 | airai\n",
      "Processing Record 40 of Set 3 | bambous virieux\n",
      "Processing Record 41 of Set 3 | kamenskoye\n",
      "City not found. Skipping...\n",
      "Processing Record 42 of Set 3 | ikalamavony\n",
      "Processing Record 43 of Set 3 | sur\n",
      "Processing Record 44 of Set 3 | arraial do cabo\n",
      "Processing Record 45 of Set 3 | coihueco\n",
      "Processing Record 46 of Set 3 | bubaque\n",
      "Processing Record 47 of Set 3 | codrington\n",
      "Processing Record 48 of Set 3 | new norfolk\n",
      "Processing Record 49 of Set 3 | laguna\n",
      "Processing Record 0 of Set 4 | port keats\n",
      "Processing Record 1 of Set 4 | cannington\n",
      "Processing Record 2 of Set 4 | hambantota\n",
      "Processing Record 3 of Set 4 | sorland\n",
      "Processing Record 4 of Set 4 | trelew\n",
      "Processing Record 5 of Set 4 | kumbhraj\n",
      "Processing Record 6 of Set 4 | san blas\n",
      "Processing Record 7 of Set 4 | haibowan\n",
      "City not found. Skipping...\n",
      "Processing Record 8 of Set 4 | buala\n",
      "Processing Record 9 of Set 4 | ocos\n",
      "Processing Record 10 of Set 4 | vestmannaeyjar\n",
      "Processing Record 11 of Set 4 | ponta do sol\n",
      "Processing Record 12 of Set 4 | taolanaro\n",
      "City not found. Skipping...\n",
      "Processing Record 13 of Set 4 | kalaleh\n",
      "Processing Record 14 of Set 4 | tornio\n",
      "Processing Record 15 of Set 4 | bar harbor\n",
      "Processing Record 16 of Set 4 | jiangyou\n",
      "Processing Record 17 of Set 4 | xingyi\n",
      "Processing Record 18 of Set 4 | ribeira grande\n",
      "Processing Record 19 of Set 4 | misratah\n",
      "Processing Record 20 of Set 4 | haines junction\n",
      "Processing Record 21 of Set 4 | petropavlovsk-kamchatskiy\n",
      "Processing Record 22 of Set 4 | cabo san lucas\n",
      "Processing Record 23 of Set 4 | elizabeth city\n",
      "Processing Record 24 of Set 4 | baiyin\n",
      "Processing Record 25 of Set 4 | matara\n",
      "Processing Record 26 of Set 4 | ambilobe\n",
      "Processing Record 27 of Set 4 | yelizovo\n",
      "Processing Record 28 of Set 4 | messina\n",
      "Processing Record 29 of Set 4 | bajo baudo\n",
      "City not found. Skipping...\n",
      "Processing Record 30 of Set 4 | puerto ayora\n",
      "Processing Record 31 of Set 4 | malindi\n",
      "Processing Record 32 of Set 4 | plettenberg bay\n",
      "Processing Record 33 of Set 4 | lorengau\n",
      "Processing Record 34 of Set 4 | hay river\n",
      "Processing Record 35 of Set 4 | kodiak\n"
     ]
    },
    {
     "name": "stdout",
     "output_type": "stream",
     "text": [
      "Processing Record 36 of Set 4 | chimbote\n",
      "Processing Record 37 of Set 4 | kanor\n",
      "Processing Record 38 of Set 4 | san pedro de uraba\n",
      "Processing Record 39 of Set 4 | taphan hin\n",
      "Processing Record 40 of Set 4 | upernavik\n",
      "Processing Record 41 of Set 4 | matagami\n",
      "Processing Record 42 of Set 4 | terme\n",
      "Processing Record 43 of Set 4 | coria\n",
      "Processing Record 44 of Set 4 | pallasovka\n",
      "Processing Record 45 of Set 4 | asyut\n",
      "Processing Record 46 of Set 4 | cockburn town\n",
      "Processing Record 47 of Set 4 | osypenko\n",
      "Processing Record 48 of Set 4 | sioux lookout\n",
      "Processing Record 49 of Set 4 | gotsu\n",
      "Processing Record 0 of Set 5 | abadan\n",
      "Processing Record 1 of Set 5 | lewistown\n",
      "Processing Record 2 of Set 5 | toftir\n",
      "City not found. Skipping...\n",
      "Processing Record 3 of Set 5 | fortuna\n",
      "Processing Record 4 of Set 5 | ostersund\n",
      "Processing Record 5 of Set 5 | calafell\n",
      "Processing Record 6 of Set 5 | panguna\n",
      "Processing Record 7 of Set 5 | nantucket\n",
      "Processing Record 8 of Set 5 | la ronge\n",
      "Processing Record 9 of Set 5 | harper\n",
      "Processing Record 10 of Set 5 | monte azul\n",
      "Processing Record 11 of Set 5 | binga\n",
      "Processing Record 12 of Set 5 | saskylakh\n",
      "Processing Record 13 of Set 5 | ushirombo\n",
      "Processing Record 14 of Set 5 | guerrero negro\n",
      "Processing Record 15 of Set 5 | sobradinho\n",
      "Processing Record 16 of Set 5 | saint-leu\n",
      "Processing Record 17 of Set 5 | rabo de peixe\n",
      "Processing Record 18 of Set 5 | cabedelo\n",
      "Processing Record 19 of Set 5 | esperance\n",
      "Processing Record 20 of Set 5 | grand gaube\n",
      "Processing Record 21 of Set 5 | kirakira\n",
      "Processing Record 22 of Set 5 | we\n",
      "City not found. Skipping...\n",
      "Processing Record 23 of Set 5 | vardo\n",
      "Processing Record 24 of Set 5 | mosetse\n",
      "Processing Record 25 of Set 5 | storforshei\n",
      "Processing Record 26 of Set 5 | nuuk\n",
      "Processing Record 27 of Set 5 | iqaluit\n",
      "Processing Record 28 of Set 5 | samusu\n",
      "City not found. Skipping...\n",
      "Processing Record 29 of Set 5 | lang suan\n",
      "Processing Record 30 of Set 5 | carnarvon\n",
      "Processing Record 31 of Set 5 | atuona\n",
      "Processing Record 32 of Set 5 | tiksi\n",
      "Processing Record 33 of Set 5 | kasempa\n",
      "Processing Record 34 of Set 5 | maldonado\n",
      "Processing Record 35 of Set 5 | ostrovnoy\n",
      "Processing Record 36 of Set 5 | amderma\n",
      "City not found. Skipping...\n",
      "Processing Record 37 of Set 5 | tacarigua\n",
      "Processing Record 38 of Set 5 | kahului\n",
      "Processing Record 39 of Set 5 | ilulissat\n",
      "Processing Record 40 of Set 5 | sitka\n",
      "Processing Record 41 of Set 5 | maryborough\n",
      "Processing Record 42 of Set 5 | belmonte\n",
      "Processing Record 43 of Set 5 | nalut\n",
      "Processing Record 44 of Set 5 | ginda\n",
      "Processing Record 45 of Set 5 | iquique\n",
      "Processing Record 46 of Set 5 | boa vista\n",
      "Processing Record 47 of Set 5 | hofn\n",
      "Processing Record 48 of Set 5 | fowa\n",
      "Processing Record 49 of Set 5 | coquimbo\n",
      "Processing Record 0 of Set 6 | rio gallegos\n",
      "Processing Record 1 of Set 6 | saint-pierre\n",
      "Processing Record 2 of Set 6 | hargeysa\n",
      "Processing Record 3 of Set 6 | ormara\n",
      "Processing Record 4 of Set 6 | husavik\n",
      "Processing Record 5 of Set 6 | nosy varika\n",
      "Processing Record 6 of Set 6 | lanzhou\n",
      "Processing Record 7 of Set 6 | umm kaddadah\n",
      "Processing Record 8 of Set 6 | muyezerskiy\n",
      "Processing Record 9 of Set 6 | boyolangu\n",
      "Processing Record 10 of Set 6 | tuatapere\n",
      "Processing Record 11 of Set 6 | yamada\n",
      "Processing Record 12 of Set 6 | makokou\n",
      "Processing Record 13 of Set 6 | ust-kuyga\n",
      "Processing Record 14 of Set 6 | teahupoo\n",
      "Processing Record 15 of Set 6 | yele\n",
      "Processing Record 16 of Set 6 | moose factory\n",
      "Processing Record 17 of Set 6 | baglung\n",
      "Processing Record 18 of Set 6 | cidreira\n",
      "Processing Record 19 of Set 6 | tairua\n",
      "Processing Record 20 of Set 6 | souillac\n",
      "Processing Record 21 of Set 6 | salta\n",
      "Processing Record 22 of Set 6 | belushya guba\n",
      "City not found. Skipping...\n",
      "Processing Record 23 of Set 6 | vung tau\n",
      "Processing Record 24 of Set 6 | ucluelet\n",
      "Processing Record 25 of Set 6 | aksarka\n",
      "Processing Record 26 of Set 6 | fairbanks\n",
      "Processing Record 27 of Set 6 | bonavista\n",
      "Processing Record 28 of Set 6 | kayerkan\n",
      "Processing Record 29 of Set 6 | chute-aux-outardes\n",
      "Processing Record 30 of Set 6 | leh\n",
      "Processing Record 31 of Set 6 | celestun\n",
      "Processing Record 32 of Set 6 | anderson\n",
      "Processing Record 33 of Set 6 | maldaeni\n",
      "Processing Record 34 of Set 6 | umzimvubu\n",
      "City not found. Skipping...\n",
      "Processing Record 35 of Set 6 | kaitong\n",
      "Processing Record 36 of Set 6 | kondopoga\n",
      "Processing Record 37 of Set 6 | tumannyy\n",
      "City not found. Skipping...\n",
      "Processing Record 38 of Set 6 | singkang\n",
      "Processing Record 39 of Set 6 | kyra\n",
      "Processing Record 40 of Set 6 | torbay\n",
      "Processing Record 41 of Set 6 | margate\n",
      "Processing Record 42 of Set 6 | faanui\n",
      "Processing Record 43 of Set 6 | hasaki\n",
      "Processing Record 44 of Set 6 | altay\n",
      "Processing Record 45 of Set 6 | akureyri\n",
      "Processing Record 46 of Set 6 | kurumkan\n",
      "Processing Record 47 of Set 6 | miracema do tocantins\n",
      "Processing Record 48 of Set 6 | ugoofaaru\n",
      "Processing Record 49 of Set 6 | ahipara\n",
      "Processing Record 0 of Set 7 | sorkjosen\n",
      "Processing Record 1 of Set 7 | talnakh\n",
      "Processing Record 2 of Set 7 | milkovo\n",
      "Processing Record 3 of Set 7 | vanimo\n",
      "Processing Record 4 of Set 7 | majene\n",
      "Processing Record 5 of Set 7 | alta floresta\n",
      "Processing Record 6 of Set 7 | kuche\n",
      "City not found. Skipping...\n",
      "Processing Record 7 of Set 7 | bluffton\n",
      "Processing Record 8 of Set 7 | lima\n",
      "Processing Record 9 of Set 7 | adrar\n",
      "Processing Record 10 of Set 7 | katangli\n",
      "Processing Record 11 of Set 7 | fort nelson\n",
      "Processing Record 12 of Set 7 | qinggang\n",
      "Processing Record 13 of Set 7 | aklavik\n",
      "Processing Record 14 of Set 7 | paracuru\n",
      "Processing Record 15 of Set 7 | bathsheba\n",
      "Processing Record 16 of Set 7 | pacifica\n",
      "Processing Record 17 of Set 7 | sept-iles\n",
      "Processing Record 18 of Set 7 | bereda\n",
      "Processing Record 19 of Set 7 | ancud\n",
      "Processing Record 20 of Set 7 | padang\n",
      "Processing Record 21 of Set 7 | honningsvag\n",
      "Processing Record 22 of Set 7 | pilar do sul\n",
      "Processing Record 23 of Set 7 | merauke\n",
      "Processing Record 24 of Set 7 | phonhong\n",
      "Processing Record 25 of Set 7 | zhuhai\n",
      "Processing Record 26 of Set 7 | havre-saint-pierre\n",
      "Processing Record 27 of Set 7 | san quintin\n",
      "Processing Record 28 of Set 7 | neiafu\n",
      "Processing Record 29 of Set 7 | labutta\n",
      "City not found. Skipping...\n",
      "Processing Record 30 of Set 7 | karaul\n",
      "City not found. Skipping...\n",
      "Processing Record 31 of Set 7 | weligama\n",
      "Processing Record 32 of Set 7 | gat\n",
      "Processing Record 33 of Set 7 | loiza\n",
      "Processing Record 34 of Set 7 | pacific grove\n",
      "Processing Record 35 of Set 7 | gawler\n",
      "Processing Record 36 of Set 7 | mount gambier\n",
      "Processing Record 37 of Set 7 | college\n",
      "Processing Record 38 of Set 7 | tomatlan\n",
      "Processing Record 39 of Set 7 | utiroa\n",
      "City not found. Skipping...\n",
      "Processing Record 40 of Set 7 | vostok\n",
      "Processing Record 41 of Set 7 | talaya\n",
      "Processing Record 42 of Set 7 | somanda\n",
      "Processing Record 43 of Set 7 | longyearbyen\n",
      "Processing Record 44 of Set 7 | zhigansk\n",
      "Processing Record 45 of Set 7 | thinadhoo\n",
      "Processing Record 46 of Set 7 | aripuana\n",
      "Processing Record 47 of Set 7 | brownsville\n",
      "Processing Record 48 of Set 7 | yenagoa\n",
      "Processing Record 49 of Set 7 | okhotsk\n",
      "Processing Record 0 of Set 8 | astara\n",
      "Processing Record 1 of Set 8 | lac-megantic\n",
      "Processing Record 2 of Set 8 | mutare\n",
      "Processing Record 3 of Set 8 | asau\n",
      "Processing Record 4 of Set 8 | acarau\n",
      "Processing Record 5 of Set 8 | praia\n",
      "Processing Record 6 of Set 8 | artyk\n",
      "City not found. Skipping...\n",
      "Processing Record 7 of Set 8 | balabac\n",
      "Processing Record 8 of Set 8 | porto novo\n",
      "Processing Record 9 of Set 8 | los llanos de aridane\n",
      "Processing Record 10 of Set 8 | shelburne\n",
      "Processing Record 11 of Set 8 | coihaique\n",
      "Processing Record 12 of Set 8 | montepuez\n",
      "Processing Record 13 of Set 8 | batagay\n",
      "Processing Record 14 of Set 8 | geraldton\n",
      "Processing Record 15 of Set 8 | port-cartier\n",
      "Processing Record 16 of Set 8 | tsumeb\n",
      "Processing Record 17 of Set 8 | meulaboh\n",
      "Processing Record 18 of Set 8 | korla\n",
      "Processing Record 19 of Set 8 | chapais\n",
      "Processing Record 20 of Set 8 | bozeman\n",
      "Processing Record 21 of Set 8 | muli\n",
      "Processing Record 22 of Set 8 | yar-sale\n",
      "Processing Record 23 of Set 8 | northam\n",
      "Processing Record 24 of Set 8 | barawe\n",
      "City not found. Skipping...\n",
      "Processing Record 25 of Set 8 | hervey bay\n",
      "Processing Record 26 of Set 8 | uchiza\n",
      "Processing Record 27 of Set 8 | mys shmidta\n"
     ]
    },
    {
     "name": "stdout",
     "output_type": "stream",
     "text": [
      "City not found. Skipping...\n",
      "Processing Record 28 of Set 8 | porto walter\n",
      "Processing Record 29 of Set 8 | horsham\n",
      "Processing Record 30 of Set 8 | maraa\n",
      "Processing Record 31 of Set 8 | vila franca do campo\n",
      "Processing Record 32 of Set 8 | garoua\n",
      "Processing Record 33 of Set 8 | kampot\n",
      "Processing Record 34 of Set 8 | marawi\n",
      "Processing Record 35 of Set 8 | egvekinot\n",
      "Processing Record 36 of Set 8 | liverpool\n",
      "Processing Record 37 of Set 8 | sanandaj\n",
      "Processing Record 38 of Set 8 | tabou\n",
      "Processing Record 39 of Set 8 | kavieng\n",
      "Processing Record 40 of Set 8 | cap malheureux\n",
      "Processing Record 41 of Set 8 | logan\n",
      "Processing Record 42 of Set 8 | klaksvik\n",
      "Processing Record 43 of Set 8 | sisimiut\n",
      "Processing Record 44 of Set 8 | whyalla\n",
      "Processing Record 45 of Set 8 | attawapiskat\n",
      "City not found. Skipping...\n",
      "Processing Record 46 of Set 8 | hailar\n",
      "Processing Record 47 of Set 8 | ajdabiya\n",
      "Processing Record 48 of Set 8 | saint-georges\n",
      "Processing Record 49 of Set 8 | hoopstad\n",
      "Processing Record 0 of Set 9 | emerald\n",
      "Processing Record 1 of Set 9 | flinders\n",
      "Processing Record 2 of Set 9 | fare\n",
      "Processing Record 3 of Set 9 | carballo\n",
      "Processing Record 4 of Set 9 | tan an\n",
      "Processing Record 5 of Set 9 | allapalli\n",
      "Processing Record 6 of Set 9 | santa maria\n",
      "Processing Record 7 of Set 9 | sesheke\n",
      "Processing Record 8 of Set 9 | tecoanapa\n",
      "Processing Record 9 of Set 9 | gaspe\n",
      "Processing Record 10 of Set 9 | carutapera\n",
      "Processing Record 11 of Set 9 | toba\n",
      "Processing Record 12 of Set 9 | neu wulmstorf\n",
      "Processing Record 13 of Set 9 | wakkanai\n",
      "Processing Record 14 of Set 9 | pierre\n",
      "Processing Record 15 of Set 9 | rungata\n",
      "City not found. Skipping...\n",
      "Processing Record 16 of Set 9 | arica\n",
      "Processing Record 17 of Set 9 | nsoko\n",
      "Processing Record 18 of Set 9 | krasnoarmeysk\n",
      "Processing Record 19 of Set 9 | juneau\n",
      "Processing Record 20 of Set 9 | chateauroux\n",
      "Processing Record 21 of Set 9 | kloulklubed\n",
      "Processing Record 22 of Set 9 | jiaozuo\n",
      "Processing Record 23 of Set 9 | tuburan\n",
      "Processing Record 24 of Set 9 | teknaf\n",
      "Processing Record 25 of Set 9 | makakilo city\n",
      "Processing Record 26 of Set 9 | sanski most\n",
      "Processing Record 27 of Set 9 | kaitangata\n",
      "Processing Record 28 of Set 9 | hengyang\n",
      "Processing Record 29 of Set 9 | talcahuano\n",
      "Processing Record 30 of Set 9 | arawa\n",
      "Processing Record 31 of Set 9 | mercedes\n",
      "Processing Record 32 of Set 9 | chengde\n",
      "Processing Record 33 of Set 9 | stokmarknes\n",
      "Processing Record 34 of Set 9 | kalpi\n",
      "Processing Record 35 of Set 9 | valdosta\n",
      "Processing Record 36 of Set 9 | chiampo\n",
      "Processing Record 37 of Set 9 | marsa matruh\n",
      "Processing Record 38 of Set 9 | nome\n",
      "Processing Record 39 of Set 9 | careva cuprija\n",
      "Processing Record 40 of Set 9 | port macquarie\n",
      "Processing Record 41 of Set 9 | lokosovo\n",
      "Processing Record 42 of Set 9 | rawson\n",
      "Processing Record 43 of Set 9 | skelleftea\n",
      "Processing Record 44 of Set 9 | nakasongola\n",
      "Processing Record 45 of Set 9 | lompoc\n",
      "Processing Record 46 of Set 9 | nizwa\n",
      "Processing Record 47 of Set 9 | sabang\n",
      "Processing Record 48 of Set 9 | noumea\n",
      "Processing Record 49 of Set 9 | ruteng\n",
      "Processing Record 0 of Set 10 | deputatskiy\n",
      "Processing Record 1 of Set 10 | sola\n",
      "Processing Record 2 of Set 10 | nikolayevka\n",
      "Processing Record 3 of Set 10 | tabas\n",
      "Processing Record 4 of Set 10 | qianan\n",
      "Processing Record 5 of Set 10 | vila velha\n",
      "Processing Record 6 of Set 10 | isperih\n",
      "Processing Record 7 of Set 10 | hamina\n",
      "Processing Record 8 of Set 10 | turukhansk\n",
      "Processing Record 9 of Set 10 | dodge city\n",
      "Processing Record 10 of Set 10 | espinosa\n",
      "Processing Record 11 of Set 10 | hayden\n",
      "Processing Record 12 of Set 10 | maniitsoq\n",
      "Processing Record 13 of Set 10 | camacha\n",
      "Processing Record 14 of Set 10 | vikramasingapuram\n",
      "Processing Record 15 of Set 10 | nanortalik\n",
      "Processing Record 16 of Set 10 | asmar\n",
      "Processing Record 17 of Set 10 | shingu\n",
      "Processing Record 18 of Set 10 | mattru\n",
      "Processing Record 19 of Set 10 | belgaum\n",
      "Processing Record 20 of Set 10 | taoudenni\n",
      "Processing Record 21 of Set 10 | lata\n",
      "Processing Record 22 of Set 10 | sao felix do xingu\n",
      "Processing Record 23 of Set 10 | rayachoti\n",
      "Processing Record 24 of Set 10 | sakakah\n",
      "Processing Record 25 of Set 10 | chokurdakh\n",
      "Processing Record 26 of Set 10 | konibodom\n",
      "Processing Record 27 of Set 10 | mabaruma\n",
      "Processing Record 28 of Set 10 | eyl\n",
      "Processing Record 29 of Set 10 | astoria\n",
      "Processing Record 30 of Set 10 | samarai\n",
      "Processing Record 31 of Set 10 | derzhavinsk\n",
      "Processing Record 32 of Set 10 | high level\n",
      "Processing Record 33 of Set 10 | opuwo\n",
      "Processing Record 34 of Set 10 | salinopolis\n",
      "Processing Record 35 of Set 10 | waipawa\n",
      "Processing Record 36 of Set 10 | aksu\n",
      "Processing Record 37 of Set 10 | saint paul\n",
      "Processing Record 38 of Set 10 | anadyr\n",
      "Processing Record 39 of Set 10 | inhambane\n",
      "Processing Record 40 of Set 10 | sakaiminato\n",
      "Processing Record 41 of Set 10 | santa cruz\n",
      "Processing Record 42 of Set 10 | russkaya polyana\n",
      "Processing Record 43 of Set 10 | beipiao\n",
      "Processing Record 44 of Set 10 | srednekolymsk\n",
      "Processing Record 45 of Set 10 | tripoli\n",
      "Processing Record 46 of Set 10 | swift current\n",
      "Processing Record 47 of Set 10 | quatre cocos\n",
      "Processing Record 48 of Set 10 | corbelia\n",
      "Processing Record 49 of Set 10 | roma\n",
      "Processing Record 0 of Set 11 | north bend\n",
      "Processing Record 1 of Set 11 | kiama\n",
      "Processing Record 2 of Set 11 | muroto\n",
      "Processing Record 3 of Set 11 | smidovich\n",
      "Processing Record 4 of Set 11 | conceicao do araguaia\n",
      "Processing Record 5 of Set 11 | ponta pora\n",
      "Processing Record 6 of Set 11 | bogatoye\n",
      "Processing Record 7 of Set 11 | muravlenko\n",
      "Processing Record 8 of Set 11 | avera\n",
      "Processing Record 9 of Set 11 | qiongshan\n",
      "Processing Record 10 of Set 11 | saint-augustin\n",
      "Processing Record 11 of Set 11 | yilan\n",
      "Processing Record 12 of Set 11 | port blair\n",
      "Processing Record 13 of Set 11 | shakawe\n",
      "Processing Record 14 of Set 11 | alghero\n",
      "Processing Record 15 of Set 11 | bud\n",
      "Processing Record 16 of Set 11 | kazalinsk\n",
      "City not found. Skipping...\n",
      "Processing Record 17 of Set 11 | karkaralinsk\n",
      "City not found. Skipping...\n",
      "Processing Record 18 of Set 11 | nouadhibou\n",
      "Processing Record 19 of Set 11 | palabuhanratu\n",
      "City not found. Skipping...\n",
      "Processing Record 20 of Set 11 | florianopolis\n",
      "Processing Record 21 of Set 11 | linjiang\n",
      "Processing Record 22 of Set 11 | krasnoselkup\n",
      "Processing Record 23 of Set 11 | maloy\n",
      "Processing Record 24 of Set 11 | itoman\n",
      "Processing Record 25 of Set 11 | aykhal\n",
      "Processing Record 26 of Set 11 | kalmeshwar\n",
      "Processing Record 27 of Set 11 | baracoa\n",
      "Processing Record 28 of Set 11 | gairo\n",
      "Processing Record 29 of Set 11 | seymchan\n",
      "Processing Record 30 of Set 11 | klaebu\n",
      "Processing Record 31 of Set 11 | beira\n",
      "Processing Record 32 of Set 11 | lebanon\n",
      "Processing Record 33 of Set 11 | cayenne\n",
      "Processing Record 34 of Set 11 | viedma\n",
      "Processing Record 35 of Set 11 | massape\n",
      "Processing Record 36 of Set 11 | arlit\n",
      "Processing Record 37 of Set 11 | soe\n",
      "Processing Record 38 of Set 11 | kempsey\n",
      "Processing Record 39 of Set 11 | saint-jean-port-joli\n",
      "Processing Record 40 of Set 11 | coahuayana\n",
      "Processing Record 41 of Set 11 | sao jose da coroa grande\n",
      "Processing Record 42 of Set 11 | kutum\n",
      "Processing Record 43 of Set 11 | las cruces\n",
      "Processing Record 44 of Set 11 | manta\n",
      "Processing Record 45 of Set 11 | mayumba\n",
      "Processing Record 46 of Set 11 | union\n",
      "Processing Record 47 of Set 11 | brae\n",
      "Processing Record 48 of Set 11 | otane\n",
      "Processing Record 49 of Set 11 | rio muerto\n",
      "Processing Record 0 of Set 12 | polunochnoye\n",
      "Processing Record 1 of Set 12 | artigas\n",
      "Processing Record 2 of Set 12 | lalibela\n",
      "Processing Record 3 of Set 12 | castelo branco\n",
      "Processing Record 4 of Set 12 | moron\n",
      "Processing Record 5 of Set 12 | naze\n",
      "Processing Record 6 of Set 12 | natal\n",
      "Processing Record 7 of Set 12 | ijaki\n",
      "City not found. Skipping...\n",
      "Processing Record 8 of Set 12 | walvis bay\n",
      "Processing Record 9 of Set 12 | tarbagatay\n",
      "Processing Record 10 of Set 12 | kamenka\n",
      "Processing Record 11 of Set 12 | qaqortoq\n",
      "Processing Record 12 of Set 12 | gorno-chuyskiy\n",
      "City not found. Skipping...\n",
      "Processing Record 13 of Set 12 | karratha\n",
      "Processing Record 14 of Set 12 | paita\n",
      "Processing Record 15 of Set 12 | aflu\n",
      "City not found. Skipping...\n",
      "Processing Record 16 of Set 12 | kaohsiung\n",
      "Processing Record 17 of Set 12 | shache\n",
      "Processing Record 18 of Set 12 | divnoye\n"
     ]
    },
    {
     "name": "stdout",
     "output_type": "stream",
     "text": [
      "Processing Record 19 of Set 12 | barra dos coqueiros\n",
      "Processing Record 20 of Set 12 | provideniya\n",
      "Processing Record 21 of Set 12 | norman wells\n",
      "Processing Record 22 of Set 12 | yuzhno-yeniseyskiy\n",
      "City not found. Skipping...\n",
      "Processing Record 23 of Set 12 | follonica\n",
      "Processing Record 24 of Set 12 | verkhoyansk\n",
      "Processing Record 25 of Set 12 | henties bay\n",
      "Processing Record 26 of Set 12 | kudahuvadhoo\n",
      "Processing Record 27 of Set 12 | bandundu\n",
      "Processing Record 28 of Set 12 | cascais\n",
      "Processing Record 29 of Set 12 | dickinson\n",
      "Processing Record 30 of Set 12 | san benito\n",
      "Processing Record 31 of Set 12 | kenai\n",
      "Processing Record 32 of Set 12 | rio pardo de minas\n",
      "Processing Record 33 of Set 12 | erzin\n",
      "Processing Record 34 of Set 12 | san carlos del zulia\n",
      "Processing Record 35 of Set 12 | kyshtovka\n",
      "Processing Record 36 of Set 12 | zima\n",
      "Processing Record 37 of Set 12 | khandbari\n",
      "Processing Record 38 of Set 12 | salyan\n",
      "Processing Record 39 of Set 12 | saint-joseph\n",
      "Processing Record 40 of Set 12 | tocopilla\n",
      "Processing Record 41 of Set 12 | ust-nera\n",
      "Processing Record 42 of Set 12 | yangambi\n",
      "Processing Record 43 of Set 12 | lolua\n",
      "City not found. Skipping...\n",
      "Processing Record 44 of Set 12 | shirakamut\n",
      "Processing Record 45 of Set 12 | berezovyy\n",
      "Processing Record 46 of Set 12 | dunedin\n",
      "Processing Record 47 of Set 12 | bonthe\n",
      "Processing Record 48 of Set 12 | sijunjung\n",
      "Processing Record 49 of Set 12 | wulanhaote\n",
      "City not found. Skipping...\n",
      "Processing Record 0 of Set 13 | atar\n",
      "Processing Record 1 of Set 13 | fayaoue\n",
      "Processing Record 2 of Set 13 | san lawrenz\n",
      "Processing Record 3 of Set 13 | lashio\n",
      "Processing Record 4 of Set 13 | shenjiamen\n",
      "Processing Record 5 of Set 13 | longonjo\n",
      "Processing Record 6 of Set 13 | erenhot\n",
      "Processing Record 7 of Set 13 | prior lake\n",
      "Processing Record 8 of Set 13 | sao gabriel da cachoeira\n",
      "Processing Record 9 of Set 13 | billings\n",
      "Processing Record 10 of Set 13 | kalmunai\n",
      "Processing Record 11 of Set 13 | meadow lake\n",
      "Processing Record 12 of Set 13 | littleton\n",
      "Processing Record 13 of Set 13 | soloneshnoye\n",
      "Processing Record 14 of Set 13 | pravia\n",
      "Processing Record 15 of Set 13 | portland\n",
      "Processing Record 16 of Set 13 | singleton\n",
      "Processing Record 17 of Set 13 | karasjok\n",
      "Processing Record 18 of Set 13 | yaan\n",
      "Processing Record 19 of Set 13 | palauig\n",
      "Processing Record 20 of Set 13 | pochutla\n",
      "Processing Record 21 of Set 13 | obluche\n",
      "City not found. Skipping...\n",
      "Processing Record 22 of Set 13 | macusani\n",
      "Processing Record 23 of Set 13 | kaffrine\n",
      "Processing Record 24 of Set 13 | diamantina\n",
      "Processing Record 25 of Set 13 | saleaula\n",
      "City not found. Skipping...\n",
      "Processing Record 26 of Set 13 | middlebury\n",
      "Processing Record 27 of Set 13 | anju\n",
      "Processing Record 28 of Set 13 | la rioja\n",
      "Processing Record 29 of Set 13 | alofi\n",
      "Processing Record 30 of Set 13 | louisbourg\n",
      "City not found. Skipping...\n",
      "Processing Record 31 of Set 13 | palu\n",
      "Processing Record 32 of Set 13 | kuusamo\n",
      "Processing Record 33 of Set 13 | cap-aux-meules\n",
      "Processing Record 34 of Set 13 | palencia\n",
      "Processing Record 35 of Set 13 | maues\n",
      "Processing Record 36 of Set 13 | lososina\n",
      "Processing Record 37 of Set 13 | gorontalo\n",
      "Processing Record 38 of Set 13 | antalya\n",
      "Processing Record 39 of Set 13 | port hueneme\n",
      "Processing Record 40 of Set 13 | puerto colombia\n",
      "Processing Record 41 of Set 13 | sapele\n",
      "Processing Record 42 of Set 13 | bend\n",
      "-----------------------------\n",
      "Data Retrieval Complete      \n",
      "-----------------------------\n"
     ]
    }
   ],
   "source": []
  },
  {
   "cell_type": "markdown",
   "metadata": {},
   "source": [
    "### Convert Raw Data to DataFrame\n",
    "* Export the city data into a .csv.\n",
    "* Display the DataFrame"
   ]
  },
  {
   "cell_type": "code",
   "execution_count": 5,
   "metadata": {},
   "outputs": [
    {
     "data": {
      "text/html": [
       "<div>\n",
       "<style scoped>\n",
       "    .dataframe tbody tr th:only-of-type {\n",
       "        vertical-align: middle;\n",
       "    }\n",
       "\n",
       "    .dataframe tbody tr th {\n",
       "        vertical-align: top;\n",
       "    }\n",
       "\n",
       "    .dataframe thead th {\n",
       "        text-align: right;\n",
       "    }\n",
       "</style>\n",
       "<table border=\"1\" class=\"dataframe\">\n",
       "  <thead>\n",
       "    <tr style=\"text-align: right;\">\n",
       "      <th></th>\n",
       "      <th>City</th>\n",
       "      <th>Lat</th>\n",
       "      <th>Lng</th>\n",
       "      <th>Max temp</th>\n",
       "      <th>Temp</th>\n",
       "      <th>Humidity</th>\n",
       "      <th>Cloudiness</th>\n",
       "      <th>Windspeed</th>\n",
       "      <th>Country</th>\n",
       "      <th>Date</th>\n",
       "    </tr>\n",
       "  </thead>\n",
       "  <tbody>\n",
       "    <tr>\n",
       "      <th>0</th>\n",
       "      <td>Butaritari</td>\n",
       "      <td>3.0707</td>\n",
       "      <td>172.7902</td>\n",
       "      <td>300.93</td>\n",
       "      <td>300.93</td>\n",
       "      <td>76</td>\n",
       "      <td>79</td>\n",
       "      <td>5.01</td>\n",
       "      <td>KI</td>\n",
       "      <td>1639606038</td>\n",
       "    </tr>\n",
       "    <tr>\n",
       "      <th>1</th>\n",
       "      <td>Andreyevka</td>\n",
       "      <td>55.9803</td>\n",
       "      <td>37.1350</td>\n",
       "      <td>271.93</td>\n",
       "      <td>271.77</td>\n",
       "      <td>86</td>\n",
       "      <td>40</td>\n",
       "      <td>5.00</td>\n",
       "      <td>RU</td>\n",
       "      <td>1639606038</td>\n",
       "    </tr>\n",
       "    <tr>\n",
       "      <th>2</th>\n",
       "      <td>Lompoc</td>\n",
       "      <td>34.6391</td>\n",
       "      <td>-120.4579</td>\n",
       "      <td>288.46</td>\n",
       "      <td>286.13</td>\n",
       "      <td>59</td>\n",
       "      <td>1</td>\n",
       "      <td>4.63</td>\n",
       "      <td>US</td>\n",
       "      <td>1639606038</td>\n",
       "    </tr>\n",
       "    <tr>\n",
       "      <th>3</th>\n",
       "      <td>Dikson</td>\n",
       "      <td>73.5069</td>\n",
       "      <td>80.5464</td>\n",
       "      <td>242.57</td>\n",
       "      <td>242.57</td>\n",
       "      <td>100</td>\n",
       "      <td>99</td>\n",
       "      <td>2.13</td>\n",
       "      <td>RU</td>\n",
       "      <td>1639606038</td>\n",
       "    </tr>\n",
       "    <tr>\n",
       "      <th>4</th>\n",
       "      <td>Cherskiy</td>\n",
       "      <td>68.7500</td>\n",
       "      <td>161.3000</td>\n",
       "      <td>241.19</td>\n",
       "      <td>241.19</td>\n",
       "      <td>80</td>\n",
       "      <td>80</td>\n",
       "      <td>1.99</td>\n",
       "      <td>RU</td>\n",
       "      <td>1639606038</td>\n",
       "    </tr>\n",
       "  </tbody>\n",
       "</table>\n",
       "</div>"
      ],
      "text/plain": [
       "         City      Lat       Lng  Max temp    Temp  Humidity  Cloudiness  \\\n",
       "0  Butaritari   3.0707  172.7902    300.93  300.93        76          79   \n",
       "1  Andreyevka  55.9803   37.1350    271.93  271.77        86          40   \n",
       "2      Lompoc  34.6391 -120.4579    288.46  286.13        59           1   \n",
       "3      Dikson  73.5069   80.5464    242.57  242.57       100          99   \n",
       "4    Cherskiy  68.7500  161.3000    241.19  241.19        80          80   \n",
       "\n",
       "   Windspeed Country        Date  \n",
       "0       5.01      KI  1639606038  \n",
       "1       5.00      RU  1639606038  \n",
       "2       4.63      US  1639606038  \n",
       "3       2.13      RU  1639606038  \n",
       "4       1.99      RU  1639606038  "
      ]
     },
     "execution_count": 5,
     "metadata": {},
     "output_type": "execute_result"
    }
   ],
   "source": [
    "# Create a data frame from cities\n",
    "weather_dict = {\n",
    "   \"City\": city_city,\n",
    "    \"Lat\": city_lat,\n",
    "    \"Lng\": city_lng,\n",
    "    \"Max temp\": city_max,\n",
    "    \"Temp\": city_temp,\n",
    "    \"Humidity\": city_humidity,\n",
    "    \"Cloudiness\": city_cloudiness,\n",
    "    \"Windspeed\": city_windspeed,\n",
    "    \"Country\": city_country,\n",
    "    \"Date\": city_date    \n",
    "}\n",
    "weather_data = pd.DataFrame(weather_dict)\n",
    "weather_data.head()"
   ]
  },
  {
   "cell_type": "code",
   "execution_count": 6,
   "metadata": {},
   "outputs": [],
   "source": [
    "weather_data.to_csv(\"../../output_data/weather_data.csv\",\n",
    "                  encoding=\"utf-8\", index=False, header=True)"
   ]
  },
  {
   "cell_type": "code",
   "execution_count": 7,
   "metadata": {},
   "outputs": [
    {
     "data": {
      "text/html": [
       "<div>\n",
       "<style scoped>\n",
       "    .dataframe tbody tr th:only-of-type {\n",
       "        vertical-align: middle;\n",
       "    }\n",
       "\n",
       "    .dataframe tbody tr th {\n",
       "        vertical-align: top;\n",
       "    }\n",
       "\n",
       "    .dataframe thead th {\n",
       "        text-align: right;\n",
       "    }\n",
       "</style>\n",
       "<table border=\"1\" class=\"dataframe\">\n",
       "  <thead>\n",
       "    <tr style=\"text-align: right;\">\n",
       "      <th></th>\n",
       "      <th>City</th>\n",
       "      <th>Lat</th>\n",
       "      <th>Lng</th>\n",
       "      <th>Max temp</th>\n",
       "      <th>Temp</th>\n",
       "      <th>Humidity</th>\n",
       "      <th>Cloudiness</th>\n",
       "      <th>Windspeed</th>\n",
       "      <th>Country</th>\n",
       "      <th>Date</th>\n",
       "    </tr>\n",
       "  </thead>\n",
       "  <tbody>\n",
       "    <tr>\n",
       "      <th>0</th>\n",
       "      <td>Butaritari</td>\n",
       "      <td>3.0707</td>\n",
       "      <td>172.7902</td>\n",
       "      <td>300.93</td>\n",
       "      <td>300.93</td>\n",
       "      <td>76</td>\n",
       "      <td>79</td>\n",
       "      <td>5.01</td>\n",
       "      <td>KI</td>\n",
       "      <td>1639606038</td>\n",
       "    </tr>\n",
       "    <tr>\n",
       "      <th>1</th>\n",
       "      <td>Andreyevka</td>\n",
       "      <td>55.9803</td>\n",
       "      <td>37.1350</td>\n",
       "      <td>271.93</td>\n",
       "      <td>271.77</td>\n",
       "      <td>86</td>\n",
       "      <td>40</td>\n",
       "      <td>5.00</td>\n",
       "      <td>RU</td>\n",
       "      <td>1639606038</td>\n",
       "    </tr>\n",
       "    <tr>\n",
       "      <th>2</th>\n",
       "      <td>Lompoc</td>\n",
       "      <td>34.6391</td>\n",
       "      <td>-120.4579</td>\n",
       "      <td>288.46</td>\n",
       "      <td>286.13</td>\n",
       "      <td>59</td>\n",
       "      <td>1</td>\n",
       "      <td>4.63</td>\n",
       "      <td>US</td>\n",
       "      <td>1639606038</td>\n",
       "    </tr>\n",
       "    <tr>\n",
       "      <th>3</th>\n",
       "      <td>Dikson</td>\n",
       "      <td>73.5069</td>\n",
       "      <td>80.5464</td>\n",
       "      <td>242.57</td>\n",
       "      <td>242.57</td>\n",
       "      <td>100</td>\n",
       "      <td>99</td>\n",
       "      <td>2.13</td>\n",
       "      <td>RU</td>\n",
       "      <td>1639606038</td>\n",
       "    </tr>\n",
       "    <tr>\n",
       "      <th>4</th>\n",
       "      <td>Cherskiy</td>\n",
       "      <td>68.7500</td>\n",
       "      <td>161.3000</td>\n",
       "      <td>241.19</td>\n",
       "      <td>241.19</td>\n",
       "      <td>80</td>\n",
       "      <td>80</td>\n",
       "      <td>1.99</td>\n",
       "      <td>RU</td>\n",
       "      <td>1639606038</td>\n",
       "    </tr>\n",
       "  </tbody>\n",
       "</table>\n",
       "</div>"
      ],
      "text/plain": [
       "         City      Lat       Lng  Max temp    Temp  Humidity  Cloudiness  \\\n",
       "0  Butaritari   3.0707  172.7902    300.93  300.93        76          79   \n",
       "1  Andreyevka  55.9803   37.1350    271.93  271.77        86          40   \n",
       "2      Lompoc  34.6391 -120.4579    288.46  286.13        59           1   \n",
       "3      Dikson  73.5069   80.5464    242.57  242.57       100          99   \n",
       "4    Cherskiy  68.7500  161.3000    241.19  241.19        80          80   \n",
       "\n",
       "   Windspeed Country        Date  \n",
       "0       5.01      KI  1639606038  \n",
       "1       5.00      RU  1639606038  \n",
       "2       4.63      US  1639606038  \n",
       "3       2.13      RU  1639606038  \n",
       "4       1.99      RU  1639606038  "
      ]
     },
     "execution_count": 7,
     "metadata": {},
     "output_type": "execute_result"
    }
   ],
   "source": [
    "weather_data.head()"
   ]
  },
  {
   "cell_type": "code",
   "execution_count": 15,
   "metadata": {
    "scrolled": true
   },
   "outputs": [
    {
     "data": {
      "text/html": [
       "<div>\n",
       "<style scoped>\n",
       "    .dataframe tbody tr th:only-of-type {\n",
       "        vertical-align: middle;\n",
       "    }\n",
       "\n",
       "    .dataframe tbody tr th {\n",
       "        vertical-align: top;\n",
       "    }\n",
       "\n",
       "    .dataframe thead th {\n",
       "        text-align: right;\n",
       "    }\n",
       "</style>\n",
       "<table border=\"1\" class=\"dataframe\">\n",
       "  <thead>\n",
       "    <tr style=\"text-align: right;\">\n",
       "      <th></th>\n",
       "      <th>City</th>\n",
       "      <th>Lat</th>\n",
       "      <th>Lng</th>\n",
       "      <th>Max Temp</th>\n",
       "      <th>Humidity</th>\n",
       "      <th>Cloudiness</th>\n",
       "      <th>Wind Speed</th>\n",
       "      <th>Country</th>\n",
       "      <th>Date</th>\n",
       "    </tr>\n",
       "  </thead>\n",
       "  <tbody>\n",
       "    <tr>\n",
       "      <td>0</td>\n",
       "      <td>butaritari</td>\n",
       "      <td>3.07</td>\n",
       "      <td>172.79</td>\n",
       "      <td>83.32</td>\n",
       "      <td>74</td>\n",
       "      <td>84</td>\n",
       "      <td>10.42</td>\n",
       "      <td>KI</td>\n",
       "      <td>1593605283</td>\n",
       "    </tr>\n",
       "    <tr>\n",
       "      <td>1</td>\n",
       "      <td>yerbogachen</td>\n",
       "      <td>61.28</td>\n",
       "      <td>108.01</td>\n",
       "      <td>79.52</td>\n",
       "      <td>58</td>\n",
       "      <td>20</td>\n",
       "      <td>7.70</td>\n",
       "      <td>RU</td>\n",
       "      <td>1593605121</td>\n",
       "    </tr>\n",
       "    <tr>\n",
       "      <td>2</td>\n",
       "      <td>cape town</td>\n",
       "      <td>-33.93</td>\n",
       "      <td>18.42</td>\n",
       "      <td>73.00</td>\n",
       "      <td>77</td>\n",
       "      <td>27</td>\n",
       "      <td>4.70</td>\n",
       "      <td>ZA</td>\n",
       "      <td>1593605039</td>\n",
       "    </tr>\n",
       "    <tr>\n",
       "      <td>3</td>\n",
       "      <td>touba</td>\n",
       "      <td>8.28</td>\n",
       "      <td>-7.68</td>\n",
       "      <td>79.97</td>\n",
       "      <td>75</td>\n",
       "      <td>82</td>\n",
       "      <td>3.58</td>\n",
       "      <td>CI</td>\n",
       "      <td>1593605284</td>\n",
       "    </tr>\n",
       "    <tr>\n",
       "      <td>4</td>\n",
       "      <td>jamestown</td>\n",
       "      <td>42.10</td>\n",
       "      <td>-79.24</td>\n",
       "      <td>64.00</td>\n",
       "      <td>88</td>\n",
       "      <td>1</td>\n",
       "      <td>6.93</td>\n",
       "      <td>US</td>\n",
       "      <td>1593605284</td>\n",
       "    </tr>\n",
       "  </tbody>\n",
       "</table>\n",
       "</div>"
      ],
      "text/plain": [
       "          City    Lat     Lng  Max Temp  Humidity  Cloudiness  Wind Speed  \\\n",
       "0   butaritari   3.07  172.79     83.32        74          84       10.42   \n",
       "1  yerbogachen  61.28  108.01     79.52        58          20        7.70   \n",
       "2    cape town -33.93   18.42     73.00        77          27        4.70   \n",
       "3        touba   8.28   -7.68     79.97        75          82        3.58   \n",
       "4    jamestown  42.10  -79.24     64.00        88           1        6.93   \n",
       "\n",
       "  Country        Date  \n",
       "0      KI  1593605283  \n",
       "1      RU  1593605121  \n",
       "2      ZA  1593605039  \n",
       "3      CI  1593605284  \n",
       "4      US  1593605284  "
      ]
     },
     "execution_count": 15,
     "metadata": {},
     "output_type": "execute_result"
    }
   ],
   "source": []
  },
  {
   "cell_type": "code",
   "execution_count": 8,
   "metadata": {},
   "outputs": [
    {
     "data": {
      "text/html": [
       "<div>\n",
       "<style scoped>\n",
       "    .dataframe tbody tr th:only-of-type {\n",
       "        vertical-align: middle;\n",
       "    }\n",
       "\n",
       "    .dataframe tbody tr th {\n",
       "        vertical-align: top;\n",
       "    }\n",
       "\n",
       "    .dataframe thead th {\n",
       "        text-align: right;\n",
       "    }\n",
       "</style>\n",
       "<table border=\"1\" class=\"dataframe\">\n",
       "  <thead>\n",
       "    <tr style=\"text-align: right;\">\n",
       "      <th></th>\n",
       "      <th>Lat</th>\n",
       "      <th>Lng</th>\n",
       "      <th>Max temp</th>\n",
       "      <th>Temp</th>\n",
       "      <th>Humidity</th>\n",
       "      <th>Cloudiness</th>\n",
       "      <th>Windspeed</th>\n",
       "      <th>Date</th>\n",
       "    </tr>\n",
       "  </thead>\n",
       "  <tbody>\n",
       "    <tr>\n",
       "      <th>count</th>\n",
       "      <td>9.000000</td>\n",
       "      <td>9.000000</td>\n",
       "      <td>9.000000</td>\n",
       "      <td>9.000000</td>\n",
       "      <td>9.000000</td>\n",
       "      <td>9.000000</td>\n",
       "      <td>9.000000</td>\n",
       "      <td>9.000000e+00</td>\n",
       "    </tr>\n",
       "    <tr>\n",
       "      <th>mean</th>\n",
       "      <td>21.928522</td>\n",
       "      <td>20.968611</td>\n",
       "      <td>272.731111</td>\n",
       "      <td>272.454444</td>\n",
       "      <td>78.333333</td>\n",
       "      <td>62.888889</td>\n",
       "      <td>4.011111</td>\n",
       "      <td>1.639606e+09</td>\n",
       "    </tr>\n",
       "    <tr>\n",
       "      <th>std</th>\n",
       "      <td>48.703325</td>\n",
       "      <td>122.859541</td>\n",
       "      <td>26.428906</td>\n",
       "      <td>26.266952</td>\n",
       "      <td>14.115594</td>\n",
       "      <td>38.325724</td>\n",
       "      <td>2.491904</td>\n",
       "      <td>1.031626e+02</td>\n",
       "    </tr>\n",
       "    <tr>\n",
       "      <th>min</th>\n",
       "      <td>-53.150000</td>\n",
       "      <td>-134.969200</td>\n",
       "      <td>234.280000</td>\n",
       "      <td>234.280000</td>\n",
       "      <td>59.000000</td>\n",
       "      <td>1.000000</td>\n",
       "      <td>1.060000</td>\n",
       "      <td>1.639606e+09</td>\n",
       "    </tr>\n",
       "    <tr>\n",
       "      <th>25%</th>\n",
       "      <td>-23.120300</td>\n",
       "      <td>-71.343600</td>\n",
       "      <td>242.570000</td>\n",
       "      <td>242.570000</td>\n",
       "      <td>72.000000</td>\n",
       "      <td>40.000000</td>\n",
       "      <td>2.130000</td>\n",
       "      <td>1.639606e+09</td>\n",
       "    </tr>\n",
       "    <tr>\n",
       "      <th>50%</th>\n",
       "      <td>34.639100</td>\n",
       "      <td>37.135000</td>\n",
       "      <td>285.990000</td>\n",
       "      <td>285.990000</td>\n",
       "      <td>76.000000</td>\n",
       "      <td>80.000000</td>\n",
       "      <td>3.880000</td>\n",
       "      <td>1.639606e+09</td>\n",
       "    </tr>\n",
       "    <tr>\n",
       "      <th>75%</th>\n",
       "      <td>67.633300</td>\n",
       "      <td>134.633300</td>\n",
       "      <td>290.870000</td>\n",
       "      <td>290.870000</td>\n",
       "      <td>86.000000</td>\n",
       "      <td>87.000000</td>\n",
       "      <td>5.000000</td>\n",
       "      <td>1.639606e+09</td>\n",
       "    </tr>\n",
       "    <tr>\n",
       "      <th>max</th>\n",
       "      <td>73.506900</td>\n",
       "      <td>172.790200</td>\n",
       "      <td>300.930000</td>\n",
       "      <td>300.930000</td>\n",
       "      <td>100.000000</td>\n",
       "      <td>99.000000</td>\n",
       "      <td>9.470000</td>\n",
       "      <td>1.639606e+09</td>\n",
       "    </tr>\n",
       "  </tbody>\n",
       "</table>\n",
       "</div>"
      ],
      "text/plain": [
       "             Lat         Lng    Max temp        Temp    Humidity  Cloudiness  \\\n",
       "count   9.000000    9.000000    9.000000    9.000000    9.000000    9.000000   \n",
       "mean   21.928522   20.968611  272.731111  272.454444   78.333333   62.888889   \n",
       "std    48.703325  122.859541   26.428906   26.266952   14.115594   38.325724   \n",
       "min   -53.150000 -134.969200  234.280000  234.280000   59.000000    1.000000   \n",
       "25%   -23.120300  -71.343600  242.570000  242.570000   72.000000   40.000000   \n",
       "50%    34.639100   37.135000  285.990000  285.990000   76.000000   80.000000   \n",
       "75%    67.633300  134.633300  290.870000  290.870000   86.000000   87.000000   \n",
       "max    73.506900  172.790200  300.930000  300.930000  100.000000   99.000000   \n",
       "\n",
       "       Windspeed          Date  \n",
       "count   9.000000  9.000000e+00  \n",
       "mean    4.011111  1.639606e+09  \n",
       "std     2.491904  1.031626e+02  \n",
       "min     1.060000  1.639606e+09  \n",
       "25%     2.130000  1.639606e+09  \n",
       "50%     3.880000  1.639606e+09  \n",
       "75%     5.000000  1.639606e+09  \n",
       "max     9.470000  1.639606e+09  "
      ]
     },
     "execution_count": 8,
     "metadata": {},
     "output_type": "execute_result"
    }
   ],
   "source": [
    "weather_data.describe()"
   ]
  },
  {
   "cell_type": "code",
   "execution_count": 16,
   "metadata": {},
   "outputs": [
    {
     "data": {
      "text/html": [
       "<div>\n",
       "<style scoped>\n",
       "    .dataframe tbody tr th:only-of-type {\n",
       "        vertical-align: middle;\n",
       "    }\n",
       "\n",
       "    .dataframe tbody tr th {\n",
       "        vertical-align: top;\n",
       "    }\n",
       "\n",
       "    .dataframe thead th {\n",
       "        text-align: right;\n",
       "    }\n",
       "</style>\n",
       "<table border=\"1\" class=\"dataframe\">\n",
       "  <thead>\n",
       "    <tr style=\"text-align: right;\">\n",
       "      <th></th>\n",
       "      <th>Lat</th>\n",
       "      <th>Lng</th>\n",
       "      <th>Max Temp</th>\n",
       "      <th>Humidity</th>\n",
       "      <th>Cloudiness</th>\n",
       "      <th>Wind Speed</th>\n",
       "      <th>Date</th>\n",
       "    </tr>\n",
       "  </thead>\n",
       "  <tbody>\n",
       "    <tr>\n",
       "      <td>count</td>\n",
       "      <td>599.000000</td>\n",
       "      <td>599.000000</td>\n",
       "      <td>599.000000</td>\n",
       "      <td>599.000000</td>\n",
       "      <td>599.000000</td>\n",
       "      <td>599.000000</td>\n",
       "      <td>5.990000e+02</td>\n",
       "    </tr>\n",
       "    <tr>\n",
       "      <td>mean</td>\n",
       "      <td>19.877028</td>\n",
       "      <td>19.568998</td>\n",
       "      <td>69.794808</td>\n",
       "      <td>69.353923</td>\n",
       "      <td>51.569282</td>\n",
       "      <td>7.979416</td>\n",
       "      <td>1.593605e+09</td>\n",
       "    </tr>\n",
       "    <tr>\n",
       "      <td>std</td>\n",
       "      <td>33.262944</td>\n",
       "      <td>91.418472</td>\n",
       "      <td>15.678452</td>\n",
       "      <td>22.704698</td>\n",
       "      <td>35.405602</td>\n",
       "      <td>5.660694</td>\n",
       "      <td>5.738815e+01</td>\n",
       "    </tr>\n",
       "    <tr>\n",
       "      <td>min</td>\n",
       "      <td>-54.800000</td>\n",
       "      <td>-179.170000</td>\n",
       "      <td>12.200000</td>\n",
       "      <td>7.000000</td>\n",
       "      <td>0.000000</td>\n",
       "      <td>0.360000</td>\n",
       "      <td>1.593605e+09</td>\n",
       "    </tr>\n",
       "    <tr>\n",
       "      <td>25%</td>\n",
       "      <td>-8.540000</td>\n",
       "      <td>-61.210000</td>\n",
       "      <td>59.000000</td>\n",
       "      <td>55.000000</td>\n",
       "      <td>20.000000</td>\n",
       "      <td>3.620000</td>\n",
       "      <td>1.593605e+09</td>\n",
       "    </tr>\n",
       "    <tr>\n",
       "      <td>50%</td>\n",
       "      <td>24.370000</td>\n",
       "      <td>24.670000</td>\n",
       "      <td>73.110000</td>\n",
       "      <td>75.000000</td>\n",
       "      <td>59.000000</td>\n",
       "      <td>6.730000</td>\n",
       "      <td>1.593605e+09</td>\n",
       "    </tr>\n",
       "    <tr>\n",
       "      <td>75%</td>\n",
       "      <td>46.585000</td>\n",
       "      <td>102.255000</td>\n",
       "      <td>80.600000</td>\n",
       "      <td>87.000000</td>\n",
       "      <td>85.000000</td>\n",
       "      <td>11.050000</td>\n",
       "      <td>1.593605e+09</td>\n",
       "    </tr>\n",
       "    <tr>\n",
       "      <td>max</td>\n",
       "      <td>78.220000</td>\n",
       "      <td>179.320000</td>\n",
       "      <td>116.600000</td>\n",
       "      <td>100.000000</td>\n",
       "      <td>100.000000</td>\n",
       "      <td>42.500000</td>\n",
       "      <td>1.593605e+09</td>\n",
       "    </tr>\n",
       "  </tbody>\n",
       "</table>\n",
       "</div>"
      ],
      "text/plain": [
       "              Lat         Lng    Max Temp    Humidity  Cloudiness  Wind Speed  \\\n",
       "count  599.000000  599.000000  599.000000  599.000000  599.000000  599.000000   \n",
       "mean    19.877028   19.568998   69.794808   69.353923   51.569282    7.979416   \n",
       "std     33.262944   91.418472   15.678452   22.704698   35.405602    5.660694   \n",
       "min    -54.800000 -179.170000   12.200000    7.000000    0.000000    0.360000   \n",
       "25%     -8.540000  -61.210000   59.000000   55.000000   20.000000    3.620000   \n",
       "50%     24.370000   24.670000   73.110000   75.000000   59.000000    6.730000   \n",
       "75%     46.585000  102.255000   80.600000   87.000000   85.000000   11.050000   \n",
       "max     78.220000  179.320000  116.600000  100.000000  100.000000   42.500000   \n",
       "\n",
       "               Date  \n",
       "count  5.990000e+02  \n",
       "mean   1.593605e+09  \n",
       "std    5.738815e+01  \n",
       "min    1.593605e+09  \n",
       "25%    1.593605e+09  \n",
       "50%    1.593605e+09  \n",
       "75%    1.593605e+09  \n",
       "max    1.593605e+09  "
      ]
     },
     "execution_count": 16,
     "metadata": {},
     "output_type": "execute_result"
    }
   ],
   "source": []
  },
  {
   "cell_type": "markdown",
   "metadata": {},
   "source": [
    "## Inspect the data and remove the cities where the humidity > 100%.\n",
    "----\n",
    "Skip this step if there are no cities that have humidity > 100%. "
   ]
  },
  {
   "cell_type": "code",
   "execution_count": null,
   "metadata": {},
   "outputs": [],
   "source": [
    "#  Get the indices of cities that have humidity over 100%.\n",
    "index =  weather_data[weather_data['Humidity'] >= 100].index\n",
    "index"
   ]
  },
  {
   "cell_type": "code",
   "execution_count": null,
   "metadata": {},
   "outputs": [],
   "source": [
    "# Make a new DataFrame equal to the city data to drop all humidity outliers by index.\n",
    "# Passing \"inplace=False\" will make a copy of the city_data DataFrame, which we call \"clean_city_data\".\n",
    "clean_city_data = weather_data.drop(index,inplace=False)"
   ]
  },
  {
   "cell_type": "code",
   "execution_count": null,
   "metadata": {},
   "outputs": [],
   "source": [
    "clean_city_data.describe()"
   ]
  },
  {
   "cell_type": "code",
   "execution_count": null,
   "metadata": {},
   "outputs": [],
   "source": [
    "clean_city_data"
   ]
  },
  {
   "cell_type": "code",
   "execution_count": 6,
   "metadata": {},
   "outputs": [
    {
     "data": {
      "text/html": [
       "<div>\n",
       "<style scoped>\n",
       "    .dataframe tbody tr th:only-of-type {\n",
       "        vertical-align: middle;\n",
       "    }\n",
       "\n",
       "    .dataframe tbody tr th {\n",
       "        vertical-align: top;\n",
       "    }\n",
       "\n",
       "    .dataframe thead th {\n",
       "        text-align: right;\n",
       "    }\n",
       "</style>\n",
       "<table border=\"1\" class=\"dataframe\">\n",
       "  <thead>\n",
       "    <tr style=\"text-align: right;\">\n",
       "      <th></th>\n",
       "      <th>Lat</th>\n",
       "      <th>Lng</th>\n",
       "      <th>Max Temp</th>\n",
       "      <th>Humidity</th>\n",
       "      <th>Cloudiness</th>\n",
       "      <th>Wind Speed</th>\n",
       "      <th>Date</th>\n",
       "    </tr>\n",
       "  </thead>\n",
       "  <tbody>\n",
       "    <tr>\n",
       "      <th>count</th>\n",
       "      <td>550.000000</td>\n",
       "      <td>550.000000</td>\n",
       "      <td>550.000000</td>\n",
       "      <td>550.000000</td>\n",
       "      <td>550.000000</td>\n",
       "      <td>550.000000</td>\n",
       "      <td>5.500000e+02</td>\n",
       "    </tr>\n",
       "    <tr>\n",
       "      <th>mean</th>\n",
       "      <td>19.973545</td>\n",
       "      <td>17.124400</td>\n",
       "      <td>58.331400</td>\n",
       "      <td>67.890909</td>\n",
       "      <td>52.141818</td>\n",
       "      <td>8.544800</td>\n",
       "      <td>1.585764e+09</td>\n",
       "    </tr>\n",
       "    <tr>\n",
       "      <th>std</th>\n",
       "      <td>33.284840</td>\n",
       "      <td>91.595451</td>\n",
       "      <td>25.795297</td>\n",
       "      <td>20.864881</td>\n",
       "      <td>35.766469</td>\n",
       "      <td>6.078869</td>\n",
       "      <td>5.539674e+01</td>\n",
       "    </tr>\n",
       "    <tr>\n",
       "      <th>min</th>\n",
       "      <td>-54.800000</td>\n",
       "      <td>-179.170000</td>\n",
       "      <td>-11.340000</td>\n",
       "      <td>9.000000</td>\n",
       "      <td>0.000000</td>\n",
       "      <td>0.160000</td>\n",
       "      <td>1.585764e+09</td>\n",
       "    </tr>\n",
       "    <tr>\n",
       "      <th>25%</th>\n",
       "      <td>-8.077500</td>\n",
       "      <td>-64.627500</td>\n",
       "      <td>42.800000</td>\n",
       "      <td>55.000000</td>\n",
       "      <td>20.000000</td>\n",
       "      <td>4.525000</td>\n",
       "      <td>1.585764e+09</td>\n",
       "    </tr>\n",
       "    <tr>\n",
       "      <th>50%</th>\n",
       "      <td>23.630000</td>\n",
       "      <td>19.635000</td>\n",
       "      <td>64.940000</td>\n",
       "      <td>72.000000</td>\n",
       "      <td>57.000000</td>\n",
       "      <td>7.325000</td>\n",
       "      <td>1.585764e+09</td>\n",
       "    </tr>\n",
       "    <tr>\n",
       "      <th>75%</th>\n",
       "      <td>48.672500</td>\n",
       "      <td>97.350000</td>\n",
       "      <td>78.800000</td>\n",
       "      <td>83.000000</td>\n",
       "      <td>86.750000</td>\n",
       "      <td>11.410000</td>\n",
       "      <td>1.585764e+09</td>\n",
       "    </tr>\n",
       "    <tr>\n",
       "      <th>max</th>\n",
       "      <td>78.220000</td>\n",
       "      <td>179.320000</td>\n",
       "      <td>102.200000</td>\n",
       "      <td>100.000000</td>\n",
       "      <td>100.000000</td>\n",
       "      <td>46.080000</td>\n",
       "      <td>1.585764e+09</td>\n",
       "    </tr>\n",
       "  </tbody>\n",
       "</table>\n",
       "</div>"
      ],
      "text/plain": [
       "              Lat         Lng    Max Temp    Humidity  Cloudiness  Wind Speed  \\\n",
       "count  550.000000  550.000000  550.000000  550.000000  550.000000  550.000000   \n",
       "mean    19.973545   17.124400   58.331400   67.890909   52.141818    8.544800   \n",
       "std     33.284840   91.595451   25.795297   20.864881   35.766469    6.078869   \n",
       "min    -54.800000 -179.170000  -11.340000    9.000000    0.000000    0.160000   \n",
       "25%     -8.077500  -64.627500   42.800000   55.000000   20.000000    4.525000   \n",
       "50%     23.630000   19.635000   64.940000   72.000000   57.000000    7.325000   \n",
       "75%     48.672500   97.350000   78.800000   83.000000   86.750000   11.410000   \n",
       "max     78.220000  179.320000  102.200000  100.000000  100.000000   46.080000   \n",
       "\n",
       "               Date  \n",
       "count  5.500000e+02  \n",
       "mean   1.585764e+09  \n",
       "std    5.539674e+01  \n",
       "min    1.585764e+09  \n",
       "25%    1.585764e+09  \n",
       "50%    1.585764e+09  \n",
       "75%    1.585764e+09  \n",
       "max    1.585764e+09  "
      ]
     },
     "execution_count": 6,
     "metadata": {},
     "output_type": "execute_result"
    }
   ],
   "source": []
  },
  {
   "cell_type": "code",
   "execution_count": 10,
   "metadata": {
    "scrolled": true
   },
   "outputs": [
    {
     "data": {
      "text/html": [
       "<div>\n",
       "<style scoped>\n",
       "    .dataframe tbody tr th:only-of-type {\n",
       "        vertical-align: middle;\n",
       "    }\n",
       "\n",
       "    .dataframe tbody tr th {\n",
       "        vertical-align: top;\n",
       "    }\n",
       "\n",
       "    .dataframe thead th {\n",
       "        text-align: right;\n",
       "    }\n",
       "</style>\n",
       "<table border=\"1\" class=\"dataframe\">\n",
       "  <thead>\n",
       "    <tr style=\"text-align: right;\">\n",
       "      <th></th>\n",
       "      <th>City</th>\n",
       "      <th>Lat</th>\n",
       "      <th>Lng</th>\n",
       "      <th>Max temp</th>\n",
       "      <th>Temp</th>\n",
       "      <th>Humidity</th>\n",
       "      <th>Cloudiness</th>\n",
       "      <th>Windspeed</th>\n",
       "      <th>Country</th>\n",
       "      <th>Date</th>\n",
       "    </tr>\n",
       "  </thead>\n",
       "  <tbody>\n",
       "    <tr>\n",
       "      <th>1</th>\n",
       "      <td>Hong Kong</td>\n",
       "      <td>22.2855</td>\n",
       "      <td>114.1577</td>\n",
       "      <td>296.58</td>\n",
       "      <td>295.76</td>\n",
       "      <td>82</td>\n",
       "      <td>96</td>\n",
       "      <td>2.24</td>\n",
       "      <td>HK</td>\n",
       "      <td>1639568548</td>\n",
       "    </tr>\n",
       "    <tr>\n",
       "      <th>2</th>\n",
       "      <td>Fortuna</td>\n",
       "      <td>40.5982</td>\n",
       "      <td>-124.1573</td>\n",
       "      <td>279.63</td>\n",
       "      <td>278.19</td>\n",
       "      <td>87</td>\n",
       "      <td>90</td>\n",
       "      <td>4.02</td>\n",
       "      <td>US</td>\n",
       "      <td>1639568570</td>\n",
       "    </tr>\n",
       "    <tr>\n",
       "      <th>3</th>\n",
       "      <td>Nizhnyaya Poyma</td>\n",
       "      <td>56.1622</td>\n",
       "      <td>97.1933</td>\n",
       "      <td>248.11</td>\n",
       "      <td>248.11</td>\n",
       "      <td>99</td>\n",
       "      <td>60</td>\n",
       "      <td>1.46</td>\n",
       "      <td>RU</td>\n",
       "      <td>1639568570</td>\n",
       "    </tr>\n",
       "    <tr>\n",
       "      <th>4</th>\n",
       "      <td>Inírida</td>\n",
       "      <td>3.8653</td>\n",
       "      <td>-67.9239</td>\n",
       "      <td>297.15</td>\n",
       "      <td>297.15</td>\n",
       "      <td>97</td>\n",
       "      <td>100</td>\n",
       "      <td>0.31</td>\n",
       "      <td>CO</td>\n",
       "      <td>1639568570</td>\n",
       "    </tr>\n",
       "    <tr>\n",
       "      <th>5</th>\n",
       "      <td>Khuzdar</td>\n",
       "      <td>27.7384</td>\n",
       "      <td>66.6434</td>\n",
       "      <td>285.64</td>\n",
       "      <td>285.64</td>\n",
       "      <td>9</td>\n",
       "      <td>0</td>\n",
       "      <td>6.19</td>\n",
       "      <td>PK</td>\n",
       "      <td>1639568570</td>\n",
       "    </tr>\n",
       "    <tr>\n",
       "      <th>6</th>\n",
       "      <td>São José da Coroa Grande</td>\n",
       "      <td>-8.8978</td>\n",
       "      <td>-35.1478</td>\n",
       "      <td>301.22</td>\n",
       "      <td>301.22</td>\n",
       "      <td>67</td>\n",
       "      <td>99</td>\n",
       "      <td>4.69</td>\n",
       "      <td>BR</td>\n",
       "      <td>1639568571</td>\n",
       "    </tr>\n",
       "    <tr>\n",
       "      <th>7</th>\n",
       "      <td>Jamestown</td>\n",
       "      <td>42.0970</td>\n",
       "      <td>-79.2353</td>\n",
       "      <td>279.92</td>\n",
       "      <td>278.47</td>\n",
       "      <td>59</td>\n",
       "      <td>90</td>\n",
       "      <td>2.24</td>\n",
       "      <td>US</td>\n",
       "      <td>1639568571</td>\n",
       "    </tr>\n",
       "    <tr>\n",
       "      <th>8</th>\n",
       "      <td>Waiuku</td>\n",
       "      <td>-37.2500</td>\n",
       "      <td>174.7500</td>\n",
       "      <td>292.73</td>\n",
       "      <td>291.09</td>\n",
       "      <td>86</td>\n",
       "      <td>2</td>\n",
       "      <td>2.51</td>\n",
       "      <td>NZ</td>\n",
       "      <td>1639568440</td>\n",
       "    </tr>\n",
       "    <tr>\n",
       "      <th>9</th>\n",
       "      <td>Bethel</td>\n",
       "      <td>41.3712</td>\n",
       "      <td>-73.4140</td>\n",
       "      <td>276.03</td>\n",
       "      <td>271.80</td>\n",
       "      <td>78</td>\n",
       "      <td>1</td>\n",
       "      <td>0.00</td>\n",
       "      <td>US</td>\n",
       "      <td>1639568571</td>\n",
       "    </tr>\n",
       "  </tbody>\n",
       "</table>\n",
       "</div>"
      ],
      "text/plain": [
       "                       City      Lat       Lng  Max temp    Temp  Humidity  \\\n",
       "1                 Hong Kong  22.2855  114.1577    296.58  295.76        82   \n",
       "2                   Fortuna  40.5982 -124.1573    279.63  278.19        87   \n",
       "3           Nizhnyaya Poyma  56.1622   97.1933    248.11  248.11        99   \n",
       "4                   Inírida   3.8653  -67.9239    297.15  297.15        97   \n",
       "5                   Khuzdar  27.7384   66.6434    285.64  285.64         9   \n",
       "6  São José da Coroa Grande  -8.8978  -35.1478    301.22  301.22        67   \n",
       "7                 Jamestown  42.0970  -79.2353    279.92  278.47        59   \n",
       "8                    Waiuku -37.2500  174.7500    292.73  291.09        86   \n",
       "9                    Bethel  41.3712  -73.4140    276.03  271.80        78   \n",
       "\n",
       "   Cloudiness  Windspeed Country        Date  \n",
       "1          96       2.24      HK  1639568548  \n",
       "2          90       4.02      US  1639568570  \n",
       "3          60       1.46      RU  1639568570  \n",
       "4         100       0.31      CO  1639568570  \n",
       "5           0       6.19      PK  1639568570  \n",
       "6          99       4.69      BR  1639568571  \n",
       "7          90       2.24      US  1639568571  \n",
       "8           2       2.51      NZ  1639568440  \n",
       "9           1       0.00      US  1639568571  "
      ]
     },
     "execution_count": 10,
     "metadata": {},
     "output_type": "execute_result"
    }
   ],
   "source": []
  },
  {
   "cell_type": "code",
   "execution_count": 19,
   "metadata": {},
   "outputs": [
    {
     "data": {
      "text/html": [
       "<div>\n",
       "<style scoped>\n",
       "    .dataframe tbody tr th:only-of-type {\n",
       "        vertical-align: middle;\n",
       "    }\n",
       "\n",
       "    .dataframe tbody tr th {\n",
       "        vertical-align: top;\n",
       "    }\n",
       "\n",
       "    .dataframe thead th {\n",
       "        text-align: right;\n",
       "    }\n",
       "</style>\n",
       "<table border=\"1\" class=\"dataframe\">\n",
       "  <thead>\n",
       "    <tr style=\"text-align: right;\">\n",
       "      <th></th>\n",
       "      <th>City</th>\n",
       "      <th>Lat</th>\n",
       "      <th>Lng</th>\n",
       "      <th>Max Temp</th>\n",
       "      <th>Humidity</th>\n",
       "      <th>Cloudiness</th>\n",
       "      <th>Wind Speed</th>\n",
       "      <th>Country</th>\n",
       "      <th>Date</th>\n",
       "    </tr>\n",
       "  </thead>\n",
       "  <tbody>\n",
       "    <tr>\n",
       "      <td>0</td>\n",
       "      <td>butaritari</td>\n",
       "      <td>3.07</td>\n",
       "      <td>172.79</td>\n",
       "      <td>83.32</td>\n",
       "      <td>74</td>\n",
       "      <td>84</td>\n",
       "      <td>10.42</td>\n",
       "      <td>KI</td>\n",
       "      <td>1593605283</td>\n",
       "    </tr>\n",
       "    <tr>\n",
       "      <td>1</td>\n",
       "      <td>yerbogachen</td>\n",
       "      <td>61.28</td>\n",
       "      <td>108.01</td>\n",
       "      <td>79.52</td>\n",
       "      <td>58</td>\n",
       "      <td>20</td>\n",
       "      <td>7.70</td>\n",
       "      <td>RU</td>\n",
       "      <td>1593605121</td>\n",
       "    </tr>\n",
       "    <tr>\n",
       "      <td>2</td>\n",
       "      <td>cape town</td>\n",
       "      <td>-33.93</td>\n",
       "      <td>18.42</td>\n",
       "      <td>73.00</td>\n",
       "      <td>77</td>\n",
       "      <td>27</td>\n",
       "      <td>4.70</td>\n",
       "      <td>ZA</td>\n",
       "      <td>1593605039</td>\n",
       "    </tr>\n",
       "    <tr>\n",
       "      <td>3</td>\n",
       "      <td>touba</td>\n",
       "      <td>8.28</td>\n",
       "      <td>-7.68</td>\n",
       "      <td>79.97</td>\n",
       "      <td>75</td>\n",
       "      <td>82</td>\n",
       "      <td>3.58</td>\n",
       "      <td>CI</td>\n",
       "      <td>1593605284</td>\n",
       "    </tr>\n",
       "    <tr>\n",
       "      <td>4</td>\n",
       "      <td>jamestown</td>\n",
       "      <td>42.10</td>\n",
       "      <td>-79.24</td>\n",
       "      <td>64.00</td>\n",
       "      <td>88</td>\n",
       "      <td>1</td>\n",
       "      <td>6.93</td>\n",
       "      <td>US</td>\n",
       "      <td>1593605284</td>\n",
       "    </tr>\n",
       "  </tbody>\n",
       "</table>\n",
       "</div>"
      ],
      "text/plain": [
       "          City    Lat     Lng  Max Temp  Humidity  Cloudiness  Wind Speed  \\\n",
       "0   butaritari   3.07  172.79     83.32        74          84       10.42   \n",
       "1  yerbogachen  61.28  108.01     79.52        58          20        7.70   \n",
       "2    cape town -33.93   18.42     73.00        77          27        4.70   \n",
       "3        touba   8.28   -7.68     79.97        75          82        3.58   \n",
       "4    jamestown  42.10  -79.24     64.00        88           1        6.93   \n",
       "\n",
       "  Country        Date  \n",
       "0      KI  1593605283  \n",
       "1      RU  1593605121  \n",
       "2      ZA  1593605039  \n",
       "3      CI  1593605284  \n",
       "4      US  1593605284  "
      ]
     },
     "execution_count": 19,
     "metadata": {},
     "output_type": "execute_result"
    }
   ],
   "source": []
  },
  {
   "cell_type": "code",
   "execution_count": null,
   "metadata": {},
   "outputs": [],
   "source": []
  },
  {
   "cell_type": "markdown",
   "metadata": {},
   "source": [
    "## Plotting the Data\n",
    "* Use proper labeling of the plots using plot titles (including date of analysis) and axes labels.\n",
    "* Save the plotted figures as .pngs."
   ]
  },
  {
   "cell_type": "markdown",
   "metadata": {},
   "source": [
    "## Latitude vs. Temperature Plot"
   ]
  },
  {
   "cell_type": "code",
   "execution_count": 11,
   "metadata": {
    "scrolled": true
   },
   "outputs": [
    {
     "data": {
      "image/png": "[encoded data removed]",
      "text/plain": [
       "<Figure size 432x288 with 1 Axes>"
      ]
     },
     "metadata": {
      "needs_background": "light"
     },
     "output_type": "display_data"
    }
   ],
   "source": [
    "# Build a scatter plot for each data type\n",
    "plt.scatter(clean_city_data[\"Lat\"], clean_city_data[\"Max temp\"], marker=\"o\", facecolors=\"blue\", edgecolors=\"black\", s=clean_city_data[\"Max temp\"], alpha=0.75)\n",
    "\n",
    "# Incorporate the other graph properties\n",
    "plt.title(\"City Latitude vs Max Temperature\")\n",
    "plt.ylabel(\"Max Temperature (F)\")\n",
    "plt.xlabel(\"Latitude\")\n",
    "plt.grid(True)\n",
    "plt.xlim(-80, 80)\n",
    "plt.ylim(220, 320)\n",
    "\n",
    "# Save the figure\n",
    "plt.savefig(\"MaxTempInWorldCities.png\")\n",
    "\n",
    "# Show plot\n",
    "plt.show()"
   ]
  },
  {
   "cell_type": "code",
   "execution_count": 10,
   "metadata": {
    "scrolled": true
   },
   "outputs": [
    {
     "data": {
      "image/png": "[encoded data removed]",
      "text/plain": [
       "<Figure size 432x288 with 1 Axes>"
      ]
     },
     "metadata": {
      "needs_background": "light"
     },
     "output_type": "display_data"
    }
   ],
   "source": []
  },
  {
   "cell_type": "markdown",
   "metadata": {},
   "source": [
    "## Latitude vs. Humidity Plot"
   ]
  },
  {
   "cell_type": "code",
   "execution_count": 12,
   "metadata": {},
   "outputs": [
    {
     "data": {
      "image/png": "[encoded data removed]",
      "text/plain": [
       "<Figure size 432x288 with 1 Axes>"
      ]
     },
     "metadata": {
      "needs_background": "light"
     },
     "output_type": "display_data"
    }
   ],
   "source": [
    "# Build a scatter plot for each data type\n",
    "plt.scatter(clean_city_data[\"Lat\"], clean_city_data[\"Humidity\"], marker=\"o\", facecolors=\"blue\", edgecolors=\"black\", s=clean_city_data[\"Humidity\"], alpha=0.75)\n",
    "\n",
    "# Incorporate the other graph properties\n",
    "plt.title(\"City Latitude vs Humidity\")\n",
    "plt.xlabel(\"Latitude\")\n",
    "plt.ylabel(\"Humidity\")\n",
    "plt.grid(True)\n",
    "plt.xlim(-40, 80)\n",
    "plt.ylim(40, 110)\n",
    "\n",
    "# Save the figure\n",
    "plt.savefig(\"LatHumidityWorldCities.png\")\n",
    "\n",
    "# Show plot\n",
    "plt.show()"
   ]
  },
  {
   "cell_type": "code",
   "execution_count": 11,
   "metadata": {},
   "outputs": [
    {
     "data": {
      "image/png": "[encoded data removed]",
      "text/plain": [
       "<Figure size 432x288 with 1 Axes>"
      ]
     },
     "metadata": {
      "needs_background": "light"
     },
     "output_type": "display_data"
    }
   ],
   "source": []
  },
  {
   "cell_type": "markdown",
   "metadata": {},
   "source": [
    "## Latitude vs. Cloudiness Plot"
   ]
  },
  {
   "cell_type": "code",
   "execution_count": 14,
   "metadata": {},
   "outputs": [
    {
     "data": {
      "image/png": "[encoded data removed]",
      "text/plain": [
       "<Figure size 432x288 with 1 Axes>"
      ]
     },
     "metadata": {
      "needs_background": "light"
     },
     "output_type": "display_data"
    }
   ],
   "source": [
    "# Build a scatter plot for each data type\n",
    "plt.scatter(clean_city_data[\"Lat\"], clean_city_data[\"Cloudiness\"], marker=\"o\", facecolors=\"blue\", edgecolors=\"black\", s=clean_city_data[\"Cloudiness\"], alpha=0.75)\n",
    "\n",
    "# Incorporate the other graph properties\n",
    "plt.title(\"City Latitude vs Cloudiness\")\n",
    "plt.ylabel(\"Cloudiness\")\n",
    "plt.xlabel(\"Latitude\")\n",
    "plt.grid(True)\n",
    "plt.xlim(-40, 80)\n",
    "plt.ylim(70, 105)\n",
    "\n",
    "# Save the figure\n",
    "plt.savefig(\"LatCloudinessInWorldCities.png\")\n",
    "\n",
    "# Show plot\n",
    "plt.show()"
   ]
  },
  {
   "cell_type": "code",
   "execution_count": 12,
   "metadata": {},
   "outputs": [
    {
     "data": {
      "image/png": "[encoded data removed]",
      "text/plain": [
       "<Figure size 432x288 with 1 Axes>"
      ]
     },
     "metadata": {
      "needs_background": "light"
     },
     "output_type": "display_data"
    }
   ],
   "source": []
  },
  {
   "cell_type": "markdown",
   "metadata": {},
   "source": [
    "## Latitude vs. Wind Speed Plot"
   ]
  },
  {
   "cell_type": "code",
   "execution_count": 15,
   "metadata": {},
   "outputs": [
    {
     "data": {
      "image/png": "[encoded data removed]",
      "text/plain": [
       "<Figure size 432x288 with 1 Axes>"
      ]
     },
     "metadata": {
      "needs_background": "light"
     },
     "output_type": "display_data"
    }
   ],
   "source": [
    "# Build a scatter plot for each data type\n",
    "plt.scatter(clean_city_data[\"Lat\"], clean_city_data[\"Windspeed\"], marker=\"o\", facecolors=\"blue\", edgecolors=\"black\", s=clean_city_data[\"Windspeed\"], alpha=0.75)\n",
    "\n",
    "# Incorporate the other graph properties\n",
    "plt.title(\"City Latitude vs Wind Speed\")\n",
    "plt.ylabel(\"Wind Speed\")\n",
    "plt.xlabel(\"Latitude\")\n",
    "plt.grid(True)\n",
    "plt.xlim(-40, 70)\n",
    "plt.ylim(0.5, 3.5)\n",
    "\n",
    "\n",
    "# Save the figure\n",
    "plt.savefig(\"LatWindSpeedInWorldCities.png\")\n",
    "\n",
    "# Show plot\n",
    "plt.show()"
   ]
  },
  {
   "cell_type": "code",
   "execution_count": 13,
   "metadata": {},
   "outputs": [
    {
     "data": {
      "image/png": "[encoded data removed]",
      "text/plain": [
       "<Figure size 432x288 with 1 Axes>"
      ]
     },
     "metadata": {
      "needs_background": "light"
     },
     "output_type": "display_data"
    }
   ],
   "source": []
  },
  {
   "cell_type": "markdown",
   "metadata": {},
   "source": [
    "## Linear Regression"
   ]
  },
  {
   "cell_type": "code",
   "execution_count": 16,
   "metadata": {},
   "outputs": [
    {
     "data": {
      "text/html": [
       "<div>\n",
       "<style scoped>\n",
       "    .dataframe tbody tr th:only-of-type {\n",
       "        vertical-align: middle;\n",
       "    }\n",
       "\n",
       "    .dataframe tbody tr th {\n",
       "        vertical-align: top;\n",
       "    }\n",
       "\n",
       "    .dataframe thead th {\n",
       "        text-align: right;\n",
       "    }\n",
       "</style>\n",
       "<table border=\"1\" class=\"dataframe\">\n",
       "  <thead>\n",
       "    <tr style=\"text-align: right;\">\n",
       "      <th></th>\n",
       "      <th>City</th>\n",
       "      <th>Lat</th>\n",
       "      <th>Lng</th>\n",
       "      <th>Max temp</th>\n",
       "      <th>Temp</th>\n",
       "      <th>Humidity</th>\n",
       "      <th>Cloudiness</th>\n",
       "      <th>Windspeed</th>\n",
       "      <th>Country</th>\n",
       "      <th>Date</th>\n",
       "    </tr>\n",
       "  </thead>\n",
       "  <tbody>\n",
       "    <tr>\n",
       "      <th>1</th>\n",
       "      <td>Hong Kong</td>\n",
       "      <td>22.2855</td>\n",
       "      <td>114.1577</td>\n",
       "      <td>296.58</td>\n",
       "      <td>295.76</td>\n",
       "      <td>82</td>\n",
       "      <td>96</td>\n",
       "      <td>2.24</td>\n",
       "      <td>HK</td>\n",
       "      <td>1639568548</td>\n",
       "    </tr>\n",
       "    <tr>\n",
       "      <th>2</th>\n",
       "      <td>Fortuna</td>\n",
       "      <td>40.5982</td>\n",
       "      <td>-124.1573</td>\n",
       "      <td>279.63</td>\n",
       "      <td>278.19</td>\n",
       "      <td>87</td>\n",
       "      <td>90</td>\n",
       "      <td>4.02</td>\n",
       "      <td>US</td>\n",
       "      <td>1639568570</td>\n",
       "    </tr>\n",
       "    <tr>\n",
       "      <th>3</th>\n",
       "      <td>Nizhnyaya Poyma</td>\n",
       "      <td>56.1622</td>\n",
       "      <td>97.1933</td>\n",
       "      <td>248.11</td>\n",
       "      <td>248.11</td>\n",
       "      <td>99</td>\n",
       "      <td>60</td>\n",
       "      <td>1.46</td>\n",
       "      <td>RU</td>\n",
       "      <td>1639568570</td>\n",
       "    </tr>\n",
       "    <tr>\n",
       "      <th>4</th>\n",
       "      <td>Inírida</td>\n",
       "      <td>3.8653</td>\n",
       "      <td>-67.9239</td>\n",
       "      <td>297.15</td>\n",
       "      <td>297.15</td>\n",
       "      <td>97</td>\n",
       "      <td>100</td>\n",
       "      <td>0.31</td>\n",
       "      <td>CO</td>\n",
       "      <td>1639568570</td>\n",
       "    </tr>\n",
       "    <tr>\n",
       "      <th>5</th>\n",
       "      <td>Khuzdar</td>\n",
       "      <td>27.7384</td>\n",
       "      <td>66.6434</td>\n",
       "      <td>285.64</td>\n",
       "      <td>285.64</td>\n",
       "      <td>9</td>\n",
       "      <td>0</td>\n",
       "      <td>6.19</td>\n",
       "      <td>PK</td>\n",
       "      <td>1639568570</td>\n",
       "    </tr>\n",
       "    <tr>\n",
       "      <th>7</th>\n",
       "      <td>Jamestown</td>\n",
       "      <td>42.0970</td>\n",
       "      <td>-79.2353</td>\n",
       "      <td>279.92</td>\n",
       "      <td>278.47</td>\n",
       "      <td>59</td>\n",
       "      <td>90</td>\n",
       "      <td>2.24</td>\n",
       "      <td>US</td>\n",
       "      <td>1639568571</td>\n",
       "    </tr>\n",
       "    <tr>\n",
       "      <th>9</th>\n",
       "      <td>Bethel</td>\n",
       "      <td>41.3712</td>\n",
       "      <td>-73.4140</td>\n",
       "      <td>276.03</td>\n",
       "      <td>271.80</td>\n",
       "      <td>78</td>\n",
       "      <td>1</td>\n",
       "      <td>0.00</td>\n",
       "      <td>US</td>\n",
       "      <td>1639568571</td>\n",
       "    </tr>\n",
       "  </tbody>\n",
       "</table>\n",
       "</div>"
      ],
      "text/plain": [
       "              City      Lat       Lng  Max temp    Temp  Humidity  Cloudiness  \\\n",
       "1        Hong Kong  22.2855  114.1577    296.58  295.76        82          96   \n",
       "2          Fortuna  40.5982 -124.1573    279.63  278.19        87          90   \n",
       "3  Nizhnyaya Poyma  56.1622   97.1933    248.11  248.11        99          60   \n",
       "4          Inírida   3.8653  -67.9239    297.15  297.15        97         100   \n",
       "5          Khuzdar  27.7384   66.6434    285.64  285.64         9           0   \n",
       "7        Jamestown  42.0970  -79.2353    279.92  278.47        59          90   \n",
       "9           Bethel  41.3712  -73.4140    276.03  271.80        78           1   \n",
       "\n",
       "   Windspeed Country        Date  \n",
       "1       2.24      HK  1639568548  \n",
       "2       4.02      US  1639568570  \n",
       "3       1.46      RU  1639568570  \n",
       "4       0.31      CO  1639568570  \n",
       "5       6.19      PK  1639568570  \n",
       "7       2.24      US  1639568571  \n",
       "9       0.00      US  1639568571  "
      ]
     },
     "execution_count": 16,
     "metadata": {},
     "output_type": "execute_result"
    }
   ],
   "source": [
    "# Northern Hemisphere (greater than or equal to 0 degrees latitude)\n",
    "nh_df = clean_city_data.loc[(clean_city_data['Lat'] >= 0),:]\n",
    "nh_df"
   ]
  },
  {
   "cell_type": "code",
   "execution_count": 17,
   "metadata": {},
   "outputs": [
    {
     "data": {
      "text/html": [
       "<div>\n",
       "<style scoped>\n",
       "    .dataframe tbody tr th:only-of-type {\n",
       "        vertical-align: middle;\n",
       "    }\n",
       "\n",
       "    .dataframe tbody tr th {\n",
       "        vertical-align: top;\n",
       "    }\n",
       "\n",
       "    .dataframe thead th {\n",
       "        text-align: right;\n",
       "    }\n",
       "</style>\n",
       "<table border=\"1\" class=\"dataframe\">\n",
       "  <thead>\n",
       "    <tr style=\"text-align: right;\">\n",
       "      <th></th>\n",
       "      <th>City</th>\n",
       "      <th>Lat</th>\n",
       "      <th>Lng</th>\n",
       "      <th>Max temp</th>\n",
       "      <th>Temp</th>\n",
       "      <th>Humidity</th>\n",
       "      <th>Cloudiness</th>\n",
       "      <th>Windspeed</th>\n",
       "      <th>Country</th>\n",
       "      <th>Date</th>\n",
       "    </tr>\n",
       "  </thead>\n",
       "  <tbody>\n",
       "    <tr>\n",
       "      <th>6</th>\n",
       "      <td>São José da Coroa Grande</td>\n",
       "      <td>-8.8978</td>\n",
       "      <td>-35.1478</td>\n",
       "      <td>301.22</td>\n",
       "      <td>301.22</td>\n",
       "      <td>67</td>\n",
       "      <td>99</td>\n",
       "      <td>4.69</td>\n",
       "      <td>BR</td>\n",
       "      <td>1639568571</td>\n",
       "    </tr>\n",
       "    <tr>\n",
       "      <th>8</th>\n",
       "      <td>Waiuku</td>\n",
       "      <td>-37.2500</td>\n",
       "      <td>174.7500</td>\n",
       "      <td>292.73</td>\n",
       "      <td>291.09</td>\n",
       "      <td>86</td>\n",
       "      <td>2</td>\n",
       "      <td>2.51</td>\n",
       "      <td>NZ</td>\n",
       "      <td>1639568440</td>\n",
       "    </tr>\n",
       "  </tbody>\n",
       "</table>\n",
       "</div>"
      ],
      "text/plain": [
       "                       City      Lat       Lng  Max temp    Temp  Humidity  \\\n",
       "6  São José da Coroa Grande  -8.8978  -35.1478    301.22  301.22        67   \n",
       "8                    Waiuku -37.2500  174.7500    292.73  291.09        86   \n",
       "\n",
       "   Cloudiness  Windspeed Country        Date  \n",
       "6          99       4.69      BR  1639568571  \n",
       "8           2       2.51      NZ  1639568440  "
      ]
     },
     "execution_count": 17,
     "metadata": {},
     "output_type": "execute_result"
    }
   ],
   "source": [
    "# Southern Hemisphere (less than 0 degrees latitude):\n",
    "sh_df = clean_city_data.loc[(clean_city_data['Lat'] <= 0),:]\n",
    "sh_df"
   ]
  },
  {
   "cell_type": "markdown",
   "metadata": {},
   "source": [
    "####  Northern Hemisphere - Max Temp vs. Latitude Linear Regression"
   ]
  },
  {
   "cell_type": "code",
   "execution_count": 18,
   "metadata": {},
   "outputs": [
    {
     "data": {
      "image/png": "[encoded data removed]",
      "text/plain": [
       "<Figure size 432x288 with 1 Axes>"
      ]
     },
     "metadata": {
      "needs_background": "light"
     },
     "output_type": "display_data"
    },
    {
     "name": "stdout",
     "output_type": "stream",
     "text": [
      "The r-squared is: 0.7764524550893608\n"
     ]
    }
   ],
   "source": [
    "# Northern Hemisphere (greater than or equal to 0 degrees latitude)\n",
    "x = nh_df['Lat']\n",
    "y = nh_df[\"Max temp\"]\n",
    "\n",
    "# Build a scatter plot for each data type\n",
    "plt.scatter(x,y, marker=\"o\", facecolors=\"blue\", edgecolors=\"black\", s=nh_df[\"Max temp\"], alpha=0.75)\n",
    "\n",
    "\n",
    "# Incorporate the other graph properties\n",
    "plt.title(\"Northern Hemisphere Latitude vs Max Temperature\")\n",
    "plt.ylabel(\"Max Temperature (F)\")\n",
    "plt.xlabel(\"Latitude\")\n",
    "plt.grid(True)\n",
    "\n",
    "(slope, intercept, rvalue, pvalue, stderr) = linregress(x, y)\n",
    "regress_values = x * slope + intercept\n",
    "line_eq = \"y = \" + str(round(slope,2)) + \"x + \" + str(round(intercept,2))\n",
    "plt.plot(x,regress_values,\"r-\")\n",
    "plt.annotate(line_eq,(45,240),fontsize=15,color=\"red\")\n",
    "\n",
    "plt.xlim(0,60)\n",
    "plt.ylim(230,320)\n",
    "\n",
    "# Show plot\n",
    "plt.show()\n",
    "print(f\"The r-squared is: {rvalue**2}\")\n"
   ]
  },
  {
   "cell_type": "code",
   "execution_count": 19,
   "metadata": {},
   "outputs": [
    {
     "name": "stdout",
     "output_type": "stream",
     "text": [
      "The correlation between both factors is -0.88\n"
     ]
    }
   ],
   "source": [
    "correlation = st.pearsonr(x,y)\n",
    "print(f\"The correlation between both factors is {round(correlation[0],2)}\")"
   ]
  },
  {
   "cell_type": "code",
   "execution_count": 25,
   "metadata": {
    "scrolled": true
   },
   "outputs": [
    {
     "name": "stdout",
     "output_type": "stream",
     "text": [
      "The r-value is: 0.46937863826630627\n"
     ]
    },
    {
     "data": {
      "image/png": "[encoded data removed]",
      "text/plain": [
       "<Figure size 432x288 with 1 Axes>"
      ]
     },
     "metadata": {
      "needs_background": "light"
     },
     "output_type": "display_data"
    }
   ],
   "source": []
  },
  {
   "cell_type": "markdown",
   "metadata": {},
   "source": [
    "####  Southern Hemisphere - Max Temp vs. Latitude Linear Regression"
   ]
  },
  {
   "cell_type": "code",
   "execution_count": 20,
   "metadata": {},
   "outputs": [
    {
     "data": {
      "image/png": "[encoded data removed]",
      "text/plain": [
       "<Figure size 432x288 with 1 Axes>"
      ]
     },
     "metadata": {
      "needs_background": "light"
     },
     "output_type": "display_data"
    },
    {
     "name": "stdout",
     "output_type": "stream",
     "text": [
      "The r-squared is: 1.0\n"
     ]
    }
   ],
   "source": [
    "# Southern Hemisphere (greater than or equal to 0 degrees latitude)\n",
    "x = sh_df['Lat']\n",
    "y = sh_df[\"Max temp\"]\n",
    "\n",
    "# Build a scatter plot for each data type\n",
    "plt.scatter(x,y, marker=\"o\", facecolors=\"blue\", edgecolors=\"black\", s=sh_df[\"Max temp\"], alpha=0.75)\n",
    "\n",
    "\n",
    "\n",
    "# Incorporate the other graph properties\n",
    "plt.title(\"Southern Hemisphere Latitude vs Max Temperature\")\n",
    "plt.ylabel(\"Max Temperature (F)\")\n",
    "plt.xlabel(\"Latitude\")\n",
    "plt.grid(True)\n",
    "\n",
    "(slope, intercept, rvalue, pvalue, stderr) = linregress(x, y)\n",
    "regress_values = x * slope + intercept\n",
    "line_eq = \"y = \" + str(round(slope,2)) + \"x + \" + str(round(intercept,2))\n",
    "plt.plot(x,regress_values,\"r-\")\n",
    "plt.annotate(line_eq,(-50,290),fontsize=15,color=\"red\")\n",
    "\n",
    "plt.xlim(-40,-5)\n",
    "plt.ylim(280,320)\n",
    "\n",
    "# Show plot\n",
    "plt.show()\n",
    "print(f\"The r-squared is: {rvalue**2}\")\n"
   ]
  },
  {
   "cell_type": "code",
   "execution_count": 21,
   "metadata": {},
   "outputs": [
    {
     "name": "stdout",
     "output_type": "stream",
     "text": [
      "The correlation between both factors is 1.0\n"
     ]
    }
   ],
   "source": [
    "correlation = st.pearsonr(x,y)\n",
    "print(f\"The correlation between both factors is {round(correlation[0],2)}\")"
   ]
  },
  {
   "cell_type": "code",
   "execution_count": 26,
   "metadata": {
    "scrolled": true
   },
   "outputs": [
    {
     "name": "stdout",
     "output_type": "stream",
     "text": [
      "The r-value is: 0.6082708688906918\n"
     ]
    },
    {
     "data": {
      "image/png": "[encoded data removed]",
      "text/plain": [
       "<Figure size 432x288 with 1 Axes>"
      ]
     },
     "metadata": {
      "needs_background": "light"
     },
     "output_type": "display_data"
    }
   ],
   "source": []
  },
  {
   "cell_type": "markdown",
   "metadata": {},
   "source": [
    "####  Northern Hemisphere - Humidity (%) vs. Latitude Linear Regression"
   ]
  },
  {
   "cell_type": "code",
   "execution_count": 66,
   "metadata": {},
   "outputs": [
    {
     "data": {
      "image/png": "[encoded data removed]",
      "text/plain": [
       "<Figure size 432x288 with 1 Axes>"
      ]
     },
     "metadata": {
      "needs_background": "light"
     },
     "output_type": "display_data"
    },
    {
     "name": "stdout",
     "output_type": "stream",
     "text": [
      "The r-squared is: 0.0026541735254585366\n"
     ]
    }
   ],
   "source": [
    "# Northern Hemisphere (greater than or equal to 0 degrees latitude)\n",
    "x = nh_df['Lat']\n",
    "y = nh_df[\"Humidity\"]\n",
    "\n",
    "# Build a scatter plot for each data type\n",
    "plt.scatter(x,y, marker=\"o\", facecolors=\"blue\", edgecolors=\"black\", s=nh_df[\"Humidity\"], alpha=0.75)\n",
    "\n",
    "# Incorporate the other graph properties\n",
    "plt.title(\"Northern Hemisphere Latitude vs Humidity\")\n",
    "plt.ylabel(\"Humidity\")\n",
    "plt.xlabel(\"Latitude\")\n",
    "plt.grid(True)\n",
    "\n",
    "(slope, intercept, rvalue, pvalue, stderr) = linregress(x, y)\n",
    "regress_values = x * slope + intercept\n",
    "line_eq = \"y = \" + str(round(slope,2)) + \"x + \" + str(round(intercept,2))\n",
    "plt.plot(x,regress_values,\"r-\")\n",
    "plt.annotate(line_eq,(10,80),fontsize=15,color=\"red\")\n",
    "\n",
    "plt.xlim(0,60)\n",
    "plt.ylim(65,101)\n",
    "\n",
    "# Show plot\n",
    "plt.show()\n",
    "print(f\"The r-squared is: {rvalue**2}\")\n"
   ]
  },
  {
   "cell_type": "code",
   "execution_count": 28,
   "metadata": {},
   "outputs": [
    {
     "name": "stdout",
     "output_type": "stream",
     "text": [
      "The correlation between both factors is 0.05\n"
     ]
    }
   ],
   "source": [
    "correlation = st.pearsonr(x,y)\n",
    "print(f\"The correlation between both factors is {round(correlation[0],2)}\")"
   ]
  },
  {
   "cell_type": "code",
   "execution_count": 27,
   "metadata": {},
   "outputs": [
    {
     "name": "stdout",
     "output_type": "stream",
     "text": [
      "The r-value is: 0.000543987878808455\n"
     ]
    },
    {
     "data": {
      "image/png": "[encoded data removed]",
      "text/plain": [
       "<Figure size 432x288 with 1 Axes>"
      ]
     },
     "metadata": {
      "needs_background": "light"
     },
     "output_type": "display_data"
    }
   ],
   "source": []
  },
  {
   "cell_type": "markdown",
   "metadata": {},
   "source": [
    "####  Southern Hemisphere - Humidity (%) vs. Latitude Linear Regression"
   ]
  },
  {
   "cell_type": "code",
   "execution_count": 37,
   "metadata": {},
   "outputs": [
    {
     "data": {
      "image/png": "[encoded data removed]",
      "text/plain": [
       "<Figure size 432x288 with 1 Axes>"
      ]
     },
     "metadata": {
      "needs_background": "light"
     },
     "output_type": "display_data"
    },
    {
     "name": "stdout",
     "output_type": "stream",
     "text": [
      "The r-squared is: 1.0\n"
     ]
    }
   ],
   "source": [
    "# Southern Hemisphere (greater than or equal to 0 degrees latitude)\n",
    "x = sh_df['Lat']\n",
    "y = sh_df[\"Humidity\"]\n",
    "\n",
    "# Build a scatter plot for each data type\n",
    "plt.scatter(x,y, marker=\"o\", facecolors=\"blue\", edgecolors=\"black\", s=sh_df[\"Humidity\"], alpha=0.75)\n",
    "\n",
    "# Incorporate the other graph properties\n",
    "plt.title(\"Southern Hemisphere Latitude vs Humidity\")\n",
    "plt.xlabel(\"Latitude\")\n",
    "plt.ylabel(\"Humidity\")\n",
    "\n",
    "plt.grid(True)\n",
    "\n",
    "(slope, intercept, rvalue, pvalue, stderr) = linregress(x, y)\n",
    "regress_values = x * slope + intercept\n",
    "line_eq = \"y = \" + str(round(slope,2)) + \"x + \" + str(round(intercept,2))\n",
    "plt.plot(x,regress_values,\"r-\")\n",
    "plt.annotate(line_eq,(-18,80),fontsize=15,color=\"red\")\n",
    "\n",
    "plt.xlim(-40,-5)\n",
    "plt.ylim(64, 89)\n",
    "\n",
    "# Show plot\n",
    "plt.show()\n",
    "print(f\"The r-squared is: {rvalue**2}\")\n"
   ]
  },
  {
   "cell_type": "code",
   "execution_count": 38,
   "metadata": {},
   "outputs": [
    {
     "name": "stdout",
     "output_type": "stream",
     "text": [
      "The correlation between both factors is -1.0\n"
     ]
    }
   ],
   "source": [
    "correlation = st.pearsonr(x,y)\n",
    "print(f\"The correlation between both factors is {round(correlation[0],2)}\")"
   ]
  },
  {
   "cell_type": "code",
   "execution_count": 28,
   "metadata": {},
   "outputs": [
    {
     "name": "stdout",
     "output_type": "stream",
     "text": [
      "The r-value is: 0.014985174297345524\n"
     ]
    },
    {
     "data": {
      "image/png": "[encoded data removed]",
      "text/plain": [
       "<Figure size 432x288 with 1 Axes>"
      ]
     },
     "metadata": {
      "needs_background": "light"
     },
     "output_type": "display_data"
    }
   ],
   "source": []
  },
  {
   "cell_type": "markdown",
   "metadata": {},
   "source": [
    "####  Northern Hemisphere - Cloudiness (%) vs. Latitude Linear Regression"
   ]
  },
  {
   "cell_type": "code",
   "execution_count": 64,
   "metadata": {},
   "outputs": [
    {
     "data": {
      "image/png": "[encoded data removed]",
      "text/plain": [
       "<Figure size 432x288 with 1 Axes>"
      ]
     },
     "metadata": {
      "needs_background": "light"
     },
     "output_type": "display_data"
    },
    {
     "name": "stdout",
     "output_type": "stream",
     "text": [
      "The r-squared is: 0.07494699192312042\n"
     ]
    }
   ],
   "source": [
    "# Northern Hemisphere (greater than or equal to 0 degrees latitude)\n",
    "x = nh_df['Lat']\n",
    "y = nh_df[\"Cloudiness\"]\n",
    "\n",
    "# Build a scatter plot for each data type\n",
    "plt.scatter(x,y, marker=\"o\", facecolors=\"blue\", edgecolors=\"black\", s=nh_df[\"Cloudiness\"], alpha=0.75)\n",
    "\n",
    "# Incorporate the other graph properties\n",
    "plt.title(\"Northern Hemisphere Latitude vs Cloudiness\")\n",
    "plt.xlabel(\"Latitude\")\n",
    "plt.ylabel(\"Cloudiness\")\n",
    "\n",
    "plt.grid(True)\n",
    "\n",
    "(slope, intercept, rvalue, pvalue, stderr) = linregress(x, y)\n",
    "regress_values = x * slope + intercept\n",
    "line_eq = \"y = \" + str(round(slope,2)) + \"x + \" + str(round(intercept,2))\n",
    "plt.plot(x,regress_values,\"r-\")\n",
    "plt.annotate(line_eq,(30,70),fontsize=15,color=\"red\")\n",
    "\n",
    "plt.xlim(5,60)\n",
    "plt.ylim(40,105)\n",
    "\n",
    "# Show plot\n",
    "plt.show()\n",
    "print(f\"The r-squared is: {rvalue**2}\")\n"
   ]
  },
  {
   "cell_type": "code",
   "execution_count": 43,
   "metadata": {},
   "outputs": [
    {
     "name": "stdout",
     "output_type": "stream",
     "text": [
      "The correlation between both factors is -0.27\n"
     ]
    }
   ],
   "source": [
    "correlation = st.pearsonr(x,y)\n",
    "print(f\"The correlation between both factors is {round(correlation[0],2)}\")"
   ]
  },
  {
   "cell_type": "code",
   "execution_count": 29,
   "metadata": {},
   "outputs": [
    {
     "name": "stdout",
     "output_type": "stream",
     "text": [
      "The r-value is: 0.0020898727664228514\n"
     ]
    },
    {
     "data": {
      "image/png": "[encoded data removed]",
      "text/plain": [
       "<Figure size 432x288 with 1 Axes>"
      ]
     },
     "metadata": {
      "needs_background": "light"
     },
     "output_type": "display_data"
    }
   ],
   "source": []
  },
  {
   "cell_type": "markdown",
   "metadata": {},
   "source": [
    "####  Southern Hemisphere - Cloudiness (%) vs. Latitude Linear Regression"
   ]
  },
  {
   "cell_type": "code",
   "execution_count": 47,
   "metadata": {},
   "outputs": [
    {
     "data": {
      "image/png": "[encoded data removed]",
      "text/plain": [
       "<Figure size 432x288 with 1 Axes>"
      ]
     },
     "metadata": {
      "needs_background": "light"
     },
     "output_type": "display_data"
    },
    {
     "name": "stdout",
     "output_type": "stream",
     "text": [
      "The r-squared is: 0.07494699192312042\n"
     ]
    }
   ],
   "source": [
    "# Southern Hemisphere (greater than or equal to 0 degrees latitude)\n",
    "x = nh_df['Lat']\n",
    "y = nh_df[\"Cloudiness\"]\n",
    "\n",
    "# Build a scatter plot for each data type\n",
    "plt.scatter(x,y, marker=\"o\", facecolors=\"blue\", edgecolors=\"black\", s=nh_df[\"Cloudiness\"], alpha=0.75)\n",
    "\n",
    "# Incorporate the other graph properties\n",
    "plt.title(\"Southern Hemisphere Latitude vs Cloudiness\")\n",
    "plt.xlabel(\"Latitude\")\n",
    "plt.ylabel(\"Cloudiness\")\n",
    "\n",
    "plt.grid(True)\n",
    "\n",
    "(slope, intercept, rvalue, pvalue, stderr) = linregress(x, y)\n",
    "regress_values = x * slope + intercept\n",
    "line_eq = \"y = \" + str(round(slope,2)) + \"x + \" + str(round(intercept,2))\n",
    "plt.plot(x,regress_values,\"r-\")\n",
    "plt.annotate(line_eq,(10,60),fontsize=15,color=\"red\")\n",
    "\n",
    "plt.xlim(1,60)\n",
    "plt.ylim(40,110)\n",
    "\n",
    "# Show plot\n",
    "plt.show()\n",
    "print(f\"The r-squared is: {rvalue**2}\")\n"
   ]
  },
  {
   "cell_type": "code",
   "execution_count": 48,
   "metadata": {},
   "outputs": [
    {
     "name": "stdout",
     "output_type": "stream",
     "text": [
      "The correlation between both factors is -0.27\n"
     ]
    }
   ],
   "source": [
    "correlation = st.pearsonr(x,y)\n",
    "print(f\"The correlation between both factors is {round(correlation[0],2)}\")"
   ]
  },
  {
   "cell_type": "code",
   "execution_count": 30,
   "metadata": {},
   "outputs": [
    {
     "name": "stdout",
     "output_type": "stream",
     "text": [
      "The r-value is: 0.0035263772085582894\n"
     ]
    },
    {
     "data": {
      "image/png": "[encoded data removed]",
      "text/plain": [
       "<Figure size 432x288 with 1 Axes>"
      ]
     },
     "metadata": {
      "needs_background": "light"
     },
     "output_type": "display_data"
    }
   ],
   "source": []
  },
  {
   "cell_type": "markdown",
   "metadata": {},
   "source": [
    "####  Northern Hemisphere - Wind Speed (mph) vs. Latitude Linear Regression"
   ]
  },
  {
   "cell_type": "code",
   "execution_count": 61,
   "metadata": {},
   "outputs": [
    {
     "data": {
      "image/png": "[encoded data removed]",
      "text/plain": [
       "<Figure size 432x288 with 1 Axes>"
      ]
     },
     "metadata": {
      "needs_background": "light"
     },
     "output_type": "display_data"
    },
    {
     "name": "stdout",
     "output_type": "stream",
     "text": [
      "The r-squared is: 1.0\n"
     ]
    }
   ],
   "source": [
    "# Northern Hemisphere (greater than or equal to 0 degrees latitude)\n",
    "x = sh_df['Lat']\n",
    "y = sh_df[\"Windspeed\"]\n",
    "\n",
    "# Build a scatter plot for each data type\n",
    "plt.scatter(x,y, marker=\"o\", facecolors=\"blue\", edgecolors=\"black\", s=sh_df[\"Windspeed\"], alpha=0.75)\n",
    "\n",
    "\n",
    "\n",
    "# Incorporate the other graph properties\n",
    "plt.title(\"Northern Hemisphere Latitude vs Wind Speed\")\n",
    "plt.ylabel(\"Wind Speed\")\n",
    "plt.xlabel(\"Latitude\")\n",
    "plt.grid(True)\n",
    "\n",
    "plt.xlim(-40,-5)\n",
    "plt.ylim(2,5)\n",
    "\n",
    "(slope, intercept, rvalue, pvalue, stderr) = linregress(x, y)\n",
    "regress_values = x * slope + intercept\n",
    "line_eq = \"y = \" + str(round(slope,2)) + \"x + \" + str(round(intercept,2))\n",
    "plt.plot(x,regress_values,\"r-\")\n",
    "plt.annotate(line_eq,(-30,3),fontsize=15,color=\"red\")\n",
    "\n",
    "# Show plot\n",
    "plt.show()\n",
    "print(f\"The r-squared is: {rvalue**2}\")"
   ]
  },
  {
   "cell_type": "code",
   "execution_count": 55,
   "metadata": {},
   "outputs": [
    {
     "name": "stdout",
     "output_type": "stream",
     "text": [
      "The correlation between both factors is 1.0\n"
     ]
    }
   ],
   "source": [
    "correlation = st.pearsonr(x,y)\n",
    "print(f\"The correlation between both factors is {round(correlation[0],2)}\")"
   ]
  },
  {
   "cell_type": "code",
   "execution_count": 31,
   "metadata": {},
   "outputs": [
    {
     "name": "stdout",
     "output_type": "stream",
     "text": [
      "The r-value is: 0.04019723576144484\n"
     ]
    },
    {
     "data": {
      "image/png": "[encoded data removed]",
      "text/plain": [
       "<Figure size 432x288 with 1 Axes>"
      ]
     },
     "metadata": {
      "needs_background": "light"
     },
     "output_type": "display_data"
    }
   ],
   "source": []
  },
  {
   "cell_type": "code",
   "execution_count": null,
   "metadata": {},
   "outputs": [],
   "source": []
  },
  {
   "cell_type": "markdown",
   "metadata": {},
   "source": [
    "####  Southern Hemisphere - Wind Speed (mph) vs. Latitude Linear Regression"
   ]
  },
  {
   "cell_type": "code",
   "execution_count": 60,
   "metadata": {},
   "outputs": [
    {
     "data": {
      "image/png": "[encoded data removed]",
      "text/plain": [
       "<Figure size 432x288 with 1 Axes>"
      ]
     },
     "metadata": {
      "needs_background": "light"
     },
     "output_type": "display_data"
    },
    {
     "name": "stdout",
     "output_type": "stream",
     "text": [
      "The r-squared is: 1.0\n"
     ]
    }
   ],
   "source": [
    "# Southern Hemisphere (greater than or equal to 0 degrees latitude)\n",
    "x = sh_df['Lat']\n",
    "y = sh_df[\"Windspeed\"]\n",
    "\n",
    "# Build a scatter plot for each data type\n",
    "plt.scatter(x,y, marker=\"o\", facecolors=\"blue\", edgecolors=\"black\", s=sh_df[\"Windspeed\"], alpha=0.75)\n",
    "\n",
    "plt.xlim(-40,-5)\n",
    "plt.ylim(2,5)\n",
    "\n",
    "# Incorporate the other graph properties\n",
    "plt.title(\"Southern Hemisphere Latitude vs Wind Speed\")\n",
    "plt.ylabel(\"Wind Speed\")\n",
    "plt.xlabel(\"Latitude\")\n",
    "plt.grid(True)\n",
    "\n",
    "(slope, intercept, rvalue, pvalue, stderr) = linregress(x, y)\n",
    "regress_values = x * slope + intercept\n",
    "line_eq = \"y = \" + str(round(slope,2)) + \"x + \" + str(round(intercept,2))\n",
    "plt.plot(x,regress_values,\"r-\")\n",
    "plt.annotate(line_eq,(-30,4),fontsize=15,color=\"red\")\n",
    "\n",
    "# Show plot\n",
    "plt.show()\n",
    "print(f\"The r-squared is: {rvalue**2}\")"
   ]
  },
  {
   "cell_type": "code",
   "execution_count": 58,
   "metadata": {},
   "outputs": [
    {
     "name": "stdout",
     "output_type": "stream",
     "text": [
      "The correlation between both factors is 1.0\n"
     ]
    }
   ],
   "source": [
    "correlation = st.pearsonr(x,y)\n",
    "print(f\"The correlation between both factors is {round(correlation[0],2)}\")"
   ]
  },
  {
   "cell_type": "code",
   "execution_count": 32,
   "metadata": {},
   "outputs": [
    {
     "name": "stdout",
     "output_type": "stream",
     "text": [
      "The r-value is: 0.017128274759839232\n"
     ]
    },
    {
     "data": {
      "image/png": "[encoded data removed]",
      "text/plain": [
       "<Figure size 432x288 with 1 Axes>"
      ]
     },
     "metadata": {
      "needs_background": "light"
     },
     "output_type": "display_data"
    }
   ],
   "source": []
  },
  {
   "cell_type": "code",
   "execution_count": null,
   "metadata": {},
   "outputs": [],
   "source": []
  }
 ],
 "metadata": {
  "anaconda-cloud": {},
  "kernel_info": {
   "name": "python3"
  },
  "kernelspec": {
   "display_name": "Python 3",
   "language": "python",
   "name": "python3"
  },
  "language_info": {
   "codemirror_mode": {
    "name": "ipython",
    "version": 3
   },
   "file_extension": ".py",
   "mimetype": "text/x-python",
   "name": "python",
   "nbconvert_exporter": "python",
   "pygments_lexer": "ipython3",
   "version": "3.8.8"
  },
  "latex_envs": {
   "LaTeX_envs_menu_present": true,
   "autoclose": false,
   "autocomplete": true,
   "bibliofile": "biblio.bib",
   "cite_by": "apalike",
   "current_citInitial": 1,
   "eqLabelWithNumbers": true,
   "eqNumInitial": 1,
   "hotkeys": {
    "equation": "Ctrl-E",
    "itemize": "Ctrl-I"
   },
   "labels_anchors": false,
   "latex_user_defs": false,
   "report_style_numbering": false,
   "user_envs_cfg": false
  },
  "nteract": {
   "version": "0.12.3"
  }
 },
 "nbformat": 4,
 "nbformat_minor": 2
}
