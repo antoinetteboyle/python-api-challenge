{
 "cells": [
  {
   "cell_type": "markdown",
   "metadata": {},
   "source": [
    "# WeatherPy\n",
    "----\n",
    "\n",
    "#### Note\n",
    "* Instructions have been included for each segment. You do not have to follow them exactly, but they are included to help you think through the steps."
   ]
  },
  {
   "cell_type": "code",
   "execution_count": 2,
   "metadata": {
    "scrolled": true
   },
   "outputs": [],
   "source": [
    "# Dependencies and Setup\n",
    "import matplotlib.pyplot as plt\n",
    "import pandas as pd\n",
    "import numpy as np\n",
    "import requests\n",
    "import time\n",
    "from scipy.stats import linregress\n",
    "import scipy.stats as st\n",
    "import datetime\n",
    "import time\n",
    "\n",
    "# Import API key\n",
    "from api_keys import weather_api_key\n",
    "\n",
    "# Incorporated citipy to determine city based on latitude and longitude\n",
    "from citipy import citipy\n",
    "\n",
    "# Output File (CSV)\n",
    "output_data_file = \"output_data/cities.csv\"\n",
    "\n",
    "# Range of latitudes and longitudes\n",
    "lat_range = (-90, 90)\n",
    "lng_range = (-180, 180)"
   ]
  },
  {
   "cell_type": "markdown",
   "metadata": {},
   "source": [
    "## Generate Cities List"
   ]
  },
  {
   "cell_type": "code",
   "execution_count": 3,
   "metadata": {},
   "outputs": [
    {
     "data": {
      "text/plain": [
       "619"
      ]
     },
     "execution_count": 3,
     "metadata": {},
     "output_type": "execute_result"
    }
   ],
   "source": [
    "# List for holding lat_lngs and cities\n",
    "lat_lngs = []\n",
    "cities = []\n",
    "\n",
    "# Create a set of random lat and lng combinations\n",
    "lats = np.random.uniform(lat_range[0], lat_range[1], size=1500)\n",
    "lngs = np.random.uniform(lng_range[0], lng_range[1], size=1500)\n",
    "lat_lngs = zip(lats, lngs)\n",
    "\n",
    "# Identify nearest city for each lat, lng combination\n",
    "for lat_lng in lat_lngs:\n",
    "    city = citipy.nearest_city(lat_lng[0], lat_lng[1]).city_name\n",
    "    \n",
    "    # If the city is unique, then add it to a our cities list\n",
    "    if city not in cities:\n",
    "        cities.append(city)\n",
    "\n",
    "# Print the city count to confirm sufficient count\n",
    "len(cities)"
   ]
  },
  {
   "cell_type": "markdown",
   "metadata": {},
   "source": [
    "### Perform API Calls\n",
    "* Perform a weather check on each city using a series of successive API calls.\n",
    "* Include a print log of each city as it'sbeing processed (with the city number and city name).\n",
    "\n",
    "> **HINT:** The OpenWeatherMap API only allows 60 calls per minute under their free plan. Try using `time.sleep(60)` after each set of 50 cities to avoid API errors due to large calls."
   ]
  },
  {
   "cell_type": "code",
   "execution_count": 4,
   "metadata": {},
   "outputs": [
    {
     "name": "stdout",
     "output_type": "stream",
     "text": [
      "Beginning Data Retrieval\n",
      "Processing Weather Record: 0 of Set 1 | matinhos\n",
      "matinhos City found! Appending response\n",
      "Processing Weather Record: 1 of Set 1 | barrow\n",
      "barrow City found! Appending response\n",
      "Processing Weather Record: 2 of Set 1 | itoman\n",
      "itoman City found! Appending response\n",
      "Processing Weather Record: 3 of Set 1 | brae\n",
      "brae City found! Appending response\n",
      "Processing Weather Record: 4 of Set 1 | riyadh\n",
      "riyadh City found! Appending response\n",
      "Processing Weather Record: 5 of Set 1 | barentsburg\n",
      "barentsburg City was not found! Skipping...\n",
      "Processing Weather Record: 6 of Set 1 | poum\n",
      "poum City found! Appending response\n",
      "Processing Weather Record: 7 of Set 1 | joao camara\n",
      "joao camara City found! Appending response\n",
      "Processing Weather Record: 8 of Set 1 | sentyabrskiy\n",
      "sentyabrskiy City was not found! Skipping...\n",
      "Processing Weather Record: 9 of Set 1 | thompson\n",
      "thompson City found! Appending response\n",
      "Processing Weather Record: 10 of Set 1 | aleksandrow lodzki\n",
      "aleksandrow lodzki City found! Appending response\n",
      "Processing Weather Record: 11 of Set 1 | kununurra\n",
      "kununurra City found! Appending response\n",
      "Processing Weather Record: 12 of Set 1 | mataura\n",
      "mataura City found! Appending response\n",
      "Processing Weather Record: 13 of Set 1 | mar del plata\n",
      "mar del plata City found! Appending response\n",
      "Processing Weather Record: 14 of Set 1 | saleaula\n",
      "saleaula City was not found! Skipping...\n",
      "Processing Weather Record: 15 of Set 1 | tasiilaq\n",
      "tasiilaq City found! Appending response\n",
      "Processing Weather Record: 16 of Set 1 | longyearbyen\n",
      "longyearbyen City found! Appending response\n",
      "Processing Weather Record: 17 of Set 1 | bluff\n",
      "bluff City found! Appending response\n",
      "Processing Weather Record: 18 of Set 1 | thinadhoo\n",
      "thinadhoo City found! Appending response\n",
      "Processing Weather Record: 19 of Set 1 | hobart\n",
      "hobart City found! Appending response\n",
      "Processing Weather Record: 20 of Set 1 | kamenka\n",
      "kamenka City found! Appending response\n",
      "Processing Weather Record: 21 of Set 1 | jamestown\n"
     ]
    },
    {
     "ename": "KeyboardInterrupt",
     "evalue": "",
     "output_type": "error",
     "traceback": [
      "\u001b[1;31m---------------------------------------------------------------------------\u001b[0m",
      "\u001b[1;31mKeyboardInterrupt\u001b[0m                         Traceback (most recent call last)",
      "\u001b[1;32m<ipython-input-4-a43600a7bae0>\u001b[0m in \u001b[0;36m<module>\u001b[1;34m\u001b[0m\n\u001b[0;32m     24\u001b[0m             \u001b[0mprint\u001b[0m\u001b[1;33m(\u001b[0m\u001b[1;34mf\"Processing Weather Record: {x} of Set {set} | {cities[x]}\"\u001b[0m\u001b[1;33m)\u001b[0m\u001b[1;33m\u001b[0m\u001b[1;33m\u001b[0m\u001b[0m\n\u001b[0;32m     25\u001b[0m             \u001b[0mquery_url\u001b[0m \u001b[1;33m=\u001b[0m \u001b[1;34mf\"{url}appid={weather_api_key}&q={cities[x]}&units={units}\"\u001b[0m\u001b[1;33m\u001b[0m\u001b[1;33m\u001b[0m\u001b[0m\n\u001b[1;32m---> 26\u001b[1;33m             \u001b[0mresponse\u001b[0m \u001b[1;33m=\u001b[0m \u001b[0mrequests\u001b[0m\u001b[1;33m.\u001b[0m\u001b[0mget\u001b[0m\u001b[1;33m(\u001b[0m\u001b[0mquery_url\u001b[0m\u001b[1;33m)\u001b[0m\u001b[1;33m.\u001b[0m\u001b[0mjson\u001b[0m\u001b[1;33m(\u001b[0m\u001b[1;33m)\u001b[0m\u001b[1;33m\u001b[0m\u001b[1;33m\u001b[0m\u001b[0m\n\u001b[0m\u001b[0;32m     27\u001b[0m \u001b[1;33m\u001b[0m\u001b[0m\n\u001b[0;32m     28\u001b[0m             \u001b[1;32mtry\u001b[0m\u001b[1;33m:\u001b[0m\u001b[1;33m\u001b[0m\u001b[1;33m\u001b[0m\u001b[0m\n",
      "\u001b[1;32m~\\anaconda3\\lib\\site-packages\\requests\\api.py\u001b[0m in \u001b[0;36mget\u001b[1;34m(url, params, **kwargs)\u001b[0m\n\u001b[0;32m     74\u001b[0m \u001b[1;33m\u001b[0m\u001b[0m\n\u001b[0;32m     75\u001b[0m     \u001b[0mkwargs\u001b[0m\u001b[1;33m.\u001b[0m\u001b[0msetdefault\u001b[0m\u001b[1;33m(\u001b[0m\u001b[1;34m'allow_redirects'\u001b[0m\u001b[1;33m,\u001b[0m \u001b[1;32mTrue\u001b[0m\u001b[1;33m)\u001b[0m\u001b[1;33m\u001b[0m\u001b[1;33m\u001b[0m\u001b[0m\n\u001b[1;32m---> 76\u001b[1;33m     \u001b[1;32mreturn\u001b[0m \u001b[0mrequest\u001b[0m\u001b[1;33m(\u001b[0m\u001b[1;34m'get'\u001b[0m\u001b[1;33m,\u001b[0m \u001b[0murl\u001b[0m\u001b[1;33m,\u001b[0m \u001b[0mparams\u001b[0m\u001b[1;33m=\u001b[0m\u001b[0mparams\u001b[0m\u001b[1;33m,\u001b[0m \u001b[1;33m**\u001b[0m\u001b[0mkwargs\u001b[0m\u001b[1;33m)\u001b[0m\u001b[1;33m\u001b[0m\u001b[1;33m\u001b[0m\u001b[0m\n\u001b[0m\u001b[0;32m     77\u001b[0m \u001b[1;33m\u001b[0m\u001b[0m\n\u001b[0;32m     78\u001b[0m \u001b[1;33m\u001b[0m\u001b[0m\n",
      "\u001b[1;32m~\\anaconda3\\lib\\site-packages\\requests\\api.py\u001b[0m in \u001b[0;36mrequest\u001b[1;34m(method, url, **kwargs)\u001b[0m\n\u001b[0;32m     59\u001b[0m     \u001b[1;31m# cases, and look like a memory leak in others.\u001b[0m\u001b[1;33m\u001b[0m\u001b[1;33m\u001b[0m\u001b[1;33m\u001b[0m\u001b[0m\n\u001b[0;32m     60\u001b[0m     \u001b[1;32mwith\u001b[0m \u001b[0msessions\u001b[0m\u001b[1;33m.\u001b[0m\u001b[0mSession\u001b[0m\u001b[1;33m(\u001b[0m\u001b[1;33m)\u001b[0m \u001b[1;32mas\u001b[0m \u001b[0msession\u001b[0m\u001b[1;33m:\u001b[0m\u001b[1;33m\u001b[0m\u001b[1;33m\u001b[0m\u001b[0m\n\u001b[1;32m---> 61\u001b[1;33m         \u001b[1;32mreturn\u001b[0m \u001b[0msession\u001b[0m\u001b[1;33m.\u001b[0m\u001b[0mrequest\u001b[0m\u001b[1;33m(\u001b[0m\u001b[0mmethod\u001b[0m\u001b[1;33m=\u001b[0m\u001b[0mmethod\u001b[0m\u001b[1;33m,\u001b[0m \u001b[0murl\u001b[0m\u001b[1;33m=\u001b[0m\u001b[0murl\u001b[0m\u001b[1;33m,\u001b[0m \u001b[1;33m**\u001b[0m\u001b[0mkwargs\u001b[0m\u001b[1;33m)\u001b[0m\u001b[1;33m\u001b[0m\u001b[1;33m\u001b[0m\u001b[0m\n\u001b[0m\u001b[0;32m     62\u001b[0m \u001b[1;33m\u001b[0m\u001b[0m\n\u001b[0;32m     63\u001b[0m \u001b[1;33m\u001b[0m\u001b[0m\n",
      "\u001b[1;32m~\\anaconda3\\lib\\site-packages\\requests\\sessions.py\u001b[0m in \u001b[0;36mrequest\u001b[1;34m(self, method, url, params, data, headers, cookies, files, auth, timeout, allow_redirects, proxies, hooks, stream, verify, cert, json)\u001b[0m\n\u001b[0;32m    540\u001b[0m         }\n\u001b[0;32m    541\u001b[0m         \u001b[0msend_kwargs\u001b[0m\u001b[1;33m.\u001b[0m\u001b[0mupdate\u001b[0m\u001b[1;33m(\u001b[0m\u001b[0msettings\u001b[0m\u001b[1;33m)\u001b[0m\u001b[1;33m\u001b[0m\u001b[1;33m\u001b[0m\u001b[0m\n\u001b[1;32m--> 542\u001b[1;33m         \u001b[0mresp\u001b[0m \u001b[1;33m=\u001b[0m \u001b[0mself\u001b[0m\u001b[1;33m.\u001b[0m\u001b[0msend\u001b[0m\u001b[1;33m(\u001b[0m\u001b[0mprep\u001b[0m\u001b[1;33m,\u001b[0m \u001b[1;33m**\u001b[0m\u001b[0msend_kwargs\u001b[0m\u001b[1;33m)\u001b[0m\u001b[1;33m\u001b[0m\u001b[1;33m\u001b[0m\u001b[0m\n\u001b[0m\u001b[0;32m    543\u001b[0m \u001b[1;33m\u001b[0m\u001b[0m\n\u001b[0;32m    544\u001b[0m         \u001b[1;32mreturn\u001b[0m \u001b[0mresp\u001b[0m\u001b[1;33m\u001b[0m\u001b[1;33m\u001b[0m\u001b[0m\n",
      "\u001b[1;32m~\\anaconda3\\lib\\site-packages\\requests\\sessions.py\u001b[0m in \u001b[0;36msend\u001b[1;34m(self, request, **kwargs)\u001b[0m\n\u001b[0;32m    653\u001b[0m \u001b[1;33m\u001b[0m\u001b[0m\n\u001b[0;32m    654\u001b[0m         \u001b[1;31m# Send the request\u001b[0m\u001b[1;33m\u001b[0m\u001b[1;33m\u001b[0m\u001b[1;33m\u001b[0m\u001b[0m\n\u001b[1;32m--> 655\u001b[1;33m         \u001b[0mr\u001b[0m \u001b[1;33m=\u001b[0m \u001b[0madapter\u001b[0m\u001b[1;33m.\u001b[0m\u001b[0msend\u001b[0m\u001b[1;33m(\u001b[0m\u001b[0mrequest\u001b[0m\u001b[1;33m,\u001b[0m \u001b[1;33m**\u001b[0m\u001b[0mkwargs\u001b[0m\u001b[1;33m)\u001b[0m\u001b[1;33m\u001b[0m\u001b[1;33m\u001b[0m\u001b[0m\n\u001b[0m\u001b[0;32m    656\u001b[0m \u001b[1;33m\u001b[0m\u001b[0m\n\u001b[0;32m    657\u001b[0m         \u001b[1;31m# Total elapsed time of the request (approximately)\u001b[0m\u001b[1;33m\u001b[0m\u001b[1;33m\u001b[0m\u001b[1;33m\u001b[0m\u001b[0m\n",
      "\u001b[1;32m~\\anaconda3\\lib\\site-packages\\requests\\adapters.py\u001b[0m in \u001b[0;36msend\u001b[1;34m(self, request, stream, timeout, verify, cert, proxies)\u001b[0m\n\u001b[0;32m    437\u001b[0m         \u001b[1;32mtry\u001b[0m\u001b[1;33m:\u001b[0m\u001b[1;33m\u001b[0m\u001b[1;33m\u001b[0m\u001b[0m\n\u001b[0;32m    438\u001b[0m             \u001b[1;32mif\u001b[0m \u001b[1;32mnot\u001b[0m \u001b[0mchunked\u001b[0m\u001b[1;33m:\u001b[0m\u001b[1;33m\u001b[0m\u001b[1;33m\u001b[0m\u001b[0m\n\u001b[1;32m--> 439\u001b[1;33m                 resp = conn.urlopen(\n\u001b[0m\u001b[0;32m    440\u001b[0m                     \u001b[0mmethod\u001b[0m\u001b[1;33m=\u001b[0m\u001b[0mrequest\u001b[0m\u001b[1;33m.\u001b[0m\u001b[0mmethod\u001b[0m\u001b[1;33m,\u001b[0m\u001b[1;33m\u001b[0m\u001b[1;33m\u001b[0m\u001b[0m\n\u001b[0;32m    441\u001b[0m                     \u001b[0murl\u001b[0m\u001b[1;33m=\u001b[0m\u001b[0murl\u001b[0m\u001b[1;33m,\u001b[0m\u001b[1;33m\u001b[0m\u001b[1;33m\u001b[0m\u001b[0m\n",
      "\u001b[1;32m~\\anaconda3\\lib\\site-packages\\urllib3\\connectionpool.py\u001b[0m in \u001b[0;36murlopen\u001b[1;34m(self, method, url, body, headers, retries, redirect, assert_same_host, timeout, pool_timeout, release_conn, chunked, body_pos, **response_kw)\u001b[0m\n\u001b[0;32m    697\u001b[0m \u001b[1;33m\u001b[0m\u001b[0m\n\u001b[0;32m    698\u001b[0m             \u001b[1;31m# Make the request on the httplib connection object.\u001b[0m\u001b[1;33m\u001b[0m\u001b[1;33m\u001b[0m\u001b[1;33m\u001b[0m\u001b[0m\n\u001b[1;32m--> 699\u001b[1;33m             httplib_response = self._make_request(\n\u001b[0m\u001b[0;32m    700\u001b[0m                 \u001b[0mconn\u001b[0m\u001b[1;33m,\u001b[0m\u001b[1;33m\u001b[0m\u001b[1;33m\u001b[0m\u001b[0m\n\u001b[0;32m    701\u001b[0m                 \u001b[0mmethod\u001b[0m\u001b[1;33m,\u001b[0m\u001b[1;33m\u001b[0m\u001b[1;33m\u001b[0m\u001b[0m\n",
      "\u001b[1;32m~\\anaconda3\\lib\\site-packages\\urllib3\\connectionpool.py\u001b[0m in \u001b[0;36m_make_request\u001b[1;34m(self, conn, method, url, timeout, chunked, **httplib_request_kw)\u001b[0m\n\u001b[0;32m    443\u001b[0m                     \u001b[1;31m# Python 3 (including for exceptions like SystemExit).\u001b[0m\u001b[1;33m\u001b[0m\u001b[1;33m\u001b[0m\u001b[1;33m\u001b[0m\u001b[0m\n\u001b[0;32m    444\u001b[0m                     \u001b[1;31m# Otherwise it looks like a bug in the code.\u001b[0m\u001b[1;33m\u001b[0m\u001b[1;33m\u001b[0m\u001b[1;33m\u001b[0m\u001b[0m\n\u001b[1;32m--> 445\u001b[1;33m                     \u001b[0msix\u001b[0m\u001b[1;33m.\u001b[0m\u001b[0mraise_from\u001b[0m\u001b[1;33m(\u001b[0m\u001b[0me\u001b[0m\u001b[1;33m,\u001b[0m \u001b[1;32mNone\u001b[0m\u001b[1;33m)\u001b[0m\u001b[1;33m\u001b[0m\u001b[1;33m\u001b[0m\u001b[0m\n\u001b[0m\u001b[0;32m    446\u001b[0m         \u001b[1;32mexcept\u001b[0m \u001b[1;33m(\u001b[0m\u001b[0mSocketTimeout\u001b[0m\u001b[1;33m,\u001b[0m \u001b[0mBaseSSLError\u001b[0m\u001b[1;33m,\u001b[0m \u001b[0mSocketError\u001b[0m\u001b[1;33m)\u001b[0m \u001b[1;32mas\u001b[0m \u001b[0me\u001b[0m\u001b[1;33m:\u001b[0m\u001b[1;33m\u001b[0m\u001b[1;33m\u001b[0m\u001b[0m\n\u001b[0;32m    447\u001b[0m             \u001b[0mself\u001b[0m\u001b[1;33m.\u001b[0m\u001b[0m_raise_timeout\u001b[0m\u001b[1;33m(\u001b[0m\u001b[0merr\u001b[0m\u001b[1;33m=\u001b[0m\u001b[0me\u001b[0m\u001b[1;33m,\u001b[0m \u001b[0murl\u001b[0m\u001b[1;33m=\u001b[0m\u001b[0murl\u001b[0m\u001b[1;33m,\u001b[0m \u001b[0mtimeout_value\u001b[0m\u001b[1;33m=\u001b[0m\u001b[0mread_timeout\u001b[0m\u001b[1;33m)\u001b[0m\u001b[1;33m\u001b[0m\u001b[1;33m\u001b[0m\u001b[0m\n",
      "\u001b[1;32m~\\anaconda3\\lib\\site-packages\\urllib3\\packages\\six.py\u001b[0m in \u001b[0;36mraise_from\u001b[1;34m(value, from_value)\u001b[0m\n",
      "\u001b[1;32m~\\anaconda3\\lib\\site-packages\\urllib3\\connectionpool.py\u001b[0m in \u001b[0;36m_make_request\u001b[1;34m(self, conn, method, url, timeout, chunked, **httplib_request_kw)\u001b[0m\n\u001b[0;32m    438\u001b[0m                 \u001b[1;31m# Python 3\u001b[0m\u001b[1;33m\u001b[0m\u001b[1;33m\u001b[0m\u001b[1;33m\u001b[0m\u001b[0m\n\u001b[0;32m    439\u001b[0m                 \u001b[1;32mtry\u001b[0m\u001b[1;33m:\u001b[0m\u001b[1;33m\u001b[0m\u001b[1;33m\u001b[0m\u001b[0m\n\u001b[1;32m--> 440\u001b[1;33m                     \u001b[0mhttplib_response\u001b[0m \u001b[1;33m=\u001b[0m \u001b[0mconn\u001b[0m\u001b[1;33m.\u001b[0m\u001b[0mgetresponse\u001b[0m\u001b[1;33m(\u001b[0m\u001b[1;33m)\u001b[0m\u001b[1;33m\u001b[0m\u001b[1;33m\u001b[0m\u001b[0m\n\u001b[0m\u001b[0;32m    441\u001b[0m                 \u001b[1;32mexcept\u001b[0m \u001b[0mBaseException\u001b[0m \u001b[1;32mas\u001b[0m \u001b[0me\u001b[0m\u001b[1;33m:\u001b[0m\u001b[1;33m\u001b[0m\u001b[1;33m\u001b[0m\u001b[0m\n\u001b[0;32m    442\u001b[0m                     \u001b[1;31m# Remove the TypeError from the exception chain in\u001b[0m\u001b[1;33m\u001b[0m\u001b[1;33m\u001b[0m\u001b[1;33m\u001b[0m\u001b[0m\n",
      "\u001b[1;32m~\\anaconda3\\lib\\http\\client.py\u001b[0m in \u001b[0;36mgetresponse\u001b[1;34m(self)\u001b[0m\n\u001b[0;32m   1345\u001b[0m         \u001b[1;32mtry\u001b[0m\u001b[1;33m:\u001b[0m\u001b[1;33m\u001b[0m\u001b[1;33m\u001b[0m\u001b[0m\n\u001b[0;32m   1346\u001b[0m             \u001b[1;32mtry\u001b[0m\u001b[1;33m:\u001b[0m\u001b[1;33m\u001b[0m\u001b[1;33m\u001b[0m\u001b[0m\n\u001b[1;32m-> 1347\u001b[1;33m                 \u001b[0mresponse\u001b[0m\u001b[1;33m.\u001b[0m\u001b[0mbegin\u001b[0m\u001b[1;33m(\u001b[0m\u001b[1;33m)\u001b[0m\u001b[1;33m\u001b[0m\u001b[1;33m\u001b[0m\u001b[0m\n\u001b[0m\u001b[0;32m   1348\u001b[0m             \u001b[1;32mexcept\u001b[0m \u001b[0mConnectionError\u001b[0m\u001b[1;33m:\u001b[0m\u001b[1;33m\u001b[0m\u001b[1;33m\u001b[0m\u001b[0m\n\u001b[0;32m   1349\u001b[0m                 \u001b[0mself\u001b[0m\u001b[1;33m.\u001b[0m\u001b[0mclose\u001b[0m\u001b[1;33m(\u001b[0m\u001b[1;33m)\u001b[0m\u001b[1;33m\u001b[0m\u001b[1;33m\u001b[0m\u001b[0m\n",
      "\u001b[1;32m~\\anaconda3\\lib\\http\\client.py\u001b[0m in \u001b[0;36mbegin\u001b[1;34m(self)\u001b[0m\n\u001b[0;32m    305\u001b[0m         \u001b[1;31m# read until we get a non-100 response\u001b[0m\u001b[1;33m\u001b[0m\u001b[1;33m\u001b[0m\u001b[1;33m\u001b[0m\u001b[0m\n\u001b[0;32m    306\u001b[0m         \u001b[1;32mwhile\u001b[0m \u001b[1;32mTrue\u001b[0m\u001b[1;33m:\u001b[0m\u001b[1;33m\u001b[0m\u001b[1;33m\u001b[0m\u001b[0m\n\u001b[1;32m--> 307\u001b[1;33m             \u001b[0mversion\u001b[0m\u001b[1;33m,\u001b[0m \u001b[0mstatus\u001b[0m\u001b[1;33m,\u001b[0m \u001b[0mreason\u001b[0m \u001b[1;33m=\u001b[0m \u001b[0mself\u001b[0m\u001b[1;33m.\u001b[0m\u001b[0m_read_status\u001b[0m\u001b[1;33m(\u001b[0m\u001b[1;33m)\u001b[0m\u001b[1;33m\u001b[0m\u001b[1;33m\u001b[0m\u001b[0m\n\u001b[0m\u001b[0;32m    308\u001b[0m             \u001b[1;32mif\u001b[0m \u001b[0mstatus\u001b[0m \u001b[1;33m!=\u001b[0m \u001b[0mCONTINUE\u001b[0m\u001b[1;33m:\u001b[0m\u001b[1;33m\u001b[0m\u001b[1;33m\u001b[0m\u001b[0m\n\u001b[0;32m    309\u001b[0m                 \u001b[1;32mbreak\u001b[0m\u001b[1;33m\u001b[0m\u001b[1;33m\u001b[0m\u001b[0m\n",
      "\u001b[1;32m~\\anaconda3\\lib\\http\\client.py\u001b[0m in \u001b[0;36m_read_status\u001b[1;34m(self)\u001b[0m\n\u001b[0;32m    266\u001b[0m \u001b[1;33m\u001b[0m\u001b[0m\n\u001b[0;32m    267\u001b[0m     \u001b[1;32mdef\u001b[0m \u001b[0m_read_status\u001b[0m\u001b[1;33m(\u001b[0m\u001b[0mself\u001b[0m\u001b[1;33m)\u001b[0m\u001b[1;33m:\u001b[0m\u001b[1;33m\u001b[0m\u001b[1;33m\u001b[0m\u001b[0m\n\u001b[1;32m--> 268\u001b[1;33m         \u001b[0mline\u001b[0m \u001b[1;33m=\u001b[0m \u001b[0mstr\u001b[0m\u001b[1;33m(\u001b[0m\u001b[0mself\u001b[0m\u001b[1;33m.\u001b[0m\u001b[0mfp\u001b[0m\u001b[1;33m.\u001b[0m\u001b[0mreadline\u001b[0m\u001b[1;33m(\u001b[0m\u001b[0m_MAXLINE\u001b[0m \u001b[1;33m+\u001b[0m \u001b[1;36m1\u001b[0m\u001b[1;33m)\u001b[0m\u001b[1;33m,\u001b[0m \u001b[1;34m\"iso-8859-1\"\u001b[0m\u001b[1;33m)\u001b[0m\u001b[1;33m\u001b[0m\u001b[1;33m\u001b[0m\u001b[0m\n\u001b[0m\u001b[0;32m    269\u001b[0m         \u001b[1;32mif\u001b[0m \u001b[0mlen\u001b[0m\u001b[1;33m(\u001b[0m\u001b[0mline\u001b[0m\u001b[1;33m)\u001b[0m \u001b[1;33m>\u001b[0m \u001b[0m_MAXLINE\u001b[0m\u001b[1;33m:\u001b[0m\u001b[1;33m\u001b[0m\u001b[1;33m\u001b[0m\u001b[0m\n\u001b[0;32m    270\u001b[0m             \u001b[1;32mraise\u001b[0m \u001b[0mLineTooLong\u001b[0m\u001b[1;33m(\u001b[0m\u001b[1;34m\"status line\"\u001b[0m\u001b[1;33m)\u001b[0m\u001b[1;33m\u001b[0m\u001b[1;33m\u001b[0m\u001b[0m\n",
      "\u001b[1;32m~\\anaconda3\\lib\\socket.py\u001b[0m in \u001b[0;36mreadinto\u001b[1;34m(self, b)\u001b[0m\n\u001b[0;32m    667\u001b[0m         \u001b[1;32mwhile\u001b[0m \u001b[1;32mTrue\u001b[0m\u001b[1;33m:\u001b[0m\u001b[1;33m\u001b[0m\u001b[1;33m\u001b[0m\u001b[0m\n\u001b[0;32m    668\u001b[0m             \u001b[1;32mtry\u001b[0m\u001b[1;33m:\u001b[0m\u001b[1;33m\u001b[0m\u001b[1;33m\u001b[0m\u001b[0m\n\u001b[1;32m--> 669\u001b[1;33m                 \u001b[1;32mreturn\u001b[0m \u001b[0mself\u001b[0m\u001b[1;33m.\u001b[0m\u001b[0m_sock\u001b[0m\u001b[1;33m.\u001b[0m\u001b[0mrecv_into\u001b[0m\u001b[1;33m(\u001b[0m\u001b[0mb\u001b[0m\u001b[1;33m)\u001b[0m\u001b[1;33m\u001b[0m\u001b[1;33m\u001b[0m\u001b[0m\n\u001b[0m\u001b[0;32m    670\u001b[0m             \u001b[1;32mexcept\u001b[0m \u001b[0mtimeout\u001b[0m\u001b[1;33m:\u001b[0m\u001b[1;33m\u001b[0m\u001b[1;33m\u001b[0m\u001b[0m\n\u001b[0;32m    671\u001b[0m                 \u001b[0mself\u001b[0m\u001b[1;33m.\u001b[0m\u001b[0m_timeout_occurred\u001b[0m \u001b[1;33m=\u001b[0m \u001b[1;32mTrue\u001b[0m\u001b[1;33m\u001b[0m\u001b[1;33m\u001b[0m\u001b[0m\n",
      "\u001b[1;31mKeyboardInterrupt\u001b[0m: "
     ]
    }
   ],
   "source": [
    "url = \"http://api.openweathermap.org/data/2.5/weather?\"\n",
    "city_city = []\n",
    "city_lat = []\n",
    "city_lng = []\n",
    "city_max = []\n",
    "city_temp = []\n",
    "city_humidity = []\n",
    "city_cloudiness = []\n",
    "city_windspeed = []\n",
    "city_country = []\n",
    "city_date = []\n",
    "units = \"imperial\"\n",
    "\n",
    "count = 0\n",
    "set = 1\n",
    "print(\"Beginning Data Retrieval\")\n",
    "\n",
    "#Make a request for each of the cities\n",
    "#for x in range(10):\n",
    "for x in range(len(cities)):\n",
    "        count = count + 1\n",
    "   \n",
    "        if count <= 50:\n",
    "            print(f\"Processing Weather Record: {x} of Set {set} | {cities[x]}\")\n",
    "            query_url = f\"{url}appid={weather_api_key}&q={cities[x]}&units={units}\"\n",
    "            response = requests.get(query_url).json()\n",
    "                \n",
    "            try:     \n",
    "                #lat = weather_json[\"coord\"][\"lat\"]\n",
    "                city_city.append(response[\"name\"])\n",
    "                city_lat.append(response[\"coord\"][\"lat\"])\n",
    "                city_lng.append(response[\"coord\"][\"lon\"])\n",
    "                city_max.append(response[\"main\"][\"temp_max\"])\n",
    "                city_temp.append(response[\"main\"][\"temp\"])\n",
    "                city_humidity.append(response[\"main\"][\"humidity\"])\n",
    "                city_cloudiness.append(response[\"clouds\"][\"all\"])\n",
    "                city_windspeed.append(response[\"wind\"][\"speed\"])\n",
    "                city_country.append(response[\"sys\"][\"country\"])\n",
    "                city_date.append(response[\"dt\"])     \n",
    "                print(f\"{cities[x]} City found! Appending response\")\n",
    "            except:\n",
    "                print(f\"{cities[x]} City was not found! Skipping...\")\n",
    "                pass\n",
    "        \n",
    "        else:\n",
    "            count = 0\n",
    "            set = set + 1\n",
    "            time.sleep(50)"
   ]
  },
  {
   "cell_type": "code",
   "execution_count": null,
   "metadata": {},
   "outputs": [],
   "source": []
  },
  {
   "cell_type": "markdown",
   "metadata": {},
   "source": [
    "### Convert Raw Data to DataFrame\n",
    "* Export the city data into a .csv.\n",
    "* Display the DataFrame"
   ]
  },
  {
   "cell_type": "code",
   "execution_count": 6,
   "metadata": {},
   "outputs": [],
   "source": [
    "# Create a data frame from cities\n",
    "weather_dict = {\n",
    "   \"City\": city_city,\n",
    "    \"Lat\": city_lat,\n",
    "    \"Lng\": city_lng,\n",
    "    \"Max temp\": city_max,\n",
    "    \"Temp\": city_temp,\n",
    "    \"Humidity\": city_humidity,\n",
    "    \"Cloudiness\": city_cloudiness,\n",
    "    \"Windspeed\": city_windspeed,\n",
    "    \"Country\": city_country,\n",
    "    \"Date\": city_date    \n",
    "}\n",
    "weather_data = pd.DataFrame(weather_dict)"
   ]
  },
  {
   "cell_type": "code",
   "execution_count": 7,
   "metadata": {},
   "outputs": [],
   "source": [
    "weather_data.to_csv(\"../../output_data/cityweather_data.csv\",\n",
    "                  encoding=\"utf-8\", index=False, header=True)"
   ]
  },
  {
   "cell_type": "code",
   "execution_count": 8,
   "metadata": {},
   "outputs": [
    {
     "data": {
      "text/html": [
       "<div>\n",
       "<style scoped>\n",
       "    .dataframe tbody tr th:only-of-type {\n",
       "        vertical-align: middle;\n",
       "    }\n",
       "\n",
       "    .dataframe tbody tr th {\n",
       "        vertical-align: top;\n",
       "    }\n",
       "\n",
       "    .dataframe thead th {\n",
       "        text-align: right;\n",
       "    }\n",
       "</style>\n",
       "<table border=\"1\" class=\"dataframe\">\n",
       "  <thead>\n",
       "    <tr style=\"text-align: right;\">\n",
       "      <th></th>\n",
       "      <th>City</th>\n",
       "      <th>Lat</th>\n",
       "      <th>Lng</th>\n",
       "      <th>Max temp</th>\n",
       "      <th>Temp</th>\n",
       "      <th>Humidity</th>\n",
       "      <th>Cloudiness</th>\n",
       "      <th>Windspeed</th>\n",
       "      <th>Country</th>\n",
       "      <th>Date</th>\n",
       "    </tr>\n",
       "  </thead>\n",
       "  <tbody>\n",
       "    <tr>\n",
       "      <th>0</th>\n",
       "      <td>Matinhos</td>\n",
       "      <td>-25.8175</td>\n",
       "      <td>-48.5428</td>\n",
       "      <td>75.65</td>\n",
       "      <td>75.65</td>\n",
       "      <td>87</td>\n",
       "      <td>92</td>\n",
       "      <td>2.59</td>\n",
       "      <td>BR</td>\n",
       "      <td>1639810206</td>\n",
       "    </tr>\n",
       "    <tr>\n",
       "      <th>1</th>\n",
       "      <td>Barrow</td>\n",
       "      <td>71.2906</td>\n",
       "      <td>-156.7887</td>\n",
       "      <td>-9.38</td>\n",
       "      <td>-9.38</td>\n",
       "      <td>77</td>\n",
       "      <td>90</td>\n",
       "      <td>21.85</td>\n",
       "      <td>US</td>\n",
       "      <td>1639810207</td>\n",
       "    </tr>\n",
       "    <tr>\n",
       "      <th>2</th>\n",
       "      <td>Itoman</td>\n",
       "      <td>26.1247</td>\n",
       "      <td>127.6694</td>\n",
       "      <td>63.37</td>\n",
       "      <td>62.74</td>\n",
       "      <td>59</td>\n",
       "      <td>75</td>\n",
       "      <td>19.57</td>\n",
       "      <td>JP</td>\n",
       "      <td>1639810207</td>\n",
       "    </tr>\n",
       "    <tr>\n",
       "      <th>3</th>\n",
       "      <td>Brae</td>\n",
       "      <td>60.3964</td>\n",
       "      <td>-1.3530</td>\n",
       "      <td>46.31</td>\n",
       "      <td>46.31</td>\n",
       "      <td>83</td>\n",
       "      <td>100</td>\n",
       "      <td>14.00</td>\n",
       "      <td>GB</td>\n",
       "      <td>1639810207</td>\n",
       "    </tr>\n",
       "    <tr>\n",
       "      <th>4</th>\n",
       "      <td>Riyadh</td>\n",
       "      <td>24.6877</td>\n",
       "      <td>46.7219</td>\n",
       "      <td>68.14</td>\n",
       "      <td>68.14</td>\n",
       "      <td>32</td>\n",
       "      <td>93</td>\n",
       "      <td>13.13</td>\n",
       "      <td>SA</td>\n",
       "      <td>1639809988</td>\n",
       "    </tr>\n",
       "    <tr>\n",
       "      <th>5</th>\n",
       "      <td>Poum</td>\n",
       "      <td>-20.2333</td>\n",
       "      <td>164.0167</td>\n",
       "      <td>78.64</td>\n",
       "      <td>78.64</td>\n",
       "      <td>71</td>\n",
       "      <td>78</td>\n",
       "      <td>13.02</td>\n",
       "      <td>NC</td>\n",
       "      <td>1639810208</td>\n",
       "    </tr>\n",
       "    <tr>\n",
       "      <th>6</th>\n",
       "      <td>João Câmara</td>\n",
       "      <td>-5.5375</td>\n",
       "      <td>-35.8197</td>\n",
       "      <td>78.04</td>\n",
       "      <td>78.04</td>\n",
       "      <td>86</td>\n",
       "      <td>17</td>\n",
       "      <td>8.90</td>\n",
       "      <td>BR</td>\n",
       "      <td>1639810208</td>\n",
       "    </tr>\n",
       "    <tr>\n",
       "      <th>7</th>\n",
       "      <td>Thompson</td>\n",
       "      <td>55.7435</td>\n",
       "      <td>-97.8558</td>\n",
       "      <td>-14.64</td>\n",
       "      <td>-14.64</td>\n",
       "      <td>76</td>\n",
       "      <td>90</td>\n",
       "      <td>2.30</td>\n",
       "      <td>CA</td>\n",
       "      <td>1639810208</td>\n",
       "    </tr>\n",
       "    <tr>\n",
       "      <th>8</th>\n",
       "      <td>Aleksandrów Łódzki</td>\n",
       "      <td>51.8196</td>\n",
       "      <td>19.3038</td>\n",
       "      <td>36.09</td>\n",
       "      <td>35.60</td>\n",
       "      <td>89</td>\n",
       "      <td>75</td>\n",
       "      <td>1.01</td>\n",
       "      <td>PL</td>\n",
       "      <td>1639810208</td>\n",
       "    </tr>\n",
       "    <tr>\n",
       "      <th>9</th>\n",
       "      <td>Kununurra</td>\n",
       "      <td>-15.7667</td>\n",
       "      <td>128.7333</td>\n",
       "      <td>103.98</td>\n",
       "      <td>103.98</td>\n",
       "      <td>33</td>\n",
       "      <td>100</td>\n",
       "      <td>5.75</td>\n",
       "      <td>AU</td>\n",
       "      <td>1639810209</td>\n",
       "    </tr>\n",
       "    <tr>\n",
       "      <th>10</th>\n",
       "      <td>Mataura</td>\n",
       "      <td>-46.1927</td>\n",
       "      <td>168.8643</td>\n",
       "      <td>57.47</td>\n",
       "      <td>57.47</td>\n",
       "      <td>64</td>\n",
       "      <td>99</td>\n",
       "      <td>5.32</td>\n",
       "      <td>NZ</td>\n",
       "      <td>1639810209</td>\n",
       "    </tr>\n",
       "    <tr>\n",
       "      <th>11</th>\n",
       "      <td>Mar del Plata</td>\n",
       "      <td>-38.0023</td>\n",
       "      <td>-57.5575</td>\n",
       "      <td>65.08</td>\n",
       "      <td>65.03</td>\n",
       "      <td>92</td>\n",
       "      <td>0</td>\n",
       "      <td>3.00</td>\n",
       "      <td>AR</td>\n",
       "      <td>1639810209</td>\n",
       "    </tr>\n",
       "    <tr>\n",
       "      <th>12</th>\n",
       "      <td>Tasiilaq</td>\n",
       "      <td>65.6145</td>\n",
       "      <td>-37.6368</td>\n",
       "      <td>21.72</td>\n",
       "      <td>21.72</td>\n",
       "      <td>69</td>\n",
       "      <td>100</td>\n",
       "      <td>7.38</td>\n",
       "      <td>GL</td>\n",
       "      <td>1639810210</td>\n",
       "    </tr>\n",
       "    <tr>\n",
       "      <th>13</th>\n",
       "      <td>Longyearbyen</td>\n",
       "      <td>78.2186</td>\n",
       "      <td>15.6401</td>\n",
       "      <td>31.84</td>\n",
       "      <td>31.84</td>\n",
       "      <td>69</td>\n",
       "      <td>75</td>\n",
       "      <td>19.57</td>\n",
       "      <td>SJ</td>\n",
       "      <td>1639810210</td>\n",
       "    </tr>\n",
       "    <tr>\n",
       "      <th>14</th>\n",
       "      <td>Bluff</td>\n",
       "      <td>-46.6000</td>\n",
       "      <td>168.3333</td>\n",
       "      <td>57.79</td>\n",
       "      <td>57.79</td>\n",
       "      <td>70</td>\n",
       "      <td>100</td>\n",
       "      <td>24.96</td>\n",
       "      <td>NZ</td>\n",
       "      <td>1639810210</td>\n",
       "    </tr>\n",
       "    <tr>\n",
       "      <th>15</th>\n",
       "      <td>Thinadhoo</td>\n",
       "      <td>0.5333</td>\n",
       "      <td>72.9333</td>\n",
       "      <td>81.95</td>\n",
       "      <td>81.95</td>\n",
       "      <td>76</td>\n",
       "      <td>35</td>\n",
       "      <td>5.77</td>\n",
       "      <td>MV</td>\n",
       "      <td>1639810211</td>\n",
       "    </tr>\n",
       "    <tr>\n",
       "      <th>16</th>\n",
       "      <td>Hobart</td>\n",
       "      <td>-42.8794</td>\n",
       "      <td>147.3294</td>\n",
       "      <td>75.11</td>\n",
       "      <td>73.90</td>\n",
       "      <td>27</td>\n",
       "      <td>100</td>\n",
       "      <td>18.41</td>\n",
       "      <td>AU</td>\n",
       "      <td>1639810027</td>\n",
       "    </tr>\n",
       "    <tr>\n",
       "      <th>17</th>\n",
       "      <td>Kamenka</td>\n",
       "      <td>51.3223</td>\n",
       "      <td>42.7678</td>\n",
       "      <td>29.75</td>\n",
       "      <td>29.75</td>\n",
       "      <td>98</td>\n",
       "      <td>100</td>\n",
       "      <td>10.83</td>\n",
       "      <td>RU</td>\n",
       "      <td>1639810211</td>\n",
       "    </tr>\n",
       "  </tbody>\n",
       "</table>\n",
       "</div>"
      ],
      "text/plain": [
       "                  City      Lat       Lng  Max temp    Temp  Humidity  \\\n",
       "0             Matinhos -25.8175  -48.5428     75.65   75.65        87   \n",
       "1               Barrow  71.2906 -156.7887     -9.38   -9.38        77   \n",
       "2               Itoman  26.1247  127.6694     63.37   62.74        59   \n",
       "3                 Brae  60.3964   -1.3530     46.31   46.31        83   \n",
       "4               Riyadh  24.6877   46.7219     68.14   68.14        32   \n",
       "5                 Poum -20.2333  164.0167     78.64   78.64        71   \n",
       "6          João Câmara  -5.5375  -35.8197     78.04   78.04        86   \n",
       "7             Thompson  55.7435  -97.8558    -14.64  -14.64        76   \n",
       "8   Aleksandrów Łódzki  51.8196   19.3038     36.09   35.60        89   \n",
       "9            Kununurra -15.7667  128.7333    103.98  103.98        33   \n",
       "10             Mataura -46.1927  168.8643     57.47   57.47        64   \n",
       "11       Mar del Plata -38.0023  -57.5575     65.08   65.03        92   \n",
       "12            Tasiilaq  65.6145  -37.6368     21.72   21.72        69   \n",
       "13        Longyearbyen  78.2186   15.6401     31.84   31.84        69   \n",
       "14               Bluff -46.6000  168.3333     57.79   57.79        70   \n",
       "15           Thinadhoo   0.5333   72.9333     81.95   81.95        76   \n",
       "16              Hobart -42.8794  147.3294     75.11   73.90        27   \n",
       "17             Kamenka  51.3223   42.7678     29.75   29.75        98   \n",
       "\n",
       "    Cloudiness  Windspeed Country        Date  \n",
       "0           92       2.59      BR  1639810206  \n",
       "1           90      21.85      US  1639810207  \n",
       "2           75      19.57      JP  1639810207  \n",
       "3          100      14.00      GB  1639810207  \n",
       "4           93      13.13      SA  1639809988  \n",
       "5           78      13.02      NC  1639810208  \n",
       "6           17       8.90      BR  1639810208  \n",
       "7           90       2.30      CA  1639810208  \n",
       "8           75       1.01      PL  1639810208  \n",
       "9          100       5.75      AU  1639810209  \n",
       "10          99       5.32      NZ  1639810209  \n",
       "11           0       3.00      AR  1639810209  \n",
       "12         100       7.38      GL  1639810210  \n",
       "13          75      19.57      SJ  1639810210  \n",
       "14         100      24.96      NZ  1639810210  \n",
       "15          35       5.77      MV  1639810211  \n",
       "16         100      18.41      AU  1639810027  \n",
       "17         100      10.83      RU  1639810211  "
      ]
     },
     "execution_count": 8,
     "metadata": {},
     "output_type": "execute_result"
    }
   ],
   "source": [
    "weather_data.head(20)"
   ]
  },
  {
   "cell_type": "code",
   "execution_count": 9,
   "metadata": {},
   "outputs": [
    {
     "data": {
      "text/html": [
       "<div>\n",
       "<style scoped>\n",
       "    .dataframe tbody tr th:only-of-type {\n",
       "        vertical-align: middle;\n",
       "    }\n",
       "\n",
       "    .dataframe tbody tr th {\n",
       "        vertical-align: top;\n",
       "    }\n",
       "\n",
       "    .dataframe thead th {\n",
       "        text-align: right;\n",
       "    }\n",
       "</style>\n",
       "<table border=\"1\" class=\"dataframe\">\n",
       "  <thead>\n",
       "    <tr style=\"text-align: right;\">\n",
       "      <th></th>\n",
       "      <th>Lat</th>\n",
       "      <th>Lng</th>\n",
       "      <th>Max temp</th>\n",
       "      <th>Temp</th>\n",
       "      <th>Humidity</th>\n",
       "      <th>Cloudiness</th>\n",
       "      <th>Windspeed</th>\n",
       "      <th>Date</th>\n",
       "    </tr>\n",
       "  </thead>\n",
       "  <tbody>\n",
       "    <tr>\n",
       "      <th>count</th>\n",
       "      <td>18.000000</td>\n",
       "      <td>18.000000</td>\n",
       "      <td>18.000000</td>\n",
       "      <td>18.000000</td>\n",
       "      <td>18.000000</td>\n",
       "      <td>18.000000</td>\n",
       "      <td>18.000000</td>\n",
       "      <td>1.800000e+01</td>\n",
       "    </tr>\n",
       "    <tr>\n",
       "      <th>mean</th>\n",
       "      <td>13.595656</td>\n",
       "      <td>37.042167</td>\n",
       "      <td>52.606111</td>\n",
       "      <td>52.473889</td>\n",
       "      <td>69.888889</td>\n",
       "      <td>78.833333</td>\n",
       "      <td>10.964444</td>\n",
       "      <td>1.639810e+09</td>\n",
       "    </tr>\n",
       "    <tr>\n",
       "      <th>std</th>\n",
       "      <td>45.041493</td>\n",
       "      <td>98.849229</td>\n",
       "      <td>31.632121</td>\n",
       "      <td>31.584391</td>\n",
       "      <td>20.702057</td>\n",
       "      <td>30.411395</td>\n",
       "      <td>7.463385</td>\n",
       "      <td>6.539815e+01</td>\n",
       "    </tr>\n",
       "    <tr>\n",
       "      <th>min</th>\n",
       "      <td>-46.600000</td>\n",
       "      <td>-156.788700</td>\n",
       "      <td>-14.640000</td>\n",
       "      <td>-14.640000</td>\n",
       "      <td>27.000000</td>\n",
       "      <td>0.000000</td>\n",
       "      <td>1.010000</td>\n",
       "      <td>1.639810e+09</td>\n",
       "    </tr>\n",
       "    <tr>\n",
       "      <th>25%</th>\n",
       "      <td>-24.421450</td>\n",
       "      <td>-37.182525</td>\n",
       "      <td>32.902500</td>\n",
       "      <td>32.780000</td>\n",
       "      <td>65.250000</td>\n",
       "      <td>75.000000</td>\n",
       "      <td>5.427500</td>\n",
       "      <td>1.639810e+09</td>\n",
       "    </tr>\n",
       "    <tr>\n",
       "      <th>50%</th>\n",
       "      <td>12.610500</td>\n",
       "      <td>31.035800</td>\n",
       "      <td>60.580000</td>\n",
       "      <td>60.265000</td>\n",
       "      <td>73.500000</td>\n",
       "      <td>91.000000</td>\n",
       "      <td>9.865000</td>\n",
       "      <td>1.639810e+09</td>\n",
       "    </tr>\n",
       "    <tr>\n",
       "      <th>75%</th>\n",
       "      <td>54.762525</td>\n",
       "      <td>128.467325</td>\n",
       "      <td>75.515000</td>\n",
       "      <td>75.212500</td>\n",
       "      <td>85.250000</td>\n",
       "      <td>100.000000</td>\n",
       "      <td>17.307500</td>\n",
       "      <td>1.639810e+09</td>\n",
       "    </tr>\n",
       "    <tr>\n",
       "      <th>max</th>\n",
       "      <td>78.218600</td>\n",
       "      <td>168.864300</td>\n",
       "      <td>103.980000</td>\n",
       "      <td>103.980000</td>\n",
       "      <td>98.000000</td>\n",
       "      <td>100.000000</td>\n",
       "      <td>24.960000</td>\n",
       "      <td>1.639810e+09</td>\n",
       "    </tr>\n",
       "  </tbody>\n",
       "</table>\n",
       "</div>"
      ],
      "text/plain": [
       "             Lat         Lng    Max temp        Temp   Humidity  Cloudiness  \\\n",
       "count  18.000000   18.000000   18.000000   18.000000  18.000000   18.000000   \n",
       "mean   13.595656   37.042167   52.606111   52.473889  69.888889   78.833333   \n",
       "std    45.041493   98.849229   31.632121   31.584391  20.702057   30.411395   \n",
       "min   -46.600000 -156.788700  -14.640000  -14.640000  27.000000    0.000000   \n",
       "25%   -24.421450  -37.182525   32.902500   32.780000  65.250000   75.000000   \n",
       "50%    12.610500   31.035800   60.580000   60.265000  73.500000   91.000000   \n",
       "75%    54.762525  128.467325   75.515000   75.212500  85.250000  100.000000   \n",
       "max    78.218600  168.864300  103.980000  103.980000  98.000000  100.000000   \n",
       "\n",
       "       Windspeed          Date  \n",
       "count  18.000000  1.800000e+01  \n",
       "mean   10.964444  1.639810e+09  \n",
       "std     7.463385  6.539815e+01  \n",
       "min     1.010000  1.639810e+09  \n",
       "25%     5.427500  1.639810e+09  \n",
       "50%     9.865000  1.639810e+09  \n",
       "75%    17.307500  1.639810e+09  \n",
       "max    24.960000  1.639810e+09  "
      ]
     },
     "execution_count": 9,
     "metadata": {},
     "output_type": "execute_result"
    }
   ],
   "source": [
    "weather_data.describe()"
   ]
  },
  {
   "cell_type": "markdown",
   "metadata": {},
   "source": [
    "## Inspect the data and remove the cities where the humidity > 100%.\n",
    "----\n",
    "Skip this step if there are no cities that have humidity > 100%. "
   ]
  },
  {
   "cell_type": "code",
   "execution_count": 10,
   "metadata": {},
   "outputs": [
    {
     "data": {
      "text/plain": [
       "Int64Index([], dtype='int64')"
      ]
     },
     "execution_count": 10,
     "metadata": {},
     "output_type": "execute_result"
    }
   ],
   "source": [
    "#  Get the indices of cities that have humidity over 100%.\n",
    "index =  weather_data[weather_data['Humidity'] >= 100].index\n",
    "index"
   ]
  },
  {
   "cell_type": "code",
   "execution_count": 11,
   "metadata": {},
   "outputs": [],
   "source": [
    "# Make a new DataFrame equal to the city data to drop all humidity outliers by index.\n",
    "# Passing \"inplace=False\" will make a copy of the city_data DataFrame, which we call \"clean_city_data\".\n",
    "clean_city_data = weather_data.drop(index,inplace=False)"
   ]
  },
  {
   "cell_type": "code",
   "execution_count": 12,
   "metadata": {},
   "outputs": [
    {
     "data": {
      "text/html": [
       "<div>\n",
       "<style scoped>\n",
       "    .dataframe tbody tr th:only-of-type {\n",
       "        vertical-align: middle;\n",
       "    }\n",
       "\n",
       "    .dataframe tbody tr th {\n",
       "        vertical-align: top;\n",
       "    }\n",
       "\n",
       "    .dataframe thead th {\n",
       "        text-align: right;\n",
       "    }\n",
       "</style>\n",
       "<table border=\"1\" class=\"dataframe\">\n",
       "  <thead>\n",
       "    <tr style=\"text-align: right;\">\n",
       "      <th></th>\n",
       "      <th>Lat</th>\n",
       "      <th>Lng</th>\n",
       "      <th>Max temp</th>\n",
       "      <th>Temp</th>\n",
       "      <th>Humidity</th>\n",
       "      <th>Cloudiness</th>\n",
       "      <th>Windspeed</th>\n",
       "      <th>Date</th>\n",
       "    </tr>\n",
       "  </thead>\n",
       "  <tbody>\n",
       "    <tr>\n",
       "      <th>count</th>\n",
       "      <td>18.000000</td>\n",
       "      <td>18.000000</td>\n",
       "      <td>18.000000</td>\n",
       "      <td>18.000000</td>\n",
       "      <td>18.000000</td>\n",
       "      <td>18.000000</td>\n",
       "      <td>18.000000</td>\n",
       "      <td>1.800000e+01</td>\n",
       "    </tr>\n",
       "    <tr>\n",
       "      <th>mean</th>\n",
       "      <td>13.595656</td>\n",
       "      <td>37.042167</td>\n",
       "      <td>52.606111</td>\n",
       "      <td>52.473889</td>\n",
       "      <td>69.888889</td>\n",
       "      <td>78.833333</td>\n",
       "      <td>10.964444</td>\n",
       "      <td>1.639810e+09</td>\n",
       "    </tr>\n",
       "    <tr>\n",
       "      <th>std</th>\n",
       "      <td>45.041493</td>\n",
       "      <td>98.849229</td>\n",
       "      <td>31.632121</td>\n",
       "      <td>31.584391</td>\n",
       "      <td>20.702057</td>\n",
       "      <td>30.411395</td>\n",
       "      <td>7.463385</td>\n",
       "      <td>6.539815e+01</td>\n",
       "    </tr>\n",
       "    <tr>\n",
       "      <th>min</th>\n",
       "      <td>-46.600000</td>\n",
       "      <td>-156.788700</td>\n",
       "      <td>-14.640000</td>\n",
       "      <td>-14.640000</td>\n",
       "      <td>27.000000</td>\n",
       "      <td>0.000000</td>\n",
       "      <td>1.010000</td>\n",
       "      <td>1.639810e+09</td>\n",
       "    </tr>\n",
       "    <tr>\n",
       "      <th>25%</th>\n",
       "      <td>-24.421450</td>\n",
       "      <td>-37.182525</td>\n",
       "      <td>32.902500</td>\n",
       "      <td>32.780000</td>\n",
       "      <td>65.250000</td>\n",
       "      <td>75.000000</td>\n",
       "      <td>5.427500</td>\n",
       "      <td>1.639810e+09</td>\n",
       "    </tr>\n",
       "    <tr>\n",
       "      <th>50%</th>\n",
       "      <td>12.610500</td>\n",
       "      <td>31.035800</td>\n",
       "      <td>60.580000</td>\n",
       "      <td>60.265000</td>\n",
       "      <td>73.500000</td>\n",
       "      <td>91.000000</td>\n",
       "      <td>9.865000</td>\n",
       "      <td>1.639810e+09</td>\n",
       "    </tr>\n",
       "    <tr>\n",
       "      <th>75%</th>\n",
       "      <td>54.762525</td>\n",
       "      <td>128.467325</td>\n",
       "      <td>75.515000</td>\n",
       "      <td>75.212500</td>\n",
       "      <td>85.250000</td>\n",
       "      <td>100.000000</td>\n",
       "      <td>17.307500</td>\n",
       "      <td>1.639810e+09</td>\n",
       "    </tr>\n",
       "    <tr>\n",
       "      <th>max</th>\n",
       "      <td>78.218600</td>\n",
       "      <td>168.864300</td>\n",
       "      <td>103.980000</td>\n",
       "      <td>103.980000</td>\n",
       "      <td>98.000000</td>\n",
       "      <td>100.000000</td>\n",
       "      <td>24.960000</td>\n",
       "      <td>1.639810e+09</td>\n",
       "    </tr>\n",
       "  </tbody>\n",
       "</table>\n",
       "</div>"
      ],
      "text/plain": [
       "             Lat         Lng    Max temp        Temp   Humidity  Cloudiness  \\\n",
       "count  18.000000   18.000000   18.000000   18.000000  18.000000   18.000000   \n",
       "mean   13.595656   37.042167   52.606111   52.473889  69.888889   78.833333   \n",
       "std    45.041493   98.849229   31.632121   31.584391  20.702057   30.411395   \n",
       "min   -46.600000 -156.788700  -14.640000  -14.640000  27.000000    0.000000   \n",
       "25%   -24.421450  -37.182525   32.902500   32.780000  65.250000   75.000000   \n",
       "50%    12.610500   31.035800   60.580000   60.265000  73.500000   91.000000   \n",
       "75%    54.762525  128.467325   75.515000   75.212500  85.250000  100.000000   \n",
       "max    78.218600  168.864300  103.980000  103.980000  98.000000  100.000000   \n",
       "\n",
       "       Windspeed          Date  \n",
       "count  18.000000  1.800000e+01  \n",
       "mean   10.964444  1.639810e+09  \n",
       "std     7.463385  6.539815e+01  \n",
       "min     1.010000  1.639810e+09  \n",
       "25%     5.427500  1.639810e+09  \n",
       "50%     9.865000  1.639810e+09  \n",
       "75%    17.307500  1.639810e+09  \n",
       "max    24.960000  1.639810e+09  "
      ]
     },
     "execution_count": 12,
     "metadata": {},
     "output_type": "execute_result"
    }
   ],
   "source": [
    "clean_city_data.describe()"
   ]
  },
  {
   "cell_type": "code",
   "execution_count": null,
   "metadata": {
    "scrolled": false
   },
   "outputs": [],
   "source": []
  },
  {
   "cell_type": "code",
   "execution_count": 13,
   "metadata": {},
   "outputs": [
    {
     "data": {
      "text/html": [
       "<div>\n",
       "<style scoped>\n",
       "    .dataframe tbody tr th:only-of-type {\n",
       "        vertical-align: middle;\n",
       "    }\n",
       "\n",
       "    .dataframe tbody tr th {\n",
       "        vertical-align: top;\n",
       "    }\n",
       "\n",
       "    .dataframe thead th {\n",
       "        text-align: right;\n",
       "    }\n",
       "</style>\n",
       "<table border=\"1\" class=\"dataframe\">\n",
       "  <thead>\n",
       "    <tr style=\"text-align: right;\">\n",
       "      <th></th>\n",
       "      <th>City</th>\n",
       "      <th>Lat</th>\n",
       "      <th>Lng</th>\n",
       "      <th>Max temp</th>\n",
       "      <th>Temp</th>\n",
       "      <th>Humidity</th>\n",
       "      <th>Cloudiness</th>\n",
       "      <th>Windspeed</th>\n",
       "      <th>Country</th>\n",
       "      <th>Date</th>\n",
       "    </tr>\n",
       "  </thead>\n",
       "  <tbody>\n",
       "    <tr>\n",
       "      <th>0</th>\n",
       "      <td>Matinhos</td>\n",
       "      <td>-25.8175</td>\n",
       "      <td>-48.5428</td>\n",
       "      <td>75.65</td>\n",
       "      <td>75.65</td>\n",
       "      <td>87</td>\n",
       "      <td>92</td>\n",
       "      <td>2.59</td>\n",
       "      <td>BR</td>\n",
       "      <td>1639810206</td>\n",
       "    </tr>\n",
       "    <tr>\n",
       "      <th>1</th>\n",
       "      <td>Barrow</td>\n",
       "      <td>71.2906</td>\n",
       "      <td>-156.7887</td>\n",
       "      <td>-9.38</td>\n",
       "      <td>-9.38</td>\n",
       "      <td>77</td>\n",
       "      <td>90</td>\n",
       "      <td>21.85</td>\n",
       "      <td>US</td>\n",
       "      <td>1639810207</td>\n",
       "    </tr>\n",
       "    <tr>\n",
       "      <th>2</th>\n",
       "      <td>Itoman</td>\n",
       "      <td>26.1247</td>\n",
       "      <td>127.6694</td>\n",
       "      <td>63.37</td>\n",
       "      <td>62.74</td>\n",
       "      <td>59</td>\n",
       "      <td>75</td>\n",
       "      <td>19.57</td>\n",
       "      <td>JP</td>\n",
       "      <td>1639810207</td>\n",
       "    </tr>\n",
       "    <tr>\n",
       "      <th>3</th>\n",
       "      <td>Brae</td>\n",
       "      <td>60.3964</td>\n",
       "      <td>-1.3530</td>\n",
       "      <td>46.31</td>\n",
       "      <td>46.31</td>\n",
       "      <td>83</td>\n",
       "      <td>100</td>\n",
       "      <td>14.00</td>\n",
       "      <td>GB</td>\n",
       "      <td>1639810207</td>\n",
       "    </tr>\n",
       "    <tr>\n",
       "      <th>4</th>\n",
       "      <td>Riyadh</td>\n",
       "      <td>24.6877</td>\n",
       "      <td>46.7219</td>\n",
       "      <td>68.14</td>\n",
       "      <td>68.14</td>\n",
       "      <td>32</td>\n",
       "      <td>93</td>\n",
       "      <td>13.13</td>\n",
       "      <td>SA</td>\n",
       "      <td>1639809988</td>\n",
       "    </tr>\n",
       "    <tr>\n",
       "      <th>5</th>\n",
       "      <td>Poum</td>\n",
       "      <td>-20.2333</td>\n",
       "      <td>164.0167</td>\n",
       "      <td>78.64</td>\n",
       "      <td>78.64</td>\n",
       "      <td>71</td>\n",
       "      <td>78</td>\n",
       "      <td>13.02</td>\n",
       "      <td>NC</td>\n",
       "      <td>1639810208</td>\n",
       "    </tr>\n",
       "    <tr>\n",
       "      <th>6</th>\n",
       "      <td>João Câmara</td>\n",
       "      <td>-5.5375</td>\n",
       "      <td>-35.8197</td>\n",
       "      <td>78.04</td>\n",
       "      <td>78.04</td>\n",
       "      <td>86</td>\n",
       "      <td>17</td>\n",
       "      <td>8.90</td>\n",
       "      <td>BR</td>\n",
       "      <td>1639810208</td>\n",
       "    </tr>\n",
       "    <tr>\n",
       "      <th>7</th>\n",
       "      <td>Thompson</td>\n",
       "      <td>55.7435</td>\n",
       "      <td>-97.8558</td>\n",
       "      <td>-14.64</td>\n",
       "      <td>-14.64</td>\n",
       "      <td>76</td>\n",
       "      <td>90</td>\n",
       "      <td>2.30</td>\n",
       "      <td>CA</td>\n",
       "      <td>1639810208</td>\n",
       "    </tr>\n",
       "    <tr>\n",
       "      <th>8</th>\n",
       "      <td>Aleksandrów Łódzki</td>\n",
       "      <td>51.8196</td>\n",
       "      <td>19.3038</td>\n",
       "      <td>36.09</td>\n",
       "      <td>35.60</td>\n",
       "      <td>89</td>\n",
       "      <td>75</td>\n",
       "      <td>1.01</td>\n",
       "      <td>PL</td>\n",
       "      <td>1639810208</td>\n",
       "    </tr>\n",
       "    <tr>\n",
       "      <th>9</th>\n",
       "      <td>Kununurra</td>\n",
       "      <td>-15.7667</td>\n",
       "      <td>128.7333</td>\n",
       "      <td>103.98</td>\n",
       "      <td>103.98</td>\n",
       "      <td>33</td>\n",
       "      <td>100</td>\n",
       "      <td>5.75</td>\n",
       "      <td>AU</td>\n",
       "      <td>1639810209</td>\n",
       "    </tr>\n",
       "  </tbody>\n",
       "</table>\n",
       "</div>"
      ],
      "text/plain": [
       "                 City      Lat       Lng  Max temp    Temp  Humidity  \\\n",
       "0            Matinhos -25.8175  -48.5428     75.65   75.65        87   \n",
       "1              Barrow  71.2906 -156.7887     -9.38   -9.38        77   \n",
       "2              Itoman  26.1247  127.6694     63.37   62.74        59   \n",
       "3                Brae  60.3964   -1.3530     46.31   46.31        83   \n",
       "4              Riyadh  24.6877   46.7219     68.14   68.14        32   \n",
       "5                Poum -20.2333  164.0167     78.64   78.64        71   \n",
       "6         João Câmara  -5.5375  -35.8197     78.04   78.04        86   \n",
       "7            Thompson  55.7435  -97.8558    -14.64  -14.64        76   \n",
       "8  Aleksandrów Łódzki  51.8196   19.3038     36.09   35.60        89   \n",
       "9           Kununurra -15.7667  128.7333    103.98  103.98        33   \n",
       "\n",
       "   Cloudiness  Windspeed Country        Date  \n",
       "0          92       2.59      BR  1639810206  \n",
       "1          90      21.85      US  1639810207  \n",
       "2          75      19.57      JP  1639810207  \n",
       "3         100      14.00      GB  1639810207  \n",
       "4          93      13.13      SA  1639809988  \n",
       "5          78      13.02      NC  1639810208  \n",
       "6          17       8.90      BR  1639810208  \n",
       "7          90       2.30      CA  1639810208  \n",
       "8          75       1.01      PL  1639810208  \n",
       "9         100       5.75      AU  1639810209  "
      ]
     },
     "execution_count": 13,
     "metadata": {},
     "output_type": "execute_result"
    }
   ],
   "source": [
    "clean_city_data.head(10)"
   ]
  },
  {
   "cell_type": "code",
   "execution_count": 14,
   "metadata": {},
   "outputs": [
    {
     "data": {
      "text/plain": [
       "(18, 10)"
      ]
     },
     "execution_count": 14,
     "metadata": {},
     "output_type": "execute_result"
    }
   ],
   "source": [
    "clean_city_data.shape"
   ]
  },
  {
   "cell_type": "markdown",
   "metadata": {},
   "source": [
    "## Plotting the Data\n",
    "* Use proper labeling of the plots using plot titles (including date of analysis) and axes labels.\n",
    "* Save the plotted figures as .pngs."
   ]
  },
  {
   "cell_type": "markdown",
   "metadata": {},
   "source": [
    "## Latitude vs. Temperature Plot"
   ]
  },
  {
   "cell_type": "code",
   "execution_count": 15,
   "metadata": {
    "scrolled": true
   },
   "outputs": [
    {
     "data": {
      "image/png": "[encoded data removed]",
      "text/plain": [
       "<Figure size 432x288 with 1 Axes>"
      ]
     },
     "metadata": {
      "needs_background": "light"
     },
     "output_type": "display_data"
    }
   ],
   "source": [
    "# Build a scatter plot for each data type\n",
    "plt.scatter(clean_city_data[\"Lat\"], clean_city_data[\"Max temp\"], marker=\"o\", facecolors=\"blue\", edgecolors=\"black\", alpha=0.75)\n",
    "date = datetime.date.today()\n",
    "# Incorporate the other graph properties\n",
    "plt.title(f\"City Latitude vs Max Temperature  ({date})\")\n",
    "plt.ylabel(\"Max Temperature (F)\")\n",
    "plt.xlabel(\"Latitude\")\n",
    "plt.grid(True)\n",
    "plt.xlim(-75,90)\n",
    "plt.ylim(-45, 120)\n",
    "\n",
    "# Save the figure\n",
    "plt.savefig(\"../../output_data/LatMaxTempInWorldCities.png\")\n",
    "\n",
    "# Show plot\n",
    "plt.show()"
   ]
  },
  {
   "cell_type": "markdown",
   "metadata": {},
   "source": [
    "This plot shows that Temperatures cool with increasing Latitude! There is a relationship between Latitude and Temperature around the world, as temperatures are typically warmer approaching the Equator and cooler approaching the Poles.\n",
    "The Equator has a latitude of 0°, the North Pole has a latitude of 90° North (written 90° N or +90°), and the South Pole has a latitude of 90° South (written 90° S or −90°)\n",
    "This plot uses the degree Fahrenheit (symbol: °F) as the unit of measure for temperature. On the Fahrenheit scale, the melting point of water is 32°F and the boiling point is 212°F (at standard atmospheric pressure). The world temperatures plotted appear to be mostly within this range."
   ]
  },
  {
   "cell_type": "markdown",
   "metadata": {},
   "source": [
    "## Latitude vs. Humidity Plot"
   ]
  },
  {
   "cell_type": "code",
   "execution_count": 16,
   "metadata": {},
   "outputs": [
    {
     "data": {
      "image/png": "[encoded data removed]",
      "text/plain": [
       "<Figure size 432x288 with 1 Axes>"
      ]
     },
     "metadata": {
      "needs_background": "light"
     },
     "output_type": "display_data"
    }
   ],
   "source": [
    "# Build a scatter plot for each data type\n",
    "plt.scatter(clean_city_data[\"Lat\"], clean_city_data[\"Humidity\"], marker=\"o\", facecolors=\"blue\", edgecolors=\"black\", alpha=0.75)\n",
    "date = datetime.date.today()\n",
    "# Incorporate the other graph properties\n",
    "plt.title(f\"City Latitude vs Humidity  ({date})\")\n",
    "plt.xlabel(\"Latitude\")\n",
    "plt.ylabel(\"Humidity\")\n",
    "plt.grid(True)\n",
    "plt.xlim(-60, 90)\n",
    "plt.ylim(0, 110)\n",
    "\n",
    "# Save the figure\n",
    "plt.savefig(\"../../output_data/LatHumidityWorldCities.png\")\n",
    "\n",
    "# Show plot\n",
    "plt.show()"
   ]
  },
  {
   "cell_type": "markdown",
   "metadata": {},
   "source": [
    "Humidity does not show a strong correlation to latitude. The visualization shows a variety of humidity percentages at different latitudes.Humidity is the concentration of water vapour present in the air and indicates the likelihood for precipitation, dew, or fog to be present.\n",
    "The humidity is affected by winds and by rainfall. The most humid cities on earth are generally located closer to the equator, near coastal regions. The visualisation shows higher humidity near the tropical equator.\n",
    "Humidity depends on the temperature and pressure of the system of interest. When the temperature rises, humidity decreases and when temperature decreases, humidity increases. The same amount of water vapor results in higher humidity in cool air than warm air. The plot shows a relative humidity higher closer to polar regions."
   ]
  },
  {
   "cell_type": "markdown",
   "metadata": {},
   "source": [
    "## Latitude vs. Cloudiness Plot"
   ]
  },
  {
   "cell_type": "code",
   "execution_count": 17,
   "metadata": {
    "scrolled": true
   },
   "outputs": [
    {
     "data": {
      "image/png": "[encoded data removed]",
      "text/plain": [
       "<Figure size 432x288 with 1 Axes>"
      ]
     },
     "metadata": {
      "needs_background": "light"
     },
     "output_type": "display_data"
    }
   ],
   "source": [
    "# Build a scatter plot for each data type\n",
    "plt.scatter(clean_city_data[\"Lat\"], clean_city_data[\"Cloudiness\"], marker=\"o\", facecolors=\"blue\", edgecolors=\"black\", alpha=0.75)\n",
    "date = datetime.date.today()\n",
    "# Incorporate the other graph properties\n",
    "plt.title(f\"City Latitude vs Cloudiness  ({date})\")\n",
    "plt.ylabel(\"Cloudiness\")\n",
    "plt.xlabel(\"Latitude\")\n",
    "plt.grid(True)\n",
    "plt.xlim(-60,90)\n",
    "plt.ylim(-5, 110)\n",
    "\n",
    "# Save the figure\n",
    "plt.savefig(\"../../output_data/LatCloudinessInWorldCities.png\")\n",
    "\n",
    "# Show plot\n",
    "plt.show()"
   ]
  },
  {
   "cell_type": "markdown",
   "metadata": {},
   "source": [
    "We cannot see a distictive pattern between Cloudiness and Latitude. Continents tend to be less cloudy than adjacent oceans (at the same latitude), except in the equatorial belt. Cloudiness is highest around 60° S but there is less cloud cover at the South Pole. This figure reflects the ascent and subsidence occurring at these respective latitudes, and the large amount of ocean at around 60° S."
   ]
  },
  {
   "cell_type": "markdown",
   "metadata": {},
   "source": [
    "## Latitude vs. Wind Speed Plot"
   ]
  },
  {
   "cell_type": "code",
   "execution_count": 18,
   "metadata": {
    "scrolled": true
   },
   "outputs": [
    {
     "data": {
      "image/png": "[encoded data removed]",
      "text/plain": [
       "<Figure size 432x288 with 1 Axes>"
      ]
     },
     "metadata": {
      "needs_background": "light"
     },
     "output_type": "display_data"
    }
   ],
   "source": [
    "# Build a scatter plot for each data type\n",
    "plt.scatter(clean_city_data[\"Lat\"], clean_city_data[\"Windspeed\"], marker=\"o\", facecolors=\"blue\", edgecolors=\"black\", alpha=0.75)\n",
    "date = datetime.date.today()\n",
    "# Incorporate the other graph properties\n",
    "plt.title(f\"City Latitude vs Wind Speed ({date})\")\n",
    "plt.ylabel(\"Wind Speed\")\n",
    "plt.xlabel(\"Latitude\")\n",
    "plt.grid(True)\n",
    "plt.xlim(-60, 85)\n",
    "plt.ylim(-2,34)\n",
    "\n",
    "\n",
    "# Save the figure\n",
    "plt.savefig(\"../../output_data/LatWindSpeedInWorldCities.png\")\n",
    "\n",
    "# Show plot\n",
    "plt.show()"
   ]
  },
  {
   "cell_type": "markdown",
   "metadata": {},
   "source": [
    "The plot shows that there is no direct relationship between wind speed and latitude. \n",
    "A force called the Coriolis force causes the wind to deflect to the right of its intent path in the Northern Hemisphere and to the left in the Southern Hemisphere. The Corioils force is zero at the equator. The magnitude of Coriolis force depends on (1) the rotation of the Earth, (2) the speed of the moving object, and (3) its latitudinal location. The stronger the speed (such as wind speed), the stronger the Coriolis force. The higher the latitude, the stronger the Coriolis force. The affect is shown in our plot around 60° N Latitude."
   ]
  },
  {
   "cell_type": "markdown",
   "metadata": {},
   "source": [
    "# Linear Regression"
   ]
  },
  {
   "cell_type": "code",
   "execution_count": 25,
   "metadata": {},
   "outputs": [
    {
     "data": {
      "text/html": [
       "<div>\n",
       "<style scoped>\n",
       "    .dataframe tbody tr th:only-of-type {\n",
       "        vertical-align: middle;\n",
       "    }\n",
       "\n",
       "    .dataframe tbody tr th {\n",
       "        vertical-align: top;\n",
       "    }\n",
       "\n",
       "    .dataframe thead th {\n",
       "        text-align: right;\n",
       "    }\n",
       "</style>\n",
       "<table border=\"1\" class=\"dataframe\">\n",
       "  <thead>\n",
       "    <tr style=\"text-align: right;\">\n",
       "      <th></th>\n",
       "      <th>City</th>\n",
       "      <th>Lat</th>\n",
       "      <th>Lng</th>\n",
       "      <th>Max temp</th>\n",
       "      <th>Temp</th>\n",
       "      <th>Humidity</th>\n",
       "      <th>Cloudiness</th>\n",
       "      <th>Windspeed</th>\n",
       "      <th>Country</th>\n",
       "      <th>Date</th>\n",
       "    </tr>\n",
       "  </thead>\n",
       "  <tbody>\n",
       "    <tr>\n",
       "      <th>1</th>\n",
       "      <td>Barrow</td>\n",
       "      <td>71.2906</td>\n",
       "      <td>-156.7887</td>\n",
       "      <td>-9.38</td>\n",
       "      <td>-9.38</td>\n",
       "      <td>77</td>\n",
       "      <td>90</td>\n",
       "      <td>21.85</td>\n",
       "      <td>US</td>\n",
       "      <td>1639810207</td>\n",
       "    </tr>\n",
       "    <tr>\n",
       "      <th>2</th>\n",
       "      <td>Itoman</td>\n",
       "      <td>26.1247</td>\n",
       "      <td>127.6694</td>\n",
       "      <td>63.37</td>\n",
       "      <td>62.74</td>\n",
       "      <td>59</td>\n",
       "      <td>75</td>\n",
       "      <td>19.57</td>\n",
       "      <td>JP</td>\n",
       "      <td>1639810207</td>\n",
       "    </tr>\n",
       "    <tr>\n",
       "      <th>3</th>\n",
       "      <td>Brae</td>\n",
       "      <td>60.3964</td>\n",
       "      <td>-1.3530</td>\n",
       "      <td>46.31</td>\n",
       "      <td>46.31</td>\n",
       "      <td>83</td>\n",
       "      <td>100</td>\n",
       "      <td>14.00</td>\n",
       "      <td>GB</td>\n",
       "      <td>1639810207</td>\n",
       "    </tr>\n",
       "    <tr>\n",
       "      <th>4</th>\n",
       "      <td>Riyadh</td>\n",
       "      <td>24.6877</td>\n",
       "      <td>46.7219</td>\n",
       "      <td>68.14</td>\n",
       "      <td>68.14</td>\n",
       "      <td>32</td>\n",
       "      <td>93</td>\n",
       "      <td>13.13</td>\n",
       "      <td>SA</td>\n",
       "      <td>1639809988</td>\n",
       "    </tr>\n",
       "    <tr>\n",
       "      <th>7</th>\n",
       "      <td>Thompson</td>\n",
       "      <td>55.7435</td>\n",
       "      <td>-97.8558</td>\n",
       "      <td>-14.64</td>\n",
       "      <td>-14.64</td>\n",
       "      <td>76</td>\n",
       "      <td>90</td>\n",
       "      <td>2.30</td>\n",
       "      <td>CA</td>\n",
       "      <td>1639810208</td>\n",
       "    </tr>\n",
       "    <tr>\n",
       "      <th>8</th>\n",
       "      <td>Aleksandrów Łódzki</td>\n",
       "      <td>51.8196</td>\n",
       "      <td>19.3038</td>\n",
       "      <td>36.09</td>\n",
       "      <td>35.60</td>\n",
       "      <td>89</td>\n",
       "      <td>75</td>\n",
       "      <td>1.01</td>\n",
       "      <td>PL</td>\n",
       "      <td>1639810208</td>\n",
       "    </tr>\n",
       "    <tr>\n",
       "      <th>12</th>\n",
       "      <td>Tasiilaq</td>\n",
       "      <td>65.6145</td>\n",
       "      <td>-37.6368</td>\n",
       "      <td>21.72</td>\n",
       "      <td>21.72</td>\n",
       "      <td>69</td>\n",
       "      <td>100</td>\n",
       "      <td>7.38</td>\n",
       "      <td>GL</td>\n",
       "      <td>1639810210</td>\n",
       "    </tr>\n",
       "    <tr>\n",
       "      <th>13</th>\n",
       "      <td>Longyearbyen</td>\n",
       "      <td>78.2186</td>\n",
       "      <td>15.6401</td>\n",
       "      <td>31.84</td>\n",
       "      <td>31.84</td>\n",
       "      <td>69</td>\n",
       "      <td>75</td>\n",
       "      <td>19.57</td>\n",
       "      <td>SJ</td>\n",
       "      <td>1639810210</td>\n",
       "    </tr>\n",
       "    <tr>\n",
       "      <th>15</th>\n",
       "      <td>Thinadhoo</td>\n",
       "      <td>0.5333</td>\n",
       "      <td>72.9333</td>\n",
       "      <td>81.95</td>\n",
       "      <td>81.95</td>\n",
       "      <td>76</td>\n",
       "      <td>35</td>\n",
       "      <td>5.77</td>\n",
       "      <td>MV</td>\n",
       "      <td>1639810211</td>\n",
       "    </tr>\n",
       "    <tr>\n",
       "      <th>17</th>\n",
       "      <td>Kamenka</td>\n",
       "      <td>51.3223</td>\n",
       "      <td>42.7678</td>\n",
       "      <td>29.75</td>\n",
       "      <td>29.75</td>\n",
       "      <td>98</td>\n",
       "      <td>100</td>\n",
       "      <td>10.83</td>\n",
       "      <td>RU</td>\n",
       "      <td>1639810211</td>\n",
       "    </tr>\n",
       "  </tbody>\n",
       "</table>\n",
       "</div>"
      ],
      "text/plain": [
       "                  City      Lat       Lng  Max temp   Temp  Humidity  \\\n",
       "1               Barrow  71.2906 -156.7887     -9.38  -9.38        77   \n",
       "2               Itoman  26.1247  127.6694     63.37  62.74        59   \n",
       "3                 Brae  60.3964   -1.3530     46.31  46.31        83   \n",
       "4               Riyadh  24.6877   46.7219     68.14  68.14        32   \n",
       "7             Thompson  55.7435  -97.8558    -14.64 -14.64        76   \n",
       "8   Aleksandrów Łódzki  51.8196   19.3038     36.09  35.60        89   \n",
       "12            Tasiilaq  65.6145  -37.6368     21.72  21.72        69   \n",
       "13        Longyearbyen  78.2186   15.6401     31.84  31.84        69   \n",
       "15           Thinadhoo   0.5333   72.9333     81.95  81.95        76   \n",
       "17             Kamenka  51.3223   42.7678     29.75  29.75        98   \n",
       "\n",
       "    Cloudiness  Windspeed Country        Date  \n",
       "1           90      21.85      US  1639810207  \n",
       "2           75      19.57      JP  1639810207  \n",
       "3          100      14.00      GB  1639810207  \n",
       "4           93      13.13      SA  1639809988  \n",
       "7           90       2.30      CA  1639810208  \n",
       "8           75       1.01      PL  1639810208  \n",
       "12         100       7.38      GL  1639810210  \n",
       "13          75      19.57      SJ  1639810210  \n",
       "15          35       5.77      MV  1639810211  \n",
       "17         100      10.83      RU  1639810211  "
      ]
     },
     "execution_count": 25,
     "metadata": {},
     "output_type": "execute_result"
    }
   ],
   "source": [
    "# Northern Hemisphere (greater than or equal to 0 degrees latitude)\n",
    "nh_df = clean_city_data.loc[(clean_city_data['Lat'] >= 0),:]\n",
    "nh_df"
   ]
  },
  {
   "cell_type": "code",
   "execution_count": 26,
   "metadata": {},
   "outputs": [
    {
     "data": {
      "text/html": [
       "<div>\n",
       "<style scoped>\n",
       "    .dataframe tbody tr th:only-of-type {\n",
       "        vertical-align: middle;\n",
       "    }\n",
       "\n",
       "    .dataframe tbody tr th {\n",
       "        vertical-align: top;\n",
       "    }\n",
       "\n",
       "    .dataframe thead th {\n",
       "        text-align: right;\n",
       "    }\n",
       "</style>\n",
       "<table border=\"1\" class=\"dataframe\">\n",
       "  <thead>\n",
       "    <tr style=\"text-align: right;\">\n",
       "      <th></th>\n",
       "      <th>City</th>\n",
       "      <th>Lat</th>\n",
       "      <th>Lng</th>\n",
       "      <th>Max temp</th>\n",
       "      <th>Temp</th>\n",
       "      <th>Humidity</th>\n",
       "      <th>Cloudiness</th>\n",
       "      <th>Windspeed</th>\n",
       "      <th>Country</th>\n",
       "      <th>Date</th>\n",
       "    </tr>\n",
       "  </thead>\n",
       "  <tbody>\n",
       "    <tr>\n",
       "      <th>0</th>\n",
       "      <td>Matinhos</td>\n",
       "      <td>-25.8175</td>\n",
       "      <td>-48.5428</td>\n",
       "      <td>75.65</td>\n",
       "      <td>75.65</td>\n",
       "      <td>87</td>\n",
       "      <td>92</td>\n",
       "      <td>2.59</td>\n",
       "      <td>BR</td>\n",
       "      <td>1639810206</td>\n",
       "    </tr>\n",
       "    <tr>\n",
       "      <th>5</th>\n",
       "      <td>Poum</td>\n",
       "      <td>-20.2333</td>\n",
       "      <td>164.0167</td>\n",
       "      <td>78.64</td>\n",
       "      <td>78.64</td>\n",
       "      <td>71</td>\n",
       "      <td>78</td>\n",
       "      <td>13.02</td>\n",
       "      <td>NC</td>\n",
       "      <td>1639810208</td>\n",
       "    </tr>\n",
       "    <tr>\n",
       "      <th>6</th>\n",
       "      <td>João Câmara</td>\n",
       "      <td>-5.5375</td>\n",
       "      <td>-35.8197</td>\n",
       "      <td>78.04</td>\n",
       "      <td>78.04</td>\n",
       "      <td>86</td>\n",
       "      <td>17</td>\n",
       "      <td>8.90</td>\n",
       "      <td>BR</td>\n",
       "      <td>1639810208</td>\n",
       "    </tr>\n",
       "    <tr>\n",
       "      <th>9</th>\n",
       "      <td>Kununurra</td>\n",
       "      <td>-15.7667</td>\n",
       "      <td>128.7333</td>\n",
       "      <td>103.98</td>\n",
       "      <td>103.98</td>\n",
       "      <td>33</td>\n",
       "      <td>100</td>\n",
       "      <td>5.75</td>\n",
       "      <td>AU</td>\n",
       "      <td>1639810209</td>\n",
       "    </tr>\n",
       "    <tr>\n",
       "      <th>10</th>\n",
       "      <td>Mataura</td>\n",
       "      <td>-46.1927</td>\n",
       "      <td>168.8643</td>\n",
       "      <td>57.47</td>\n",
       "      <td>57.47</td>\n",
       "      <td>64</td>\n",
       "      <td>99</td>\n",
       "      <td>5.32</td>\n",
       "      <td>NZ</td>\n",
       "      <td>1639810209</td>\n",
       "    </tr>\n",
       "    <tr>\n",
       "      <th>11</th>\n",
       "      <td>Mar del Plata</td>\n",
       "      <td>-38.0023</td>\n",
       "      <td>-57.5575</td>\n",
       "      <td>65.08</td>\n",
       "      <td>65.03</td>\n",
       "      <td>92</td>\n",
       "      <td>0</td>\n",
       "      <td>3.00</td>\n",
       "      <td>AR</td>\n",
       "      <td>1639810209</td>\n",
       "    </tr>\n",
       "    <tr>\n",
       "      <th>14</th>\n",
       "      <td>Bluff</td>\n",
       "      <td>-46.6000</td>\n",
       "      <td>168.3333</td>\n",
       "      <td>57.79</td>\n",
       "      <td>57.79</td>\n",
       "      <td>70</td>\n",
       "      <td>100</td>\n",
       "      <td>24.96</td>\n",
       "      <td>NZ</td>\n",
       "      <td>1639810210</td>\n",
       "    </tr>\n",
       "    <tr>\n",
       "      <th>16</th>\n",
       "      <td>Hobart</td>\n",
       "      <td>-42.8794</td>\n",
       "      <td>147.3294</td>\n",
       "      <td>75.11</td>\n",
       "      <td>73.90</td>\n",
       "      <td>27</td>\n",
       "      <td>100</td>\n",
       "      <td>18.41</td>\n",
       "      <td>AU</td>\n",
       "      <td>1639810027</td>\n",
       "    </tr>\n",
       "  </tbody>\n",
       "</table>\n",
       "</div>"
      ],
      "text/plain": [
       "             City      Lat       Lng  Max temp    Temp  Humidity  Cloudiness  \\\n",
       "0        Matinhos -25.8175  -48.5428     75.65   75.65        87          92   \n",
       "5            Poum -20.2333  164.0167     78.64   78.64        71          78   \n",
       "6     João Câmara  -5.5375  -35.8197     78.04   78.04        86          17   \n",
       "9       Kununurra -15.7667  128.7333    103.98  103.98        33         100   \n",
       "10        Mataura -46.1927  168.8643     57.47   57.47        64          99   \n",
       "11  Mar del Plata -38.0023  -57.5575     65.08   65.03        92           0   \n",
       "14          Bluff -46.6000  168.3333     57.79   57.79        70         100   \n",
       "16         Hobart -42.8794  147.3294     75.11   73.90        27         100   \n",
       "\n",
       "    Windspeed Country        Date  \n",
       "0        2.59      BR  1639810206  \n",
       "5       13.02      NC  1639810208  \n",
       "6        8.90      BR  1639810208  \n",
       "9        5.75      AU  1639810209  \n",
       "10       5.32      NZ  1639810209  \n",
       "11       3.00      AR  1639810209  \n",
       "14      24.96      NZ  1639810210  \n",
       "16      18.41      AU  1639810027  "
      ]
     },
     "execution_count": 26,
     "metadata": {},
     "output_type": "execute_result"
    }
   ],
   "source": [
    "# Southern Hemisphere (less than 0 degrees latitude):\n",
    "sh_df = clean_city_data.loc[(clean_city_data['Lat'] <= 0),:]\n",
    "sh_df"
   ]
  },
  {
   "cell_type": "markdown",
   "metadata": {},
   "source": [
    "#### Northern Hemisphere - Max Temp vs. Latitude Linear Regression"
   ]
  },
  {
   "cell_type": "code",
   "execution_count": 32,
   "metadata": {
    "scrolled": true
   },
   "outputs": [
    {
     "name": "stdout",
     "output_type": "stream",
     "text": [
      "The correlation between both factors is -0.77\n",
      "The r-squared is: 0.5870280960216215\n"
     ]
    },
    {
     "data": {
      "image/png": "[encoded data removed]",
      "text/plain": [
       "<Figure size 432x288 with 1 Axes>"
      ]
     },
     "metadata": {
      "needs_background": "light"
     },
     "output_type": "display_data"
    }
   ],
   "source": [
    "# Northern Hemisphere (greater than or equal to 0 degrees latitude)\n",
    "x = nh_df['Lat'].astype('float')\n",
    "y = nh_df[\"Max temp\"].astype('float')\n",
    "\n",
    "def NorthLatTemp(x,y):\n",
    "\n",
    "    # Build a scatter plot for each data type\n",
    "    plt.scatter(x,y, marker=\"o\", facecolors=\"blue\", edgecolors=\"black\", alpha=0.75)\n",
    "\n",
    "    # Incorporate the other graph properties\n",
    "    plt.title(\"Northern Hemisphere Latitude vs Max Temperature\")\n",
    "    plt.ylabel(\"Max Temperature (F)\")\n",
    "    plt.xlabel(\"Latitude\")\n",
    "    plt.grid(True)\n",
    "\n",
    "    (slope, intercept, rvalue, pvalue, stderr) = linregress(x, y)\n",
    "\n",
    "    regress_values = x * slope + intercept\n",
    "    line_eq = \"y = \" + str(round(slope,2)) + \"x + \" + str(round(intercept,2))\n",
    "\n",
    "    plt.plot(x,regress_values,\"r-\")\n",
    "    plt.annotate(line_eq,(20,80),fontsize=15,color=\"red\")\n",
    "\n",
    "    plt.xlim(-10,85)\n",
    "    plt.ylim(-50,100)\n",
    "    correlation = st.pearsonr(x,y)\n",
    "    print(f\"The correlation between both factors is {round(correlation[0],2)}\")\n",
    "    print(f\"The r-squared is: {rvalue**2}\")\n",
    "    # Show plot\n",
    "    plt.show()\n",
    "    \n",
    "NorthLinReg(x,y)"
   ]
  },
  {
   "cell_type": "markdown",
   "metadata": {},
   "source": [
    "####  Southern Hemisphere - Max Temp vs. Latitude Linear Regression"
   ]
  },
  {
   "cell_type": "code",
   "execution_count": 33,
   "metadata": {
    "scrolled": true
   },
   "outputs": [
    {
     "name": "stdout",
     "output_type": "stream",
     "text": [
      "The correlation between both factors is 0.72\n",
      "The r-squared is: 0.524563375259929\n"
     ]
    },
    {
     "data": {
      "image/png": "[encoded data removed]",
      "text/plain": [
       "<Figure size 432x288 with 1 Axes>"
      ]
     },
     "metadata": {
      "needs_background": "light"
     },
     "output_type": "display_data"
    }
   ],
   "source": [
    "# Southern Hemisphere (greater than or equal to 0 degrees latitude)\n",
    "x = sh_df['Lat']\n",
    "y = sh_df[\"Max temp\"]\n",
    "\n",
    "def SouthLatTemp(x,y):\n",
    "\n",
    "    # Build a scatter plot for each data type\n",
    "    plt.scatter(x,y, marker=\"o\", facecolors=\"blue\", edgecolors=\"black\", alpha=0.75)\n",
    "\n",
    "    # Incorporate the other graph properties\n",
    "    plt.title(\"Southern Hemisphere Latitude vs Max Temperature\")\n",
    "    plt.ylabel(\"Max Temperature (F)\")\n",
    "    plt.xlabel(\"Latitude\")\n",
    "    plt.grid(True)\n",
    "\n",
    "    (slope, intercept, rvalue, pvalue, stderr) = linregress(x, y)\n",
    "    regress_values = x * slope + intercept\n",
    "    line_eq = \"y = \" + str(round(slope,2)) + \"x + \" + str(round(intercept,2))\n",
    "    plt.plot(x,regress_values,\"r-\")\n",
    "    plt.annotate(line_eq,(-45,90),fontsize=15,color=\"red\")\n",
    "\n",
    "    plt.xlim(-60,5)\n",
    "    plt.ylim(40,110)\n",
    "    correlation = st.pearsonr(x,y)\n",
    "    print(f\"The correlation between both factors is {round(correlation[0],2)}\")\n",
    "    print(f\"The r-squared is: {rvalue**2}\")\n",
    "    # Show plot\n",
    "    plt.show()\n",
    "    \n",
    "SouthLinReg(x,y)"
   ]
  },
  {
   "cell_type": "markdown",
   "metadata": {},
   "source": [
    "TASK: After each pair of plots, take the time to explain what the linear regression is modeling. For example, describe any relationships you notice and any other analysis you may have:"
   ]
  },
  {
   "cell_type": "markdown",
   "metadata": {},
   "source": [
    "Correlation is a measurement of the strength of the relationship between two variables and their association with each other. It takes values between -1 and 1. \n",
    "r-squared is how well the regression model fits the observed data and takes values between 0 and 1.\n",
    "Northern Hemisphere - Max Temp vs. Latitude Linear Regression scatter plot shows a high negative correlation of -0.84. This indicates as the temperature decreases as the latitude increases and vice versa. The r-squared of 0.70 shows a good fit to the data.\n",
    "Southern Hemisphere - Max Temp vs. Latitude Linear Regression scatter plot shows a moderate positive correlation of 0.43. This indicates as the temperature increases as the latitude increases. The r-squared of 0.19 shows a poor fit to the data."
   ]
  },
  {
   "cell_type": "markdown",
   "metadata": {},
   "source": []
  },
  {
   "cell_type": "markdown",
   "metadata": {},
   "source": [
    "####  Northern Hemisphere - Humidity (%) vs. Latitude Linear Regression"
   ]
  },
  {
   "cell_type": "code",
   "execution_count": 34,
   "metadata": {
    "scrolled": false
   },
   "outputs": [
    {
     "name": "stdout",
     "output_type": "stream",
     "text": [
      "The correlation between both factors is 0.33\n",
      "The r-squared is: 0.11191678612783161\n"
     ]
    },
    {
     "data": {
      "image/png": "[encoded data removed]",
      "text/plain": [
       "<Figure size 432x288 with 1 Axes>"
      ]
     },
     "metadata": {
      "needs_background": "light"
     },
     "output_type": "display_data"
    }
   ],
   "source": [
    "# Northern Hemisphere (greater than or equal to 0 degrees latitude)\n",
    "x = nh_df['Lat']\n",
    "y = nh_df[\"Humidity\"]\n",
    "\n",
    "def NorthLatHum(x,y):\n",
    "\n",
    "    # Build a scatter plot for each data type\n",
    "    plt.scatter(x,y, marker=\"o\", facecolors=\"blue\", edgecolors=\"black\", alpha=0.75)\n",
    "\n",
    "    # Incorporate the other graph properties\n",
    "    plt.title(\"Northern Hemisphere Latitude vs Humidity\")\n",
    "    plt.ylabel(\"Humidity\")\n",
    "    plt.xlabel(\"Latitude\")\n",
    "    plt.grid(True)\n",
    "\n",
    "    (slope, intercept, rvalue, pvalue, stderr) = linregress(x, y)\n",
    "    regress_values = x * slope + intercept\n",
    "    line_eq = \"y = \" + str(round(slope,2)) + \"x + \" + str(round(intercept,2))\n",
    "    plt.plot(x,regress_values,\"r-\")\n",
    "    plt.annotate(line_eq,(45,40),fontsize=15,color=\"red\")\n",
    "\n",
    "    plt.xlim(-5,85)\n",
    "    plt.ylim(5,110)\n",
    "    correlation = st.pearsonr(x,y)\n",
    "    print(f\"The correlation between both factors is {round(correlation[0],2)}\")\n",
    "    print(f\"The r-squared is: {rvalue**2}\")\n",
    "    # Show plot\n",
    "    plt.show()\n",
    "\n",
    "NorthLatHum(x,y)"
   ]
  },
  {
   "cell_type": "markdown",
   "metadata": {},
   "source": [
    "####  Southern Hemisphere - Humidity (%) vs. Latitude Linear Regression"
   ]
  },
  {
   "cell_type": "code",
   "execution_count": 24,
   "metadata": {},
   "outputs": [
    {
     "name": "stdout",
     "output_type": "stream",
     "text": [
      "The correlation between both factors is 0.16\n",
      "The r-squared is: 0.024755355094969376\n"
     ]
    },
    {
     "data": {
      "image/png": "[encoded data removed]",
      "text/plain": [
       "<Figure size 432x288 with 1 Axes>"
      ]
     },
     "metadata": {
      "needs_background": "light"
     },
     "output_type": "display_data"
    }
   ],
   "source": [
    "# Southern Hemisphere (greater than or equal to 0 degrees latitude)\n",
    "x = sh_df['Lat']\n",
    "y = sh_df[\"Humidity\"]\n",
    "\n",
    "def SouthLatHum(x,y):\n",
    "\n",
    "    # Build a scatter plot for each data type\n",
    "    plt.scatter(x,y, marker=\"o\", facecolors=\"blue\", edgecolors=\"black\", alpha=0.75)\n",
    "\n",
    "    # Incorporate the other graph properties\n",
    "    plt.title(\"Southern Hemisphere Latitude vs Humidity\")\n",
    "    plt.xlabel(\"Latitude\")\n",
    "    plt.ylabel(\"Humidity\")\n",
    "\n",
    "    plt.grid(True)\n",
    "\n",
    "    (slope, intercept, rvalue, pvalue, stderr) = linregress(x, y)\n",
    "    regress_values = x * slope + intercept\n",
    "    line_eq = \"y = \" + str(round(slope,2)) + \"x + \" + str(round(intercept,2))\n",
    "    plt.plot(x,regress_values,\"r-\")\n",
    "    plt.annotate(line_eq,(-38,35),fontsize=15,color=\"red\")\n",
    "    plt.xlim(-60,1)\n",
    "    plt.ylim(1,110)\n",
    "    correlation = st.pearsonr(x,y)\n",
    "    print(f\"The correlation between both factors is {round(correlation[0],2)}\")\n",
    "    print(f\"The r-squared is: {rvalue**2}\")\n",
    "    # Show plot\n",
    "    plt.show()\n",
    "\n",
    "SouthLatHum(x,y)"
   ]
  },
  {
   "cell_type": "markdown",
   "metadata": {},
   "source": [
    "TASK: After each pair of plots, take the time to explain what the linear regression is modeling. For example, describe any relationships you notice and any other analysis you may have:"
   ]
  },
  {
   "cell_type": "markdown",
   "metadata": {},
   "source": [
    "Correlation is a measurement of the strength of the relationship between two variables and their association with each other. It takes values between -1 and 1. \n",
    "r-squared is how well the regression model fits the observed data and takes values between 0 and 1.\n",
    "Northern Hemisphere - Humidity vs. Latitude Linear Regression scatter plot shows a moderate positive correlation of 0.34. This indicates as the humidity increases as the latitude increases. The r-squared of 0.12 shows a poor fit to the data.\n",
    "Southern Hemisphere - Humidity vs. Latitude Linear Regression scatter plot shows a moderate positive correlation of 0.42. This indicates as the humidity increases as the latitude increases. The r-squared of 0.18 shows a poor fit to the data."
   ]
  },
  {
   "cell_type": "markdown",
   "metadata": {},
   "source": [
    "####  Northern Hemisphere - Cloudiness (%) vs. Latitude Linear Regression"
   ]
  },
  {
   "cell_type": "code",
   "execution_count": 35,
   "metadata": {},
   "outputs": [
    {
     "name": "stdout",
     "output_type": "stream",
     "text": [
      "The correlation between both factors is 0.63\n",
      "The r-squared is: 0.3967632778731555\n"
     ]
    },
    {
     "data": {
      "image/png": "[encoded data removed]",
      "text/plain": [
       "<Figure size 432x288 with 1 Axes>"
      ]
     },
     "metadata": {
      "needs_background": "light"
     },
     "output_type": "display_data"
    }
   ],
   "source": [
    "# Northern Hemisphere (greater than or equal to 0 degrees latitude)\n",
    "x = nh_df['Lat']\n",
    "y = nh_df[\"Cloudiness\"]\n",
    "\n",
    "def NorthLatCloud(x,y):\n",
    "\n",
    "    # Build a scatter plot for each data type\n",
    "    plt.scatter(x,y, marker=\"o\", facecolors=\"blue\", edgecolors=\"black\", alpha=0.75)\n",
    "\n",
    "    # Incorporate the other graph properties\n",
    "    plt.title(\"Northern Hemisphere Latitude vs Cloudiness\")\n",
    "    plt.xlabel(\"Latitude\")\n",
    "    plt.ylabel(\"Cloudiness\")\n",
    "\n",
    "    plt.grid(True)\n",
    "\n",
    "    (slope, intercept, rvalue, pvalue, stderr) = linregress(x, y)\n",
    "    regress_values = x * slope + intercept\n",
    "    line_eq = \"y = \" + str(round(slope,2)) + \"x + \" + str(round(intercept,2))\n",
    "    plt.plot(x,regress_values,\"r-\")\n",
    "    plt.annotate(line_eq,(30,30),fontsize=15,color=\"red\")\n",
    "    plt.xlim(-5,85)\n",
    "    plt.ylim(-5,105)\n",
    "    correlation = st.pearsonr(x,y)\n",
    "    print(f\"The correlation between both factors is {round(correlation[0],2)}\")\n",
    "    print(f\"The r-squared is: {rvalue**2}\")\n",
    "    # Show plot\n",
    "    plt.show()\n",
    "\n",
    "NorthLatCloud(x,y)"
   ]
  },
  {
   "cell_type": "markdown",
   "metadata": {},
   "source": [
    "####  Southern Hemisphere - Cloudiness (%) vs. Latitude Linear Regression"
   ]
  },
  {
   "cell_type": "code",
   "execution_count": 36,
   "metadata": {
    "scrolled": true
   },
   "outputs": [
    {
     "name": "stdout",
     "output_type": "stream",
     "text": [
      "The correlation between both factors is -0.34\n",
      "The r-squared is: 0.1126957016120338\n"
     ]
    },
    {
     "data": {
      "image/png": "[encoded data removed]",
      "text/plain": [
       "<Figure size 432x288 with 1 Axes>"
      ]
     },
     "metadata": {
      "needs_background": "light"
     },
     "output_type": "display_data"
    }
   ],
   "source": [
    "# Southern Hemisphere (greater than or equal to 0 degrees latitude)\n",
    "x = sh_df['Lat']\n",
    "y = sh_df[\"Cloudiness\"]\n",
    "\n",
    "def SouthLatCloud(x,y):\n",
    "\n",
    "    # Build a scatter plot for each data type\n",
    "    plt.scatter(x,y, marker=\"o\", facecolors=\"blue\", edgecolors=\"black\", alpha=0.75)\n",
    "\n",
    "    # Incorporate the other graph properties\n",
    "    plt.title(\"Southern Hemisphere Latitude vs Cloudiness\")\n",
    "    plt.xlabel(\"Latitude\")\n",
    "    plt.ylabel(\"Cloudiness\")\n",
    "\n",
    "    plt.grid(True)\n",
    "\n",
    "    (slope, intercept, rvalue, pvalue, stderr) = linregress(x, y)\n",
    "    regress_values = x * slope + intercept\n",
    "    line_eq = \"y = \" + str(round(slope,2)) + \"x + \" + str(round(intercept,2))\n",
    "    plt.plot(x,regress_values,\"r-\")\n",
    "    plt.annotate(line_eq,(-30,20),fontsize=15,color=\"red\")\n",
    "    plt.xlim(-50,5)\n",
    "    plt.ylim(-5,115)\n",
    "    correlation = st.pearsonr(x,y)\n",
    "    print(f\"The correlation between both factors is {round(correlation[0],2)}\")\n",
    "    print(f\"The r-squared is: {rvalue**2}\")\n",
    "    # Show plot\n",
    "    plt.show()\n",
    "\n",
    "SouthLatCloud(x,y)"
   ]
  },
  {
   "cell_type": "markdown",
   "metadata": {},
   "source": [
    "TASK: After each pair of plots, take the time to explain what the linear regression is modeling. For example, describe any relationships you notice and any other analysis you may have:"
   ]
  },
  {
   "cell_type": "markdown",
   "metadata": {},
   "source": [
    "Correlation is a measurement of the strength of the relationship between two variables and their association with each other. It takes values between -1 and 1. \n",
    "r-squared is how well the regression model fits the observed data and takes values between 0 and 1.\n",
    "Northern Hemisphere - Cloudiness vs. Latitude Linear Regression scatter plot shows a low positive correlation of 0.19. This indicates as the cloudiness increases slightly as the latitude increases. The r-squared of 0.04 shows a poor fit to the data.\n",
    "Southern Hemisphere - Cloudiness vs. Latitude Linear Regression scatter plot shows a moderate positive correlation of 0.45. This indicates as the cloudiness increases as the latitude increases. The r-squared of 0.20 shows a low fit to the data."
   ]
  },
  {
   "cell_type": "markdown",
   "metadata": {},
   "source": [
    "####  Northern Hemisphere - Wind Speed (mph) vs. Latitude Linear Regression"
   ]
  },
  {
   "cell_type": "code",
   "execution_count": 38,
   "metadata": {},
   "outputs": [
    {
     "name": "stdout",
     "output_type": "stream",
     "text": [
      "The correlation between both factors is 0.24\n",
      "The r-squared is: 0.05778777826291119\n"
     ]
    },
    {
     "data": {
      "image/png": "[encoded data removed]",
      "text/plain": [
       "<Figure size 432x288 with 1 Axes>"
      ]
     },
     "metadata": {
      "needs_background": "light"
     },
     "output_type": "display_data"
    }
   ],
   "source": [
    "# Northern Hemisphere (greater than or equal to 0 degrees latitude)\n",
    "x = nh_df['Lat']\n",
    "y = nh_df[\"Windspeed\"]\n",
    "\n",
    "def NorthLatWind(x,y):\n",
    "\n",
    "    # Build a scatter plot for each data type\n",
    "    plt.scatter(x,y, marker=\"o\", facecolors=\"blue\", edgecolors=\"black\", alpha=0.75)\n",
    "\n",
    "    # Incorporate the other graph properties\n",
    "    plt.title(\"Northern Hemisphere Latitude vs Wind Speed\")\n",
    "    plt.ylabel(\"Wind Speed\")\n",
    "    plt.xlabel(\"Latitude\")\n",
    "    plt.grid(True)\n",
    "\n",
    "    plt.xlim(-1,80)\n",
    "    plt.ylim(-1,35)\n",
    "\n",
    "    (slope, intercept, rvalue, pvalue, stderr) = linregress(x, y)\n",
    "    regress_values = x * slope + intercept\n",
    "    line_eq = \"y = \" + str(round(slope,2)) + \"x + \" + str(round(intercept,2))\n",
    "    plt.plot(x,regress_values,\"r-\")\n",
    "    plt.annotate(line_eq,(10,26),fontsize=15,color=\"red\")\n",
    "    correlation = st.pearsonr(x,y)\n",
    "    print(f\"The correlation between both factors is {round(correlation[0],2)}\")\n",
    "    print(f\"The r-squared is: {rvalue**2}\")\n",
    "    # Show plot\n",
    "    plt.show()\n",
    "\n",
    "NorthLatWind(x,y)"
   ]
  },
  {
   "cell_type": "markdown",
   "metadata": {},
   "source": [
    "####  Southern Hemisphere - Wind Speed (mph) vs. Latitude Linear Regression"
   ]
  },
  {
   "cell_type": "code",
   "execution_count": 39,
   "metadata": {},
   "outputs": [
    {
     "name": "stdout",
     "output_type": "stream",
     "text": [
      "The correlation between both factors is -0.36\n",
      "The r-squared is: 0.13039736787205644\n"
     ]
    },
    {
     "data": {
      "image/png": "[encoded data removed]",
      "text/plain": [
       "<Figure size 432x288 with 1 Axes>"
      ]
     },
     "metadata": {
      "needs_background": "light"
     },
     "output_type": "display_data"
    }
   ],
   "source": [
    "# Southern Hemisphere (greater than or equal to 0 degrees latitude)\n",
    "x = sh_df['Lat']\n",
    "y = sh_df[\"Windspeed\"]\n",
    "\n",
    "def SouthLatWind(x,y):\n",
    "\n",
    "    # Build a scatter plot for each data type\n",
    "    plt.scatter(x,y, marker=\"o\", facecolors=\"blue\", edgecolors=\"black\", alpha=0.75)\n",
    "\n",
    "    plt.xlim(-50,1)\n",
    "    plt.ylim(0,28)\n",
    "\n",
    "    # Incorporate the other graph properties\n",
    "    plt.title(\"Southern Hemisphere Latitude vs Wind Speed\")\n",
    "    plt.ylabel(\"Wind Speed\")\n",
    "    plt.xlabel(\"Latitude\")\n",
    "    plt.grid(True)\n",
    "\n",
    "    (slope, intercept, rvalue, pvalue, stderr) = linregress(x, y)\n",
    "    regress_values = x * slope + intercept\n",
    "    line_eq = \"y = \" + str(round(slope,2)) + \"x + \" + str(round(intercept,2))\n",
    "    plt.plot(x,regress_values,\"r-\")\n",
    "    plt.annotate(line_eq,(-35,20),fontsize=15,color=\"red\")\n",
    "    correlation = st.pearsonr(x,y)\n",
    "    print(f\"The correlation between both factors is {round(correlation[0],2)}\")\n",
    "    print(f\"The r-squared is: {rvalue**2}\")\n",
    "    # Show plot\n",
    "    plt.show()\n",
    "    \n",
    "SouthLatWind(x,y)"
   ]
  },
  {
   "cell_type": "markdown",
   "metadata": {},
   "source": [
    "TASK: After each pair of plots, take the time to explain what the linear regression is modeling. For example, describe any relationships you notice and any other analysis you may have:"
   ]
  },
  {
   "cell_type": "markdown",
   "metadata": {},
   "source": [
    "Correlation is a measurement of the strength of the relationship between two variables and their association with each other. It takes values between -1 and 1. \n",
    "r-squared is how well the regression model fits the observed data and takes values between 0 and 1.\n",
    "Northern Hemisphere - Wind Speed vs. Latitude Linear Regression scatter plot shows a low positive correlation of 0.04. This indicates as the windspeed increases slightly as the latitude increases. The r-squared of 0.001 shows a very poor fit to the data.\n",
    "Southern Hemisphere - Wind Speed vs. Latitude Linear Regression scatter plot shows a moderate negative correlation of -0.39. This indicates as the windspeed decreases as the latitude increases and vice versa. The r-squared of 0.15 shows a poor fit to the data."
   ]
  },
  {
   "cell_type": "code",
   "execution_count": null,
   "metadata": {},
   "outputs": [],
   "source": []
  }
 ],
 "metadata": {
  "anaconda-cloud": {},
  "kernel_info": {
   "name": "python3"
  },
  "kernelspec": {
   "display_name": "Python 3",
   "language": "python",
   "name": "python3"
  },
  "language_info": {
   "codemirror_mode": {
    "name": "ipython",
    "version": 3
   },
   "file_extension": ".py",
   "mimetype": "text/x-python",
   "name": "python",
   "nbconvert_exporter": "python",
   "pygments_lexer": "ipython3",
   "version": "3.8.8"
  },
  "latex_envs": {
   "LaTeX_envs_menu_present": true,
   "autoclose": false,
   "autocomplete": true,
   "bibliofile": "biblio.bib",
   "cite_by": "apalike",
   "current_citInitial": 1,
   "eqLabelWithNumbers": true,
   "eqNumInitial": 1,
   "hotkeys": {
    "equation": "Ctrl-E",
    "itemize": "Ctrl-I"
   },
   "labels_anchors": false,
   "latex_user_defs": false,
   "report_style_numbering": false,
   "user_envs_cfg": false
  },
  "nteract": {
   "version": "0.12.3"
  }
 },
 "nbformat": 4,
 "nbformat_minor": 2
}
